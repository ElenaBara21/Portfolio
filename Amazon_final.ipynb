{
  "nbformat": 4,
  "nbformat_minor": 0,
  "metadata": {
    "colab": {
      "provenance": [],
      "authorship_tag": "ABX9TyMZoLUnmhwCXIeY8O1/z1CV",
      "include_colab_link": true
    },
    "kernelspec": {
      "name": "python3",
      "display_name": "Python 3"
    },
    "language_info": {
      "name": "python"
    }
  },
  "cells": [
    {
      "cell_type": "markdown",
      "metadata": {
        "id": "view-in-github",
        "colab_type": "text"
      },
      "source": [
        "<a href=\"https://colab.research.google.com/github/ElenaBara21/Portfolio/blob/main/Amazon_final.ipynb\" target=\"_parent\"><img src=\"https://colab.research.google.com/assets/colab-badge.svg\" alt=\"Open In Colab\"/></a>"
      ]
    },
    {
      "cell_type": "markdown",
      "source": [
        "#Amazon project - Collagen\n",
        "\n",
        "The most common types of collagen used in supplements are:\n",
        "* Type I\n",
        "* Type II\n",
        "* Type III\n",
        "* Type V\n",
        "* Type X\n",
        "\n",
        "These collagen types come in three different forms: \n",
        "* Hydrolyzed collagen (collagen peptides, collagen powder, collagen hydrolysate and hydrolyzed gelatin),\n",
        "* gelatin and undenatured type II collagen (UC-II).\n",
        "\n",
        "Collagen supplement ingredients come from a variety of sources: \n",
        "* Bovine collagen made from cows contains types I & III.\n",
        "* Marine collagen made from fish contains type I & II. * Poultry collagen made from chickens contains type II and eggshell membrane collagen contains types I & V.\n",
        "* We are interested in Type II, collagen is found in both marine and chicken products. People with allergies to fish or chicken should consult their doctor before taking supplements containing type II collagen."
      ],
      "metadata": {
        "id": "hZ2XsdTJaEnO"
      }
    },
    {
      "cell_type": "markdown",
      "source": [
        "from pandas.api.types import CategoricalDtype\n",
        "## Data Description\n",
        "* **Product**\n",
        "* **brand**\n",
        "* **Price_AED**\n",
        "* **Sales**- quantity sold\n",
        "* **Revenue** - quantity_sold x price_aed\n",
        "* **Fees_AED**- FBA fee+ referral fee\n",
        "* **Active_Seller** - number of active sellers\n",
        "* **Ratings** - amazon sale rating\n",
        "* **Review_Count**- total number of reviews\n",
        "* **Images**- \n",
        "* **Dimensions**\n",
        "* **Weight**\n",
        "* **Creation_Date**\n",
        "* **Category**\n",
        "* **Review_velocity**-change in review count in the last 30 days\n",
        "* **Buy_Box**- buy box owner,Each product page has a ‘Buy Now’ button on the right side, adjacent to the product image and description, with a hierarchal list of other buyers listed below. Sometimes, this coveted spot is based on past sales history, and sometimes it’s rotated between sellers.Amazon decides who earns the Buy Box position, but using Helium 10 tools to more effectively increase visibility and sales can help a merchant gain the buy box position. If you sell unique products under a private label, you are the most likely to have the buy box because no one else is selling the same product.\n",
        "* **Size_tier**-это категория, в которую попадает товар на Amazon в зависимости от его размера и веса: Large Envelope, Standard Envelope, Standard Parcel\n",
        "* **Fullfilment** - AMZ=FBA FBA stands for Fulfillment by Amazon. It is a program offered by Amazon that allows sellers to store their products in Amazon's fulfillment centers. MFN stands for Merchant Fulfilled Network. It refers to a method of fulfilling orders on Amazon where the seller handles the entire fulfillment process themselves. In this case, the seller stores the products in their own facilities and is responsible for packaging, shipping, and customer service.\n",
        "* **BSR** - BSR – Best Seller Rank.Amazon tracks and publicizes its best-selling products to drive sales. Every product sold on Amazon is ranked by Amazon in at least one category, and often in several sub-categories. Ranking affects where and when products appear in a customer’s organic search. Most sellers try to rank high enough to be on the first results page of a customer search.\n",
        "\n",
        "\n",
        "***Buy Box (англ. Buy Box) - это блок на странице товара на Amazon, в котором покупатель может нажать на кнопку \"Купить сейчас\" и сделать покупку у конкретного продавца. Он находится в правой части страницы товара, рядом с ценой и другими деталями товара. В Buy Box отображается один продавец, но Amazon может показывать разных продавцов на этом месте, основываясь на различных факторах, таких как цена, рейтинг продавца, наличие товара, и другие. Обладание Buy Box очень важно для продавцов, так как это позволяет им получать больше продаж на Amazon.\n",
        "\n"
      ],
      "metadata": {
        "id": "qpIyRNDHYEhC"
      }
    },
    {
      "cell_type": "markdown",
      "source": [
        "### Import libraries"
      ],
      "metadata": {
        "id": "CrFdDTaoa2tZ"
      }
    },
    {
      "cell_type": "code",
      "source": [
        "# import libraries for data manipulation\n",
        "import numpy as np\n",
        "import pandas as pd\n",
        "\n",
        "# import libraries for data visualization\n",
        "import matplotlib.pyplot as plt\n",
        "import seaborn as sns\n",
        "# library\n",
        "import seaborn as sns\n",
        "import pandas as pd\n",
        "import numpy as np\n"
      ],
      "metadata": {
        "id": "VriZIdjbbiDU"
      },
      "execution_count": 213,
      "outputs": []
    },
    {
      "cell_type": "code",
      "source": [
        "def histogram_boxplot(data, feature, figsize=(15, 10), kde=False, bins=None):\n",
        "    \"\"\"\n",
        "    Boxplot and histogram combined\n",
        "\n",
        "    data: dataframe\n",
        "    feature: dataframe column\n",
        "    figsize: size of figure (default (15,10))\n",
        "    kde: whether to show the density curve (default False)\n",
        "    bins: number of bins for histogram (default None)\n",
        "    \"\"\"\n",
        "    f2, (ax_box2, ax_hist2) = plt.subplots(\n",
        "        nrows=2,  # Number of rows of the subplot grid= 2\n",
        "        sharex=True,  # x-axis will be shared among all subplots\n",
        "        gridspec_kw={\"height_ratios\": (0.25, 0.75)},\n",
        "        figsize=figsize,\n",
        "    )  # creating the 2 subplots\n",
        "    sns.boxplot(\n",
        "        data=data, x=feature, ax=ax_box2, showmeans=True, color=\"violet\"\n",
        "    )  # boxplot will be created and a triangle will indicate the mean value of the column\n",
        "    sns.histplot(\n",
        "        data=data, x=feature, kde=kde, ax=ax_hist2, bins=bins\n",
        "    ) if bins else sns.histplot(\n",
        "        data=data, x=feature, kde=kde, ax=ax_hist2\n",
        "    )  # For histogram\n",
        "    ax_hist2.axvline(\n",
        "        data[feature].mean(), color=\"green\", linestyle=\"--\"\n",
        "    )  # Add mean to the histogram\n",
        "    ax_hist2.axvline(\n",
        "        data[feature].median(), color=\"black\", linestyle=\"-\"\n",
        "    )  # Add median to the histogram"
      ],
      "metadata": {
        "id": "C7SNPLJZpJh6"
      },
      "execution_count": 214,
      "outputs": []
    },
    {
      "cell_type": "code",
      "source": [
        "# function to create labeled barplots\n",
        "\n",
        "\n",
        "def labeled_barplot(data, feature, perc=False, n=None):\n",
        "    \"\"\"\n",
        "    Barplot with percentage at the top\n",
        "\n",
        "    data: dataframe\n",
        "    feature: dataframe column\n",
        "    perc: whether to display percentages instead of count (default is False)\n",
        "    n: displays the top n category levels (default is None, i.e., display all levels)\n",
        "    \"\"\"\n",
        "\n",
        "    total = len(data[feature])  # length of the column\n",
        "    count = data[feature].nunique()\n",
        "    if n is None:\n",
        "        plt.figure(figsize=(count + 2, 6))\n",
        "    else:\n",
        "        plt.figure(figsize=(n + 2, 6))\n",
        "\n",
        "    plt.xticks(rotation=90, fontsize=15)\n",
        "    ax = sns.countplot(\n",
        "        data=data,\n",
        "        x=feature,\n",
        "        palette=\"Paired\",\n",
        "        order=data[feature].value_counts().index[:n],\n",
        "    )\n",
        "\n",
        "    for p in ax.patches:\n",
        "        if perc == True:\n",
        "            label = \"{:.1f}%\".format(\n",
        "                100 * p.get_height() / total\n",
        "            )  # percentage of each class of the category\n",
        "        else:\n",
        "            label = p.get_height()  # count of each level of the category\n",
        "\n",
        "        x = p.get_x() + p.get_width() / 2  # width of the plot\n",
        "        y = p.get_height()  # height of the plot\n",
        "\n",
        "        ax.annotate(\n",
        "            label,\n",
        "            (x, y),\n",
        "            ha=\"center\",\n",
        "            va=\"center\",\n",
        "            size=12,\n",
        "            xytext=(0, 5),\n",
        "            textcoords=\"offset points\",\n",
        "        )  # annotate the percentage\n",
        "\n",
        "    plt.show()  # show the plot"
      ],
      "metadata": {
        "id": "dDub4KF6qyAh"
      },
      "execution_count": 215,
      "outputs": []
    },
    {
      "cell_type": "code",
      "source": [
        "def stacked_barplot(data, predictor, target):\n",
        "    \"\"\"\n",
        "    Print the category counts and plot a stacked bar chart\n",
        "\n",
        "    data: dataframe\n",
        "    predictor: independent variable\n",
        "    target: target variable\n",
        "    \"\"\"\n",
        "    count = data[predictor].nunique()\n",
        "    sorter = data[target].value_counts().index[-1]\n",
        "    tab1 = pd.crosstab(data[predictor], data[target], margins=True).sort_values(\n",
        "        by=sorter, ascending=False\n",
        "    )\n",
        "    print(tab1)\n",
        "    print(\"-\" * 120)\n",
        "    tab = pd.crosstab(data[predictor], data[target], normalize=\"index\").sort_values(\n",
        "        by=sorter, ascending=False\n",
        "    )\n",
        "    tab.plot(kind=\"bar\", stacked=True, figsize=(count + 5, 5))\n",
        "    plt.legend(\n",
        "        loc=\"lower left\",\n",
        "        frameon=False,\n",
        "    )\n",
        "    plt.legend(loc=\"upper left\", bbox_to_anchor=(1, 1))\n",
        "    plt.show()"
      ],
      "metadata": {
        "id": "ipbs9l9lqyAj"
      },
      "execution_count": 216,
      "outputs": []
    },
    {
      "cell_type": "code",
      "source": [
        "### function to plot distributions wrt target\n",
        "\n",
        "\n",
        "def distribution_plot_wrt_target(data, predictor, target):\n",
        "\n",
        "    fig, axs = plt.subplots(2, 2, figsize=(12, 10))\n",
        "\n",
        "    target_uniq = data[target].unique()\n",
        "\n",
        "    axs[0, 0].set_title(\"Distribution of target for target=\" + str(target_uniq[0]))\n",
        "    sns.histplot(\n",
        "        data=data[data[target] == target_uniq[0]],\n",
        "        x=predictor,\n",
        "        kde=True,\n",
        "        ax=axs[0, 0],\n",
        "        color=\"teal\",\n",
        "        stat=\"density\",\n",
        "    )\n",
        "\n",
        "    axs[0, 1].set_title(\"Distribution of target for target=\" + str(target_uniq[1]))\n",
        "    sns.histplot(\n",
        "        data=data[data[target] == target_uniq[1]],\n",
        "        x=predictor,\n",
        "        kde=True,\n",
        "        ax=axs[0, 1],\n",
        "        color=\"orange\",\n",
        "        stat=\"density\",\n",
        "    )\n",
        "\n",
        "    axs[1, 0].set_title(\"Boxplot w.r.t target\")\n",
        "    sns.boxplot(data=data, x=target, y=predictor, ax=axs[1, 0], palette=\"gist_rainbow\")\n",
        "\n",
        "    axs[1, 1].set_title(\"Boxplot (without outliers) w.r.t target\")\n",
        "    sns.boxplot(\n",
        "        data=data,\n",
        "        x=target,\n",
        "        y=predictor,\n",
        "        ax=axs[1, 1],\n",
        "        showfliers=False,\n",
        "        palette=\"gist_rainbow\",\n",
        "    )\n",
        "\n",
        "    plt.tight_layout()\n",
        "    plt.show()"
      ],
      "metadata": {
        "id": "EoS3fjEOqyAk"
      },
      "execution_count": 217,
      "outputs": []
    },
    {
      "cell_type": "code",
      "source": [
        "df = pd.read_csv('Helium_10_Xray_2023-05-08.csv')"
      ],
      "metadata": {
        "id": "vmCMBloZdy-2"
      },
      "execution_count": 218,
      "outputs": []
    },
    {
      "cell_type": "markdown",
      "source": [
        "### Создаем копию  документа, чтоб не потерять данных"
      ],
      "metadata": {
        "id": "hsr04sgab9Up"
      }
    },
    {
      "cell_type": "code",
      "source": [
        "df1=df.copy()"
      ],
      "metadata": {
        "id": "58VpgcYglEhH"
      },
      "execution_count": 219,
      "outputs": []
    },
    {
      "cell_type": "markdown",
      "source": [
        "### Смотрим первые 5 строк "
      ],
      "metadata": {
        "id": "1-7WyjUecI3R"
      }
    },
    {
      "cell_type": "code",
      "source": [
        "df1.head()"
      ],
      "metadata": {
        "colab": {
          "base_uri": "https://localhost:8080/",
          "height": 1000
        },
        "id": "rTANQuIQcCzw",
        "outputId": "e0ef278c-c122-4a55-d407-5f822144fd93"
      },
      "execution_count": 220,
      "outputs": [
        {
          "output_type": "execute_result",
          "data": {
            "text/plain": [
              "                                                                                                                                                                                              Product Details  \\\n",
              "0  ($) Nutrili Marine Collagen Shots (20) | Hair, Skin & Nails | 10g Marine Collagen, Hyaluronic Acid, Biotin & Vitamin C                                                                                       \n",
              "1  ($) Swisse Beauty Collagen Glow Powder with 2500mg Hydrolised Collagen (Purest Form) and Grape Seed Extract To Boost Skin Elasticity & Firmness For a Younger Looking Skin | 20 Servings | For Men & Women   \n",
              "2  ($) Snaktive Collagen Chocolate - 6x40g bars                                                                                                                                                                 \n",
              "3  Youtheory Collagen Advanced with Vitamin C, 120 Count (1 Bottle)                                                                                                                                             \n",
              "4  Neocell Super Collagen PlUS C - 250 Tablets                                                                                                                                                                  \n",
              "\n",
              "         ASIN                                        URL  \\\n",
              "0  B09YD7RHC2  https://www.amazon.ae/dp/B09YD7RHC2?psc=1   \n",
              "1  B08NDYTG3D  https://www.amazon.ae/dp/B08NDYTG3D?psc=1   \n",
              "2  B0B9SWK8XQ  https://www.amazon.ae/dp/B0B9SWK8XQ?psc=1   \n",
              "3  B006VAZYLS  https://www.amazon.ae/dp/B006VAZYLS?psc=1   \n",
              "4  B00028NGEC  https://www.amazon.ae/dp/B00028NGEC?psc=1   \n",
              "\n",
              "                                                        Image URL      Brand  \\\n",
              "0  https://m.media-amazon.com/images/I/61asHjsoyPL._AC_SX679_.jpg  Nutrili     \n",
              "1  https://m.media-amazon.com/images/I/71VnTFRUH4L._AC_SX522_.jpg  Swisse      \n",
              "2  https://m.media-amazon.com/images/I/61Id91ioPEL._AC_SX466_.jpg  SNAKTIVE    \n",
              "3  https://m.media-amazon.com/images/I/71m5dU+vK4L._AC_SY450_.jpg  Youtheory   \n",
              "4  https://m.media-amazon.com/images/I/71TDUkdGRZL._AC_SY450_.jpg  Neocell     \n",
              "\n",
              "   Price AED  Sales    Revenue     BSR  Fees AED  Active Sellers #  Ratings  \\\n",
              "0  295.00     88.0   25,960.00  811     52.75     1                 4.6       \n",
              "1  144.00     5.0    720        23,351  29.60     1                 4.9       \n",
              "2  60.00      4.0    240        26,620  16.50     1                 5.0       \n",
              "3  60.37      89.0   5,372.93   753     17.00     8                 4.5       \n",
              "4  135.00     542.0  73,170.00  200     28.25     2                 4.4       \n",
              "\n",
              "  Review Count  Images  Review velocity                    Buy Box Category  \\\n",
              "0  26           11      4                nutrili                    Health    \n",
              "1  9            3       0                Pattern MENA               Health    \n",
              "2  2            4       0                Le Chocolat LLC            Health    \n",
              "3  4,676        9       88               NBL General Trading L.L.C  Health    \n",
              "4  18,342       14      140              Amazon                     Health    \n",
              "\n",
              "         Size Tier Fulfillment   Dimensions  Weight Creation Date  \n",
              "0  Standard Parcel  FBA         4.4x3.4x4.6  1.72    4/20/2022     \n",
              "1  Standard Parcel  FBA         2.8x2.7x4.9  0.37    NaN           \n",
              "2  Large Envelope   FBA         1.8x5.1x2.8  0.55    NaN           \n",
              "3  Standard Parcel  FBA         3.1x3.0x3.6  0.42    NaN           \n",
              "4  Standard Parcel  AMZ         3.1x2.8x5.3  0.66    03/06/2019    "
            ],
            "text/html": [
              "\n",
              "  <div id=\"df-047e9c34-9606-4898-98b8-ddde54540f23\">\n",
              "    <div class=\"colab-df-container\">\n",
              "      <div>\n",
              "<style scoped>\n",
              "    .dataframe tbody tr th:only-of-type {\n",
              "        vertical-align: middle;\n",
              "    }\n",
              "\n",
              "    .dataframe tbody tr th {\n",
              "        vertical-align: top;\n",
              "    }\n",
              "\n",
              "    .dataframe thead th {\n",
              "        text-align: right;\n",
              "    }\n",
              "</style>\n",
              "<table border=\"1\" class=\"dataframe\">\n",
              "  <thead>\n",
              "    <tr style=\"text-align: right;\">\n",
              "      <th></th>\n",
              "      <th>Product Details</th>\n",
              "      <th>ASIN</th>\n",
              "      <th>URL</th>\n",
              "      <th>Image URL</th>\n",
              "      <th>Brand</th>\n",
              "      <th>Price AED</th>\n",
              "      <th>Sales</th>\n",
              "      <th>Revenue</th>\n",
              "      <th>BSR</th>\n",
              "      <th>Fees AED</th>\n",
              "      <th>Active Sellers #</th>\n",
              "      <th>Ratings</th>\n",
              "      <th>Review Count</th>\n",
              "      <th>Images</th>\n",
              "      <th>Review velocity</th>\n",
              "      <th>Buy Box</th>\n",
              "      <th>Category</th>\n",
              "      <th>Size Tier</th>\n",
              "      <th>Fulfillment</th>\n",
              "      <th>Dimensions</th>\n",
              "      <th>Weight</th>\n",
              "      <th>Creation Date</th>\n",
              "    </tr>\n",
              "  </thead>\n",
              "  <tbody>\n",
              "    <tr>\n",
              "      <th>0</th>\n",
              "      <td>($) Nutrili Marine Collagen Shots (20) | Hair, Skin &amp; Nails | 10g Marine Collagen, Hyaluronic Acid, Biotin &amp; Vitamin C</td>\n",
              "      <td>B09YD7RHC2</td>\n",
              "      <td>https://www.amazon.ae/dp/B09YD7RHC2?psc=1</td>\n",
              "      <td>https://m.media-amazon.com/images/I/61asHjsoyPL._AC_SX679_.jpg</td>\n",
              "      <td>Nutrili</td>\n",
              "      <td>295.00</td>\n",
              "      <td>88.0</td>\n",
              "      <td>25,960.00</td>\n",
              "      <td>811</td>\n",
              "      <td>52.75</td>\n",
              "      <td>1</td>\n",
              "      <td>4.6</td>\n",
              "      <td>26</td>\n",
              "      <td>11</td>\n",
              "      <td>4</td>\n",
              "      <td>nutrili</td>\n",
              "      <td>Health</td>\n",
              "      <td>Standard Parcel</td>\n",
              "      <td>FBA</td>\n",
              "      <td>4.4x3.4x4.6</td>\n",
              "      <td>1.72</td>\n",
              "      <td>4/20/2022</td>\n",
              "    </tr>\n",
              "    <tr>\n",
              "      <th>1</th>\n",
              "      <td>($) Swisse Beauty Collagen Glow Powder with 2500mg Hydrolised Collagen (Purest Form) and Grape Seed Extract To Boost Skin Elasticity &amp; Firmness For a Younger Looking Skin | 20 Servings | For Men &amp; Women</td>\n",
              "      <td>B08NDYTG3D</td>\n",
              "      <td>https://www.amazon.ae/dp/B08NDYTG3D?psc=1</td>\n",
              "      <td>https://m.media-amazon.com/images/I/71VnTFRUH4L._AC_SX522_.jpg</td>\n",
              "      <td>Swisse</td>\n",
              "      <td>144.00</td>\n",
              "      <td>5.0</td>\n",
              "      <td>720</td>\n",
              "      <td>23,351</td>\n",
              "      <td>29.60</td>\n",
              "      <td>1</td>\n",
              "      <td>4.9</td>\n",
              "      <td>9</td>\n",
              "      <td>3</td>\n",
              "      <td>0</td>\n",
              "      <td>Pattern MENA</td>\n",
              "      <td>Health</td>\n",
              "      <td>Standard Parcel</td>\n",
              "      <td>FBA</td>\n",
              "      <td>2.8x2.7x4.9</td>\n",
              "      <td>0.37</td>\n",
              "      <td>NaN</td>\n",
              "    </tr>\n",
              "    <tr>\n",
              "      <th>2</th>\n",
              "      <td>($) Snaktive Collagen Chocolate - 6x40g bars</td>\n",
              "      <td>B0B9SWK8XQ</td>\n",
              "      <td>https://www.amazon.ae/dp/B0B9SWK8XQ?psc=1</td>\n",
              "      <td>https://m.media-amazon.com/images/I/61Id91ioPEL._AC_SX466_.jpg</td>\n",
              "      <td>SNAKTIVE</td>\n",
              "      <td>60.00</td>\n",
              "      <td>4.0</td>\n",
              "      <td>240</td>\n",
              "      <td>26,620</td>\n",
              "      <td>16.50</td>\n",
              "      <td>1</td>\n",
              "      <td>5.0</td>\n",
              "      <td>2</td>\n",
              "      <td>4</td>\n",
              "      <td>0</td>\n",
              "      <td>Le Chocolat LLC</td>\n",
              "      <td>Health</td>\n",
              "      <td>Large Envelope</td>\n",
              "      <td>FBA</td>\n",
              "      <td>1.8x5.1x2.8</td>\n",
              "      <td>0.55</td>\n",
              "      <td>NaN</td>\n",
              "    </tr>\n",
              "    <tr>\n",
              "      <th>3</th>\n",
              "      <td>Youtheory Collagen Advanced with Vitamin C, 120 Count (1 Bottle)</td>\n",
              "      <td>B006VAZYLS</td>\n",
              "      <td>https://www.amazon.ae/dp/B006VAZYLS?psc=1</td>\n",
              "      <td>https://m.media-amazon.com/images/I/71m5dU+vK4L._AC_SY450_.jpg</td>\n",
              "      <td>Youtheory</td>\n",
              "      <td>60.37</td>\n",
              "      <td>89.0</td>\n",
              "      <td>5,372.93</td>\n",
              "      <td>753</td>\n",
              "      <td>17.00</td>\n",
              "      <td>8</td>\n",
              "      <td>4.5</td>\n",
              "      <td>4,676</td>\n",
              "      <td>9</td>\n",
              "      <td>88</td>\n",
              "      <td>NBL General Trading L.L.C</td>\n",
              "      <td>Health</td>\n",
              "      <td>Standard Parcel</td>\n",
              "      <td>FBA</td>\n",
              "      <td>3.1x3.0x3.6</td>\n",
              "      <td>0.42</td>\n",
              "      <td>NaN</td>\n",
              "    </tr>\n",
              "    <tr>\n",
              "      <th>4</th>\n",
              "      <td>Neocell Super Collagen PlUS C - 250 Tablets</td>\n",
              "      <td>B00028NGEC</td>\n",
              "      <td>https://www.amazon.ae/dp/B00028NGEC?psc=1</td>\n",
              "      <td>https://m.media-amazon.com/images/I/71TDUkdGRZL._AC_SY450_.jpg</td>\n",
              "      <td>Neocell</td>\n",
              "      <td>135.00</td>\n",
              "      <td>542.0</td>\n",
              "      <td>73,170.00</td>\n",
              "      <td>200</td>\n",
              "      <td>28.25</td>\n",
              "      <td>2</td>\n",
              "      <td>4.4</td>\n",
              "      <td>18,342</td>\n",
              "      <td>14</td>\n",
              "      <td>140</td>\n",
              "      <td>Amazon</td>\n",
              "      <td>Health</td>\n",
              "      <td>Standard Parcel</td>\n",
              "      <td>AMZ</td>\n",
              "      <td>3.1x2.8x5.3</td>\n",
              "      <td>0.66</td>\n",
              "      <td>03/06/2019</td>\n",
              "    </tr>\n",
              "  </tbody>\n",
              "</table>\n",
              "</div>\n",
              "      <button class=\"colab-df-convert\" onclick=\"convertToInteractive('df-047e9c34-9606-4898-98b8-ddde54540f23')\"\n",
              "              title=\"Convert this dataframe to an interactive table.\"\n",
              "              style=\"display:none;\">\n",
              "        \n",
              "  <svg xmlns=\"http://www.w3.org/2000/svg\" height=\"24px\"viewBox=\"0 0 24 24\"\n",
              "       width=\"24px\">\n",
              "    <path d=\"M0 0h24v24H0V0z\" fill=\"none\"/>\n",
              "    <path d=\"M18.56 5.44l.94 2.06.94-2.06 2.06-.94-2.06-.94-.94-2.06-.94 2.06-2.06.94zm-11 1L8.5 8.5l.94-2.06 2.06-.94-2.06-.94L8.5 2.5l-.94 2.06-2.06.94zm10 10l.94 2.06.94-2.06 2.06-.94-2.06-.94-.94-2.06-.94 2.06-2.06.94z\"/><path d=\"M17.41 7.96l-1.37-1.37c-.4-.4-.92-.59-1.43-.59-.52 0-1.04.2-1.43.59L10.3 9.45l-7.72 7.72c-.78.78-.78 2.05 0 2.83L4 21.41c.39.39.9.59 1.41.59.51 0 1.02-.2 1.41-.59l7.78-7.78 2.81-2.81c.8-.78.8-2.07 0-2.86zM5.41 20L4 18.59l7.72-7.72 1.47 1.35L5.41 20z\"/>\n",
              "  </svg>\n",
              "      </button>\n",
              "      \n",
              "  <style>\n",
              "    .colab-df-container {\n",
              "      display:flex;\n",
              "      flex-wrap:wrap;\n",
              "      gap: 12px;\n",
              "    }\n",
              "\n",
              "    .colab-df-convert {\n",
              "      background-color: #E8F0FE;\n",
              "      border: none;\n",
              "      border-radius: 50%;\n",
              "      cursor: pointer;\n",
              "      display: none;\n",
              "      fill: #1967D2;\n",
              "      height: 32px;\n",
              "      padding: 0 0 0 0;\n",
              "      width: 32px;\n",
              "    }\n",
              "\n",
              "    .colab-df-convert:hover {\n",
              "      background-color: #E2EBFA;\n",
              "      box-shadow: 0px 1px 2px rgba(60, 64, 67, 0.3), 0px 1px 3px 1px rgba(60, 64, 67, 0.15);\n",
              "      fill: #174EA6;\n",
              "    }\n",
              "\n",
              "    [theme=dark] .colab-df-convert {\n",
              "      background-color: #3B4455;\n",
              "      fill: #D2E3FC;\n",
              "    }\n",
              "\n",
              "    [theme=dark] .colab-df-convert:hover {\n",
              "      background-color: #434B5C;\n",
              "      box-shadow: 0px 1px 3px 1px rgba(0, 0, 0, 0.15);\n",
              "      filter: drop-shadow(0px 1px 2px rgba(0, 0, 0, 0.3));\n",
              "      fill: #FFFFFF;\n",
              "    }\n",
              "  </style>\n",
              "\n",
              "      <script>\n",
              "        const buttonEl =\n",
              "          document.querySelector('#df-047e9c34-9606-4898-98b8-ddde54540f23 button.colab-df-convert');\n",
              "        buttonEl.style.display =\n",
              "          google.colab.kernel.accessAllowed ? 'block' : 'none';\n",
              "\n",
              "        async function convertToInteractive(key) {\n",
              "          const element = document.querySelector('#df-047e9c34-9606-4898-98b8-ddde54540f23');\n",
              "          const dataTable =\n",
              "            await google.colab.kernel.invokeFunction('convertToInteractive',\n",
              "                                                     [key], {});\n",
              "          if (!dataTable) return;\n",
              "\n",
              "          const docLinkHtml = 'Like what you see? Visit the ' +\n",
              "            '<a target=\"_blank\" href=https://colab.research.google.com/notebooks/data_table.ipynb>data table notebook</a>'\n",
              "            + ' to learn more about interactive tables.';\n",
              "          element.innerHTML = '';\n",
              "          dataTable['output_type'] = 'display_data';\n",
              "          await google.colab.output.renderOutput(dataTable, element);\n",
              "          const docLink = document.createElement('div');\n",
              "          docLink.innerHTML = docLinkHtml;\n",
              "          element.appendChild(docLink);\n",
              "        }\n",
              "      </script>\n",
              "    </div>\n",
              "  </div>\n",
              "  "
            ]
          },
          "metadata": {},
          "execution_count": 220
        }
      ]
    },
    {
      "cell_type": "markdown",
      "source": [
        "#### Убираем пробелы и приводим все названия к одному формату"
      ],
      "metadata": {
        "id": "tKd6oY4Zca2t"
      }
    },
    {
      "cell_type": "code",
      "source": [
        "# Rename columns to lowercase with underscores instead of whitespace\n",
        "new_columns = {col: col.lower().replace(' ', '_') for col in df1.columns}\n",
        "df1 = df1.rename(columns=new_columns)"
      ],
      "metadata": {
        "id": "JurF-8IEbA1H"
      },
      "execution_count": 221,
      "outputs": []
    },
    {
      "cell_type": "markdown",
      "source": [
        "#### Lets check the data again"
      ],
      "metadata": {
        "id": "0jDnKC3lbOMK"
      }
    },
    {
      "cell_type": "code",
      "source": [
        "df1.head(2)"
      ],
      "metadata": {
        "colab": {
          "base_uri": "https://localhost:8080/",
          "height": 523
        },
        "id": "d6mMZbO4bTe4",
        "outputId": "476e5800-a18e-474b-a5f5-71fc151c80d0"
      },
      "execution_count": 222,
      "outputs": [
        {
          "output_type": "execute_result",
          "data": {
            "text/plain": [
              "                                                                                                                                                                                              product_details  \\\n",
              "0  ($) Nutrili Marine Collagen Shots (20) | Hair, Skin & Nails | 10g Marine Collagen, Hyaluronic Acid, Biotin & Vitamin C                                                                                       \n",
              "1  ($) Swisse Beauty Collagen Glow Powder with 2500mg Hydrolised Collagen (Purest Form) and Grape Seed Extract To Boost Skin Elasticity & Firmness For a Younger Looking Skin | 20 Servings | For Men & Women   \n",
              "\n",
              "         asin                                        url  \\\n",
              "0  B09YD7RHC2  https://www.amazon.ae/dp/B09YD7RHC2?psc=1   \n",
              "1  B08NDYTG3D  https://www.amazon.ae/dp/B08NDYTG3D?psc=1   \n",
              "\n",
              "                                                        image_url    brand  \\\n",
              "0  https://m.media-amazon.com/images/I/61asHjsoyPL._AC_SX679_.jpg  Nutrili   \n",
              "1  https://m.media-amazon.com/images/I/71VnTFRUH4L._AC_SX522_.jpg  Swisse    \n",
              "\n",
              "   price_aed  sales    revenue     bsr  fees_aed  active_sellers_#  ratings  \\\n",
              "0  295.0      88.0   25,960.00  811     52.75     1                 4.6       \n",
              "1  144.0      5.0    720        23,351  29.60     1                 4.9       \n",
              "\n",
              "  review_count  images  review_velocity       buy_box category  \\\n",
              "0  26           11      4                nutrili       Health    \n",
              "1  9            3       0                Pattern MENA  Health    \n",
              "\n",
              "         size_tier fulfillment   dimensions  weight creation_date  \n",
              "0  Standard Parcel  FBA         4.4x3.4x4.6  1.72    4/20/2022     \n",
              "1  Standard Parcel  FBA         2.8x2.7x4.9  0.37    NaN           "
            ],
            "text/html": [
              "\n",
              "  <div id=\"df-ae7f4e24-f96f-463e-a820-a6ffa29759ed\">\n",
              "    <div class=\"colab-df-container\">\n",
              "      <div>\n",
              "<style scoped>\n",
              "    .dataframe tbody tr th:only-of-type {\n",
              "        vertical-align: middle;\n",
              "    }\n",
              "\n",
              "    .dataframe tbody tr th {\n",
              "        vertical-align: top;\n",
              "    }\n",
              "\n",
              "    .dataframe thead th {\n",
              "        text-align: right;\n",
              "    }\n",
              "</style>\n",
              "<table border=\"1\" class=\"dataframe\">\n",
              "  <thead>\n",
              "    <tr style=\"text-align: right;\">\n",
              "      <th></th>\n",
              "      <th>product_details</th>\n",
              "      <th>asin</th>\n",
              "      <th>url</th>\n",
              "      <th>image_url</th>\n",
              "      <th>brand</th>\n",
              "      <th>price_aed</th>\n",
              "      <th>sales</th>\n",
              "      <th>revenue</th>\n",
              "      <th>bsr</th>\n",
              "      <th>fees_aed</th>\n",
              "      <th>active_sellers_#</th>\n",
              "      <th>ratings</th>\n",
              "      <th>review_count</th>\n",
              "      <th>images</th>\n",
              "      <th>review_velocity</th>\n",
              "      <th>buy_box</th>\n",
              "      <th>category</th>\n",
              "      <th>size_tier</th>\n",
              "      <th>fulfillment</th>\n",
              "      <th>dimensions</th>\n",
              "      <th>weight</th>\n",
              "      <th>creation_date</th>\n",
              "    </tr>\n",
              "  </thead>\n",
              "  <tbody>\n",
              "    <tr>\n",
              "      <th>0</th>\n",
              "      <td>($) Nutrili Marine Collagen Shots (20) | Hair, Skin &amp; Nails | 10g Marine Collagen, Hyaluronic Acid, Biotin &amp; Vitamin C</td>\n",
              "      <td>B09YD7RHC2</td>\n",
              "      <td>https://www.amazon.ae/dp/B09YD7RHC2?psc=1</td>\n",
              "      <td>https://m.media-amazon.com/images/I/61asHjsoyPL._AC_SX679_.jpg</td>\n",
              "      <td>Nutrili</td>\n",
              "      <td>295.0</td>\n",
              "      <td>88.0</td>\n",
              "      <td>25,960.00</td>\n",
              "      <td>811</td>\n",
              "      <td>52.75</td>\n",
              "      <td>1</td>\n",
              "      <td>4.6</td>\n",
              "      <td>26</td>\n",
              "      <td>11</td>\n",
              "      <td>4</td>\n",
              "      <td>nutrili</td>\n",
              "      <td>Health</td>\n",
              "      <td>Standard Parcel</td>\n",
              "      <td>FBA</td>\n",
              "      <td>4.4x3.4x4.6</td>\n",
              "      <td>1.72</td>\n",
              "      <td>4/20/2022</td>\n",
              "    </tr>\n",
              "    <tr>\n",
              "      <th>1</th>\n",
              "      <td>($) Swisse Beauty Collagen Glow Powder with 2500mg Hydrolised Collagen (Purest Form) and Grape Seed Extract To Boost Skin Elasticity &amp; Firmness For a Younger Looking Skin | 20 Servings | For Men &amp; Women</td>\n",
              "      <td>B08NDYTG3D</td>\n",
              "      <td>https://www.amazon.ae/dp/B08NDYTG3D?psc=1</td>\n",
              "      <td>https://m.media-amazon.com/images/I/71VnTFRUH4L._AC_SX522_.jpg</td>\n",
              "      <td>Swisse</td>\n",
              "      <td>144.0</td>\n",
              "      <td>5.0</td>\n",
              "      <td>720</td>\n",
              "      <td>23,351</td>\n",
              "      <td>29.60</td>\n",
              "      <td>1</td>\n",
              "      <td>4.9</td>\n",
              "      <td>9</td>\n",
              "      <td>3</td>\n",
              "      <td>0</td>\n",
              "      <td>Pattern MENA</td>\n",
              "      <td>Health</td>\n",
              "      <td>Standard Parcel</td>\n",
              "      <td>FBA</td>\n",
              "      <td>2.8x2.7x4.9</td>\n",
              "      <td>0.37</td>\n",
              "      <td>NaN</td>\n",
              "    </tr>\n",
              "  </tbody>\n",
              "</table>\n",
              "</div>\n",
              "      <button class=\"colab-df-convert\" onclick=\"convertToInteractive('df-ae7f4e24-f96f-463e-a820-a6ffa29759ed')\"\n",
              "              title=\"Convert this dataframe to an interactive table.\"\n",
              "              style=\"display:none;\">\n",
              "        \n",
              "  <svg xmlns=\"http://www.w3.org/2000/svg\" height=\"24px\"viewBox=\"0 0 24 24\"\n",
              "       width=\"24px\">\n",
              "    <path d=\"M0 0h24v24H0V0z\" fill=\"none\"/>\n",
              "    <path d=\"M18.56 5.44l.94 2.06.94-2.06 2.06-.94-2.06-.94-.94-2.06-.94 2.06-2.06.94zm-11 1L8.5 8.5l.94-2.06 2.06-.94-2.06-.94L8.5 2.5l-.94 2.06-2.06.94zm10 10l.94 2.06.94-2.06 2.06-.94-2.06-.94-.94-2.06-.94 2.06-2.06.94z\"/><path d=\"M17.41 7.96l-1.37-1.37c-.4-.4-.92-.59-1.43-.59-.52 0-1.04.2-1.43.59L10.3 9.45l-7.72 7.72c-.78.78-.78 2.05 0 2.83L4 21.41c.39.39.9.59 1.41.59.51 0 1.02-.2 1.41-.59l7.78-7.78 2.81-2.81c.8-.78.8-2.07 0-2.86zM5.41 20L4 18.59l7.72-7.72 1.47 1.35L5.41 20z\"/>\n",
              "  </svg>\n",
              "      </button>\n",
              "      \n",
              "  <style>\n",
              "    .colab-df-container {\n",
              "      display:flex;\n",
              "      flex-wrap:wrap;\n",
              "      gap: 12px;\n",
              "    }\n",
              "\n",
              "    .colab-df-convert {\n",
              "      background-color: #E8F0FE;\n",
              "      border: none;\n",
              "      border-radius: 50%;\n",
              "      cursor: pointer;\n",
              "      display: none;\n",
              "      fill: #1967D2;\n",
              "      height: 32px;\n",
              "      padding: 0 0 0 0;\n",
              "      width: 32px;\n",
              "    }\n",
              "\n",
              "    .colab-df-convert:hover {\n",
              "      background-color: #E2EBFA;\n",
              "      box-shadow: 0px 1px 2px rgba(60, 64, 67, 0.3), 0px 1px 3px 1px rgba(60, 64, 67, 0.15);\n",
              "      fill: #174EA6;\n",
              "    }\n",
              "\n",
              "    [theme=dark] .colab-df-convert {\n",
              "      background-color: #3B4455;\n",
              "      fill: #D2E3FC;\n",
              "    }\n",
              "\n",
              "    [theme=dark] .colab-df-convert:hover {\n",
              "      background-color: #434B5C;\n",
              "      box-shadow: 0px 1px 3px 1px rgba(0, 0, 0, 0.15);\n",
              "      filter: drop-shadow(0px 1px 2px rgba(0, 0, 0, 0.3));\n",
              "      fill: #FFFFFF;\n",
              "    }\n",
              "  </style>\n",
              "\n",
              "      <script>\n",
              "        const buttonEl =\n",
              "          document.querySelector('#df-ae7f4e24-f96f-463e-a820-a6ffa29759ed button.colab-df-convert');\n",
              "        buttonEl.style.display =\n",
              "          google.colab.kernel.accessAllowed ? 'block' : 'none';\n",
              "\n",
              "        async function convertToInteractive(key) {\n",
              "          const element = document.querySelector('#df-ae7f4e24-f96f-463e-a820-a6ffa29759ed');\n",
              "          const dataTable =\n",
              "            await google.colab.kernel.invokeFunction('convertToInteractive',\n",
              "                                                     [key], {});\n",
              "          if (!dataTable) return;\n",
              "\n",
              "          const docLinkHtml = 'Like what you see? Visit the ' +\n",
              "            '<a target=\"_blank\" href=https://colab.research.google.com/notebooks/data_table.ipynb>data table notebook</a>'\n",
              "            + ' to learn more about interactive tables.';\n",
              "          element.innerHTML = '';\n",
              "          dataTable['output_type'] = 'display_data';\n",
              "          await google.colab.output.renderOutput(dataTable, element);\n",
              "          const docLink = document.createElement('div');\n",
              "          docLink.innerHTML = docLinkHtml;\n",
              "          element.appendChild(docLink);\n",
              "        }\n",
              "      </script>\n",
              "    </div>\n",
              "  </div>\n",
              "  "
            ]
          },
          "metadata": {},
          "execution_count": 222
        }
      ]
    },
    {
      "cell_type": "markdown",
      "source": [
        "### Understand the shape of the dataset"
      ],
      "metadata": {
        "id": "Kslp-Qk6bGJY"
      }
    },
    {
      "cell_type": "code",
      "source": [
        "df1.shape"
      ],
      "metadata": {
        "colab": {
          "base_uri": "https://localhost:8080/"
        },
        "id": "uoHcUbQybCLv",
        "outputId": "18ec0efb-d4dd-4323-b36a-18c9dde4c03d"
      },
      "execution_count": 223,
      "outputs": [
        {
          "output_type": "execute_result",
          "data": {
            "text/plain": [
              "(55, 22)"
            ]
          },
          "metadata": {},
          "execution_count": 223
        }
      ]
    },
    {
      "cell_type": "markdown",
      "source": [
        "* 22 columns and 55 rows"
      ],
      "metadata": {
        "id": "Y6PP8cjYe5R5"
      }
    },
    {
      "cell_type": "markdown",
      "source": [
        "#### Проверим есть ли пропущенные данные "
      ],
      "metadata": {
        "id": "PZEUYANffGPg"
      }
    },
    {
      "cell_type": "code",
      "source": [
        "print(df1.isnull().sum())"
      ],
      "metadata": {
        "colab": {
          "base_uri": "https://localhost:8080/"
        },
        "id": "f6ThfLg_fEQy",
        "outputId": "5fdd6a1b-f71f-4c8a-e2f0-4ecc9acf039b"
      },
      "execution_count": 224,
      "outputs": [
        {
          "output_type": "stream",
          "name": "stdout",
          "text": [
            "product_details     0\n",
            "asin                0\n",
            "url                 0\n",
            "image_url           0\n",
            "brand               0\n",
            "price_aed           0\n",
            "sales               4\n",
            "revenue             4\n",
            "bsr                 0\n",
            "fees_aed            0\n",
            "active_sellers_#    0\n",
            "ratings             0\n",
            "review_count        0\n",
            "images              0\n",
            "review_velocity     0\n",
            "buy_box             0\n",
            "category            0\n",
            "size_tier           0\n",
            "fulfillment         1\n",
            "dimensions          0\n",
            "weight              0\n",
            "creation_date       8\n",
            "dtype: int64\n"
          ]
        }
      ]
    },
    {
      "cell_type": "markdown",
      "source": [
        "* Пропушенные данные в следующих колонках:\n",
        " creation_date=8,\n",
        " fullfilment=1\n",
        " sales=4\n",
        " revenue=4\n",
        "\n",
        " "
      ],
      "metadata": {
        "id": "Sb3nQzmAf4Ye"
      }
    },
    {
      "cell_type": "code",
      "source": [
        "missing_values = df1.isna().any()\n",
        "\n",
        "# Printing the columns with missing values\n",
        "print(missing_values)"
      ],
      "metadata": {
        "colab": {
          "base_uri": "https://localhost:8080/"
        },
        "id": "_CqYId6Woxe8",
        "outputId": "3813cba8-fcdd-4a7a-d85d-8c0f67d64114"
      },
      "execution_count": 225,
      "outputs": [
        {
          "output_type": "stream",
          "name": "stdout",
          "text": [
            "product_details     False\n",
            "asin                False\n",
            "url                 False\n",
            "image_url           False\n",
            "brand               False\n",
            "price_aed           False\n",
            "sales               True \n",
            "revenue             True \n",
            "bsr                 False\n",
            "fees_aed            False\n",
            "active_sellers_#    False\n",
            "ratings             False\n",
            "review_count        False\n",
            "images              False\n",
            "review_velocity     False\n",
            "buy_box             False\n",
            "category            False\n",
            "size_tier           False\n",
            "fulfillment         True \n",
            "dimensions          False\n",
            "weight              False\n",
            "creation_date       True \n",
            "dtype: bool\n"
          ]
        }
      ]
    },
    {
      "cell_type": "markdown",
      "source": [
        "* Sales, revenue, fulfillment, and creation date have 'n/a' values in their datasets. It is crucial to address this issue as it could potentially lead to misleading interpretations."
      ],
      "metadata": {
        "id": "GAihjwD0o2k2"
      }
    },
    {
      "cell_type": "markdown",
      "source": [
        "#### Lets treat missing data"
      ],
      "metadata": {
        "id": "6a_4N69XpvSF"
      }
    },
    {
      "cell_type": "markdown",
      "source": [
        "replace n/a to NaN to avoid further mistakes in 'sales' column:"
      ],
      "metadata": {
        "id": "3cWUvXM5oJIF"
      }
    },
    {
      "cell_type": "code",
      "source": [
        "df1['sales'] = df1['sales'].replace('n/a', np.nan)  # Replace 'n/a' with NaN\n",
        "df1['sales'] = pd.to_numeric(df1['sales'], errors='coerce')  # Convert to numeric data type\n"
      ],
      "metadata": {
        "id": "qR_YLxR3nvM_"
      },
      "execution_count": 226,
      "outputs": []
    },
    {
      "cell_type": "markdown",
      "source": [
        "in revenue column:"
      ],
      "metadata": {
        "id": "0v9eDEW_qrc5"
      }
    },
    {
      "cell_type": "code",
      "source": [
        "df1['revenue'] = df1['revenue'].replace('n/a', np.nan)  # Replace 'n/a' with NaN\n",
        "df1['revenue'] = pd.to_numeric(df1['revenue'], errors='coerce')  # Convert to numeric data type"
      ],
      "metadata": {
        "id": "Lp7_PZ21quXm"
      },
      "execution_count": 227,
      "outputs": []
    },
    {
      "cell_type": "markdown",
      "source": [
        "in fulfillment column:"
      ],
      "metadata": {
        "id": "SI5OO71KrDRd"
      }
    },
    {
      "cell_type": "code",
      "source": [
        "df1['fulfillment'] = df1['fulfillment'].replace('n/a', np.nan)  # Replace 'n/a' with NaN\n"
      ],
      "metadata": {
        "id": "2e7ILjh9rCOE"
      },
      "execution_count": 228,
      "outputs": []
    },
    {
      "cell_type": "markdown",
      "source": [
        "in creation_date:"
      ],
      "metadata": {
        "id": "hp-za_TkracQ"
      }
    },
    {
      "cell_type": "code",
      "source": [
        "# df1['creation_date'] = df1['creation_date'].replace('n/a', np.nan)  # Replace 'n/a' with NaN\n",
        "# df1['creation_date'] = pd.to_numeric(df1['creation_date'], errors='coerce')  # Convert to numeric data type"
      ],
      "metadata": {
        "id": "lZX7Hk1GrZwJ"
      },
      "execution_count": 229,
      "outputs": []
    },
    {
      "cell_type": "markdown",
      "source": [
        "Lets treat missing data in sales column:"
      ],
      "metadata": {
        "id": "Jlm8dfQQs54a"
      }
    },
    {
      "cell_type": "code",
      "source": [
        "mean_sales = df1['sales'].mean()\n",
        "df1['sales'] = df1['sales'].fillna(mean_sales)"
      ],
      "metadata": {
        "id": "UCN5eEwxvy8X"
      },
      "execution_count": 230,
      "outputs": []
    },
    {
      "cell_type": "code",
      "source": [
        "mean_revenue = df1['revenue'].mean()\n",
        "df1['revenue'] = df1['revenue'].fillna(mean_revenue)"
      ],
      "metadata": {
        "id": "HVMVmw6jynr6"
      },
      "execution_count": 231,
      "outputs": []
    },
    {
      "cell_type": "markdown",
      "source": [
        "we will drop 1 missing valuein fulfillment column"
      ],
      "metadata": {
        "id": "7RnCvm9A02dv"
      }
    },
    {
      "cell_type": "code",
      "source": [
        "df1.dropna(subset=['fulfillment'], inplace=True)"
      ],
      "metadata": {
        "id": "IOT5G-p_ywLv"
      },
      "execution_count": 232,
      "outputs": []
    },
    {
      "cell_type": "markdown",
      "source": [
        "#### creation_date"
      ],
      "metadata": {
        "id": "SKYshKiM11tV"
      }
    },
    {
      "cell_type": "code",
      "source": [
        "df1['creation_date'] = pd.to_datetime(df1['creation_date'], errors='coerce')\n"
      ],
      "metadata": {
        "id": "mV5Q293-16J9"
      },
      "execution_count": 233,
      "outputs": []
    },
    {
      "cell_type": "code",
      "source": [
        "df1['creation_date'] = df1['creation_date'].replace('n/a', np.nan)\n"
      ],
      "metadata": {
        "id": "B4yfnKrt11P1"
      },
      "execution_count": 234,
      "outputs": []
    },
    {
      "cell_type": "markdown",
      "source": [
        "### we will treat missing data in the column creation_date\n"
      ],
      "metadata": {
        "id": "deBLzXTD5eBd"
      }
    },
    {
      "cell_type": "code",
      "source": [
        "# Replace 'n/a' values with a marker, such as 'Missing'\n",
        "df1['creation_date'] = df1['creation_date'].replace('n/a', 'Missing')\n",
        "\n",
        "# Convert the 'creation_date' column to datetime type, including the 'Missing' marker\n",
        "df1['creation_date'] = pd.to_datetime(df1['creation_date'], errors='coerce')\n",
        "\n",
        "# Create a separate column to indicate missing dates\n",
        "df1['is_missing_date'] = df1['creation_date'].isna()\n",
        "\n",
        "# Extract the year from the 'creation_date' column\n",
        "# year = df1['year'] = df1['creation_date'].dt.year"
      ],
      "metadata": {
        "id": "2a3cW6aT5cZM"
      },
      "execution_count": 235,
      "outputs": []
    },
    {
      "cell_type": "code",
      "source": [
        "# df1.dropna(subset=['creation_date'], inplace=True)\n"
      ],
      "metadata": {
        "id": "nv4qdwCx2UMf"
      },
      "execution_count": 236,
      "outputs": []
    },
    {
      "cell_type": "code",
      "source": [
        "print(df1.isnull().sum())"
      ],
      "metadata": {
        "colab": {
          "base_uri": "https://localhost:8080/"
        },
        "id": "q0JoQV0EtNcs",
        "outputId": "fcc82f1b-4825-4d29-da67-f02da69bda36"
      },
      "execution_count": 237,
      "outputs": [
        {
          "output_type": "stream",
          "name": "stdout",
          "text": [
            "product_details     0\n",
            "asin                0\n",
            "url                 0\n",
            "image_url           0\n",
            "brand               0\n",
            "price_aed           0\n",
            "sales               0\n",
            "revenue             0\n",
            "bsr                 0\n",
            "fees_aed            0\n",
            "active_sellers_#    0\n",
            "ratings             0\n",
            "review_count        0\n",
            "images              0\n",
            "review_velocity     0\n",
            "buy_box             0\n",
            "category            0\n",
            "size_tier           0\n",
            "fulfillment         0\n",
            "dimensions          0\n",
            "weight              0\n",
            "creation_date       8\n",
            "is_missing_date     0\n",
            "dtype: int64\n"
          ]
        }
      ]
    },
    {
      "cell_type": "code",
      "source": [
        "#### For Better interpretation of this column data"
      ],
      "metadata": {
        "id": "2qPrTfuU4NGc"
      },
      "execution_count": 238,
      "outputs": []
    },
    {
      "cell_type": "code",
      "source": [
        "df1.head()"
      ],
      "metadata": {
        "colab": {
          "base_uri": "https://localhost:8080/",
          "height": 773
        },
        "id": "OvL6-XxW8gxG",
        "outputId": "bf8a288a-3135-479c-8774-ddaa2ae10eaa"
      },
      "execution_count": 239,
      "outputs": [
        {
          "output_type": "execute_result",
          "data": {
            "text/plain": [
              "                                                                                                                                                                                              product_details  \\\n",
              "0  ($) Nutrili Marine Collagen Shots (20) | Hair, Skin & Nails | 10g Marine Collagen, Hyaluronic Acid, Biotin & Vitamin C                                                                                       \n",
              "1  ($) Swisse Beauty Collagen Glow Powder with 2500mg Hydrolised Collagen (Purest Form) and Grape Seed Extract To Boost Skin Elasticity & Firmness For a Younger Looking Skin | 20 Servings | For Men & Women   \n",
              "2  ($) Snaktive Collagen Chocolate - 6x40g bars                                                                                                                                                                 \n",
              "3  Youtheory Collagen Advanced with Vitamin C, 120 Count (1 Bottle)                                                                                                                                             \n",
              "4  Neocell Super Collagen PlUS C - 250 Tablets                                                                                                                                                                  \n",
              "\n",
              "         asin                                        url  \\\n",
              "0  B09YD7RHC2  https://www.amazon.ae/dp/B09YD7RHC2?psc=1   \n",
              "1  B08NDYTG3D  https://www.amazon.ae/dp/B08NDYTG3D?psc=1   \n",
              "2  B0B9SWK8XQ  https://www.amazon.ae/dp/B0B9SWK8XQ?psc=1   \n",
              "3  B006VAZYLS  https://www.amazon.ae/dp/B006VAZYLS?psc=1   \n",
              "4  B00028NGEC  https://www.amazon.ae/dp/B00028NGEC?psc=1   \n",
              "\n",
              "                                                        image_url      brand  \\\n",
              "0  https://m.media-amazon.com/images/I/61asHjsoyPL._AC_SX679_.jpg  Nutrili     \n",
              "1  https://m.media-amazon.com/images/I/71VnTFRUH4L._AC_SX522_.jpg  Swisse      \n",
              "2  https://m.media-amazon.com/images/I/61Id91ioPEL._AC_SX466_.jpg  SNAKTIVE    \n",
              "3  https://m.media-amazon.com/images/I/71m5dU+vK4L._AC_SY450_.jpg  Youtheory   \n",
              "4  https://m.media-amazon.com/images/I/71TDUkdGRZL._AC_SY450_.jpg  Neocell     \n",
              "\n",
              "   price_aed  sales  revenue     bsr  fees_aed  active_sellers_#  ratings  \\\n",
              "0  295.00     88.0   444.464  811     52.75     1                 4.6       \n",
              "1  144.00     5.0    720.000  23,351  29.60     1                 4.9       \n",
              "2  60.00      4.0    240.000  26,620  16.50     1                 5.0       \n",
              "3  60.37      89.0   444.464  753     17.00     8                 4.5       \n",
              "4  135.00     542.0  444.464  200     28.25     2                 4.4       \n",
              "\n",
              "  review_count  images  review_velocity                    buy_box category  \\\n",
              "0  26           11      4                nutrili                    Health    \n",
              "1  9            3       0                Pattern MENA               Health    \n",
              "2  2            4       0                Le Chocolat LLC            Health    \n",
              "3  4,676        9       88               NBL General Trading L.L.C  Health    \n",
              "4  18,342       14      140              Amazon                     Health    \n",
              "\n",
              "         size_tier fulfillment   dimensions  weight creation_date  \\\n",
              "0  Standard Parcel  FBA         4.4x3.4x4.6  1.72   2022-04-20      \n",
              "1  Standard Parcel  FBA         2.8x2.7x4.9  0.37   NaT             \n",
              "2  Large Envelope   FBA         1.8x5.1x2.8  0.55   NaT             \n",
              "3  Standard Parcel  FBA         3.1x3.0x3.6  0.42   NaT             \n",
              "4  Standard Parcel  AMZ         3.1x2.8x5.3  0.66   2019-03-06      \n",
              "\n",
              "   is_missing_date  \n",
              "0  False            \n",
              "1  True             \n",
              "2  True             \n",
              "3  True             \n",
              "4  False            "
            ],
            "text/html": [
              "\n",
              "  <div id=\"df-731c51e9-82f4-4767-bf04-45cb6833cbe4\">\n",
              "    <div class=\"colab-df-container\">\n",
              "      <div>\n",
              "<style scoped>\n",
              "    .dataframe tbody tr th:only-of-type {\n",
              "        vertical-align: middle;\n",
              "    }\n",
              "\n",
              "    .dataframe tbody tr th {\n",
              "        vertical-align: top;\n",
              "    }\n",
              "\n",
              "    .dataframe thead th {\n",
              "        text-align: right;\n",
              "    }\n",
              "</style>\n",
              "<table border=\"1\" class=\"dataframe\">\n",
              "  <thead>\n",
              "    <tr style=\"text-align: right;\">\n",
              "      <th></th>\n",
              "      <th>product_details</th>\n",
              "      <th>asin</th>\n",
              "      <th>url</th>\n",
              "      <th>image_url</th>\n",
              "      <th>brand</th>\n",
              "      <th>price_aed</th>\n",
              "      <th>sales</th>\n",
              "      <th>revenue</th>\n",
              "      <th>bsr</th>\n",
              "      <th>fees_aed</th>\n",
              "      <th>active_sellers_#</th>\n",
              "      <th>ratings</th>\n",
              "      <th>review_count</th>\n",
              "      <th>images</th>\n",
              "      <th>review_velocity</th>\n",
              "      <th>buy_box</th>\n",
              "      <th>category</th>\n",
              "      <th>size_tier</th>\n",
              "      <th>fulfillment</th>\n",
              "      <th>dimensions</th>\n",
              "      <th>weight</th>\n",
              "      <th>creation_date</th>\n",
              "      <th>is_missing_date</th>\n",
              "    </tr>\n",
              "  </thead>\n",
              "  <tbody>\n",
              "    <tr>\n",
              "      <th>0</th>\n",
              "      <td>($) Nutrili Marine Collagen Shots (20) | Hair, Skin &amp; Nails | 10g Marine Collagen, Hyaluronic Acid, Biotin &amp; Vitamin C</td>\n",
              "      <td>B09YD7RHC2</td>\n",
              "      <td>https://www.amazon.ae/dp/B09YD7RHC2?psc=1</td>\n",
              "      <td>https://m.media-amazon.com/images/I/61asHjsoyPL._AC_SX679_.jpg</td>\n",
              "      <td>Nutrili</td>\n",
              "      <td>295.00</td>\n",
              "      <td>88.0</td>\n",
              "      <td>444.464</td>\n",
              "      <td>811</td>\n",
              "      <td>52.75</td>\n",
              "      <td>1</td>\n",
              "      <td>4.6</td>\n",
              "      <td>26</td>\n",
              "      <td>11</td>\n",
              "      <td>4</td>\n",
              "      <td>nutrili</td>\n",
              "      <td>Health</td>\n",
              "      <td>Standard Parcel</td>\n",
              "      <td>FBA</td>\n",
              "      <td>4.4x3.4x4.6</td>\n",
              "      <td>1.72</td>\n",
              "      <td>2022-04-20</td>\n",
              "      <td>False</td>\n",
              "    </tr>\n",
              "    <tr>\n",
              "      <th>1</th>\n",
              "      <td>($) Swisse Beauty Collagen Glow Powder with 2500mg Hydrolised Collagen (Purest Form) and Grape Seed Extract To Boost Skin Elasticity &amp; Firmness For a Younger Looking Skin | 20 Servings | For Men &amp; Women</td>\n",
              "      <td>B08NDYTG3D</td>\n",
              "      <td>https://www.amazon.ae/dp/B08NDYTG3D?psc=1</td>\n",
              "      <td>https://m.media-amazon.com/images/I/71VnTFRUH4L._AC_SX522_.jpg</td>\n",
              "      <td>Swisse</td>\n",
              "      <td>144.00</td>\n",
              "      <td>5.0</td>\n",
              "      <td>720.000</td>\n",
              "      <td>23,351</td>\n",
              "      <td>29.60</td>\n",
              "      <td>1</td>\n",
              "      <td>4.9</td>\n",
              "      <td>9</td>\n",
              "      <td>3</td>\n",
              "      <td>0</td>\n",
              "      <td>Pattern MENA</td>\n",
              "      <td>Health</td>\n",
              "      <td>Standard Parcel</td>\n",
              "      <td>FBA</td>\n",
              "      <td>2.8x2.7x4.9</td>\n",
              "      <td>0.37</td>\n",
              "      <td>NaT</td>\n",
              "      <td>True</td>\n",
              "    </tr>\n",
              "    <tr>\n",
              "      <th>2</th>\n",
              "      <td>($) Snaktive Collagen Chocolate - 6x40g bars</td>\n",
              "      <td>B0B9SWK8XQ</td>\n",
              "      <td>https://www.amazon.ae/dp/B0B9SWK8XQ?psc=1</td>\n",
              "      <td>https://m.media-amazon.com/images/I/61Id91ioPEL._AC_SX466_.jpg</td>\n",
              "      <td>SNAKTIVE</td>\n",
              "      <td>60.00</td>\n",
              "      <td>4.0</td>\n",
              "      <td>240.000</td>\n",
              "      <td>26,620</td>\n",
              "      <td>16.50</td>\n",
              "      <td>1</td>\n",
              "      <td>5.0</td>\n",
              "      <td>2</td>\n",
              "      <td>4</td>\n",
              "      <td>0</td>\n",
              "      <td>Le Chocolat LLC</td>\n",
              "      <td>Health</td>\n",
              "      <td>Large Envelope</td>\n",
              "      <td>FBA</td>\n",
              "      <td>1.8x5.1x2.8</td>\n",
              "      <td>0.55</td>\n",
              "      <td>NaT</td>\n",
              "      <td>True</td>\n",
              "    </tr>\n",
              "    <tr>\n",
              "      <th>3</th>\n",
              "      <td>Youtheory Collagen Advanced with Vitamin C, 120 Count (1 Bottle)</td>\n",
              "      <td>B006VAZYLS</td>\n",
              "      <td>https://www.amazon.ae/dp/B006VAZYLS?psc=1</td>\n",
              "      <td>https://m.media-amazon.com/images/I/71m5dU+vK4L._AC_SY450_.jpg</td>\n",
              "      <td>Youtheory</td>\n",
              "      <td>60.37</td>\n",
              "      <td>89.0</td>\n",
              "      <td>444.464</td>\n",
              "      <td>753</td>\n",
              "      <td>17.00</td>\n",
              "      <td>8</td>\n",
              "      <td>4.5</td>\n",
              "      <td>4,676</td>\n",
              "      <td>9</td>\n",
              "      <td>88</td>\n",
              "      <td>NBL General Trading L.L.C</td>\n",
              "      <td>Health</td>\n",
              "      <td>Standard Parcel</td>\n",
              "      <td>FBA</td>\n",
              "      <td>3.1x3.0x3.6</td>\n",
              "      <td>0.42</td>\n",
              "      <td>NaT</td>\n",
              "      <td>True</td>\n",
              "    </tr>\n",
              "    <tr>\n",
              "      <th>4</th>\n",
              "      <td>Neocell Super Collagen PlUS C - 250 Tablets</td>\n",
              "      <td>B00028NGEC</td>\n",
              "      <td>https://www.amazon.ae/dp/B00028NGEC?psc=1</td>\n",
              "      <td>https://m.media-amazon.com/images/I/71TDUkdGRZL._AC_SY450_.jpg</td>\n",
              "      <td>Neocell</td>\n",
              "      <td>135.00</td>\n",
              "      <td>542.0</td>\n",
              "      <td>444.464</td>\n",
              "      <td>200</td>\n",
              "      <td>28.25</td>\n",
              "      <td>2</td>\n",
              "      <td>4.4</td>\n",
              "      <td>18,342</td>\n",
              "      <td>14</td>\n",
              "      <td>140</td>\n",
              "      <td>Amazon</td>\n",
              "      <td>Health</td>\n",
              "      <td>Standard Parcel</td>\n",
              "      <td>AMZ</td>\n",
              "      <td>3.1x2.8x5.3</td>\n",
              "      <td>0.66</td>\n",
              "      <td>2019-03-06</td>\n",
              "      <td>False</td>\n",
              "    </tr>\n",
              "  </tbody>\n",
              "</table>\n",
              "</div>\n",
              "      <button class=\"colab-df-convert\" onclick=\"convertToInteractive('df-731c51e9-82f4-4767-bf04-45cb6833cbe4')\"\n",
              "              title=\"Convert this dataframe to an interactive table.\"\n",
              "              style=\"display:none;\">\n",
              "        \n",
              "  <svg xmlns=\"http://www.w3.org/2000/svg\" height=\"24px\"viewBox=\"0 0 24 24\"\n",
              "       width=\"24px\">\n",
              "    <path d=\"M0 0h24v24H0V0z\" fill=\"none\"/>\n",
              "    <path d=\"M18.56 5.44l.94 2.06.94-2.06 2.06-.94-2.06-.94-.94-2.06-.94 2.06-2.06.94zm-11 1L8.5 8.5l.94-2.06 2.06-.94-2.06-.94L8.5 2.5l-.94 2.06-2.06.94zm10 10l.94 2.06.94-2.06 2.06-.94-2.06-.94-.94-2.06-.94 2.06-2.06.94z\"/><path d=\"M17.41 7.96l-1.37-1.37c-.4-.4-.92-.59-1.43-.59-.52 0-1.04.2-1.43.59L10.3 9.45l-7.72 7.72c-.78.78-.78 2.05 0 2.83L4 21.41c.39.39.9.59 1.41.59.51 0 1.02-.2 1.41-.59l7.78-7.78 2.81-2.81c.8-.78.8-2.07 0-2.86zM5.41 20L4 18.59l7.72-7.72 1.47 1.35L5.41 20z\"/>\n",
              "  </svg>\n",
              "      </button>\n",
              "      \n",
              "  <style>\n",
              "    .colab-df-container {\n",
              "      display:flex;\n",
              "      flex-wrap:wrap;\n",
              "      gap: 12px;\n",
              "    }\n",
              "\n",
              "    .colab-df-convert {\n",
              "      background-color: #E8F0FE;\n",
              "      border: none;\n",
              "      border-radius: 50%;\n",
              "      cursor: pointer;\n",
              "      display: none;\n",
              "      fill: #1967D2;\n",
              "      height: 32px;\n",
              "      padding: 0 0 0 0;\n",
              "      width: 32px;\n",
              "    }\n",
              "\n",
              "    .colab-df-convert:hover {\n",
              "      background-color: #E2EBFA;\n",
              "      box-shadow: 0px 1px 2px rgba(60, 64, 67, 0.3), 0px 1px 3px 1px rgba(60, 64, 67, 0.15);\n",
              "      fill: #174EA6;\n",
              "    }\n",
              "\n",
              "    [theme=dark] .colab-df-convert {\n",
              "      background-color: #3B4455;\n",
              "      fill: #D2E3FC;\n",
              "    }\n",
              "\n",
              "    [theme=dark] .colab-df-convert:hover {\n",
              "      background-color: #434B5C;\n",
              "      box-shadow: 0px 1px 3px 1px rgba(0, 0, 0, 0.15);\n",
              "      filter: drop-shadow(0px 1px 2px rgba(0, 0, 0, 0.3));\n",
              "      fill: #FFFFFF;\n",
              "    }\n",
              "  </style>\n",
              "\n",
              "      <script>\n",
              "        const buttonEl =\n",
              "          document.querySelector('#df-731c51e9-82f4-4767-bf04-45cb6833cbe4 button.colab-df-convert');\n",
              "        buttonEl.style.display =\n",
              "          google.colab.kernel.accessAllowed ? 'block' : 'none';\n",
              "\n",
              "        async function convertToInteractive(key) {\n",
              "          const element = document.querySelector('#df-731c51e9-82f4-4767-bf04-45cb6833cbe4');\n",
              "          const dataTable =\n",
              "            await google.colab.kernel.invokeFunction('convertToInteractive',\n",
              "                                                     [key], {});\n",
              "          if (!dataTable) return;\n",
              "\n",
              "          const docLinkHtml = 'Like what you see? Visit the ' +\n",
              "            '<a target=\"_blank\" href=https://colab.research.google.com/notebooks/data_table.ipynb>data table notebook</a>'\n",
              "            + ' to learn more about interactive tables.';\n",
              "          element.innerHTML = '';\n",
              "          dataTable['output_type'] = 'display_data';\n",
              "          await google.colab.output.renderOutput(dataTable, element);\n",
              "          const docLink = document.createElement('div');\n",
              "          docLink.innerHTML = docLinkHtml;\n",
              "          element.appendChild(docLink);\n",
              "        }\n",
              "      </script>\n",
              "    </div>\n",
              "  </div>\n",
              "  "
            ]
          },
          "metadata": {},
          "execution_count": 239
        }
      ]
    },
    {
      "cell_type": "markdown",
      "source": [
        "#### Numerical and categorical data"
      ],
      "metadata": {
        "id": "F45tX7bCga7p"
      }
    },
    {
      "cell_type": "code",
      "source": [
        "df1.info()"
      ],
      "metadata": {
        "colab": {
          "base_uri": "https://localhost:8080/"
        },
        "id": "Gg-Qan5WgSmc",
        "outputId": "4497e6d2-8cc0-4dd6-8b45-10598c88faae"
      },
      "execution_count": 240,
      "outputs": [
        {
          "output_type": "stream",
          "name": "stdout",
          "text": [
            "<class 'pandas.core.frame.DataFrame'>\n",
            "Int64Index: 54 entries, 0 to 54\n",
            "Data columns (total 23 columns):\n",
            " #   Column            Non-Null Count  Dtype         \n",
            "---  ------            --------------  -----         \n",
            " 0   product_details   54 non-null     object        \n",
            " 1   asin              54 non-null     object        \n",
            " 2   url               54 non-null     object        \n",
            " 3   image_url         54 non-null     object        \n",
            " 4   brand             54 non-null     object        \n",
            " 5   price_aed         54 non-null     float64       \n",
            " 6   sales             54 non-null     float64       \n",
            " 7   revenue           54 non-null     float64       \n",
            " 8   bsr               54 non-null     object        \n",
            " 9   fees_aed          54 non-null     float64       \n",
            " 10  active_sellers_#  54 non-null     int64         \n",
            " 11  ratings           54 non-null     float64       \n",
            " 12  review_count      54 non-null     object        \n",
            " 13  images            54 non-null     int64         \n",
            " 14  review_velocity   54 non-null     int64         \n",
            " 15  buy_box           54 non-null     object        \n",
            " 16  category          54 non-null     object        \n",
            " 17  size_tier         54 non-null     object        \n",
            " 18  fulfillment       54 non-null     object        \n",
            " 19  dimensions        54 non-null     object        \n",
            " 20  weight            54 non-null     float64       \n",
            " 21  creation_date     46 non-null     datetime64[ns]\n",
            " 22  is_missing_date   54 non-null     bool          \n",
            "dtypes: bool(1), datetime64[ns](1), float64(6), int64(3), object(12)\n",
            "memory usage: 9.8+ KB\n"
          ]
        }
      ]
    },
    {
      "cell_type": "markdown",
      "source": [
        "* we have 8 numerical and 14 categorical, but some values are wrong like: creation_date, dimensions, review count,revenue,asin as they are numerical\n"
      ],
      "metadata": {
        "id": "H7iAFk_thFRG"
      }
    },
    {
      "cell_type": "markdown",
      "source": [
        "#### We need to remove the  ($) from product_details for better interpretetion"
      ],
      "metadata": {
        "id": "XH7392DormQS"
      }
    },
    {
      "cell_type": "code",
      "source": [
        "# df1['product_details'] = df1['product_details'].str.replace('($)', '', regex=True)\n",
        "df1['product_details'] = df1['product_details'].str.replace('$', '', regex=True)"
      ],
      "metadata": {
        "id": "6zg-BEJ2rkr_"
      },
      "execution_count": 241,
      "outputs": []
    },
    {
      "cell_type": "code",
      "source": [
        "\n",
        "df1['product_details'] = df1['product_details'].str.replace('(', '').str.replace(')', '')\n"
      ],
      "metadata": {
        "colab": {
          "base_uri": "https://localhost:8080/"
        },
        "id": "CMdz05HWuzet",
        "outputId": "5c858f3f-69ef-41b5-964c-d2fff99f864f"
      },
      "execution_count": 242,
      "outputs": [
        {
          "output_type": "stream",
          "name": "stderr",
          "text": [
            "<ipython-input-242-859a836d1cd3>:1: FutureWarning: The default value of regex will change from True to False in a future version. In addition, single character regular expressions will *not* be treated as literal strings when regex=True.\n",
            "  df1['product_details'] = df1['product_details'].str.replace('(', '').str.replace(')', '')\n"
          ]
        }
      ]
    },
    {
      "cell_type": "code",
      "source": [
        "df1['product_details'] = df1['product_details'].str.replace('&', 'and', regex=True)"
      ],
      "metadata": {
        "id": "Mw0ylWHb2AoF"
      },
      "execution_count": 243,
      "outputs": []
    },
    {
      "cell_type": "code",
      "source": [
        "df1['product_details'] = df1['product_details'].str.replace('I', '1', regex=True)"
      ],
      "metadata": {
        "id": "kTrE9XCJCMB1"
      },
      "execution_count": 244,
      "outputs": []
    },
    {
      "cell_type": "code",
      "source": [
        "df1['product_details'] = df1['product_details'].str.replace('II', '2', regex=True)"
      ],
      "metadata": {
        "id": "qjp64tWECRwj"
      },
      "execution_count": 245,
      "outputs": []
    },
    {
      "cell_type": "markdown",
      "source": [],
      "metadata": {
        "id": "EguDon-e1-0P"
      }
    },
    {
      "cell_type": "code",
      "source": [
        "df1.head()"
      ],
      "metadata": {
        "colab": {
          "base_uri": "https://localhost:8080/",
          "height": 773
        },
        "id": "eCvJ7hvotWvo",
        "outputId": "9c87b6bd-638c-4621-d7b1-be7db61d3bd0"
      },
      "execution_count": 246,
      "outputs": [
        {
          "output_type": "execute_result",
          "data": {
            "text/plain": [
              "                                                                                                                                                                                             product_details  \\\n",
              "0   Nutrili Marine Collagen Shots 20 | Hair, Skin and Nails | 10g Marine Collagen, Hyaluronic Acid, Biotin and Vitamin C                                                                                       \n",
              "1   Swisse Beauty Collagen Glow Powder with 2500mg Hydrolised Collagen Purest Form and Grape Seed Extract To Boost Skin Elasticity and Firmness For a Younger Looking Skin | 20 Servings | For Men and Women   \n",
              "2   Snaktive Collagen Chocolate - 6x40g bars                                                                                                                                                                   \n",
              "3  Youtheory Collagen Advanced with Vitamin C, 120 Count 1 Bottle                                                                                                                                              \n",
              "4  Neocell Super Collagen PlUS C - 250 Tablets                                                                                                                                                                 \n",
              "\n",
              "         asin                                        url  \\\n",
              "0  B09YD7RHC2  https://www.amazon.ae/dp/B09YD7RHC2?psc=1   \n",
              "1  B08NDYTG3D  https://www.amazon.ae/dp/B08NDYTG3D?psc=1   \n",
              "2  B0B9SWK8XQ  https://www.amazon.ae/dp/B0B9SWK8XQ?psc=1   \n",
              "3  B006VAZYLS  https://www.amazon.ae/dp/B006VAZYLS?psc=1   \n",
              "4  B00028NGEC  https://www.amazon.ae/dp/B00028NGEC?psc=1   \n",
              "\n",
              "                                                        image_url      brand  \\\n",
              "0  https://m.media-amazon.com/images/I/61asHjsoyPL._AC_SX679_.jpg  Nutrili     \n",
              "1  https://m.media-amazon.com/images/I/71VnTFRUH4L._AC_SX522_.jpg  Swisse      \n",
              "2  https://m.media-amazon.com/images/I/61Id91ioPEL._AC_SX466_.jpg  SNAKTIVE    \n",
              "3  https://m.media-amazon.com/images/I/71m5dU+vK4L._AC_SY450_.jpg  Youtheory   \n",
              "4  https://m.media-amazon.com/images/I/71TDUkdGRZL._AC_SY450_.jpg  Neocell     \n",
              "\n",
              "   price_aed  sales  revenue     bsr  fees_aed  active_sellers_#  ratings  \\\n",
              "0  295.00     88.0   444.464  811     52.75     1                 4.6       \n",
              "1  144.00     5.0    720.000  23,351  29.60     1                 4.9       \n",
              "2  60.00      4.0    240.000  26,620  16.50     1                 5.0       \n",
              "3  60.37      89.0   444.464  753     17.00     8                 4.5       \n",
              "4  135.00     542.0  444.464  200     28.25     2                 4.4       \n",
              "\n",
              "  review_count  images  review_velocity                    buy_box category  \\\n",
              "0  26           11      4                nutrili                    Health    \n",
              "1  9            3       0                Pattern MENA               Health    \n",
              "2  2            4       0                Le Chocolat LLC            Health    \n",
              "3  4,676        9       88               NBL General Trading L.L.C  Health    \n",
              "4  18,342       14      140              Amazon                     Health    \n",
              "\n",
              "         size_tier fulfillment   dimensions  weight creation_date  \\\n",
              "0  Standard Parcel  FBA         4.4x3.4x4.6  1.72   2022-04-20      \n",
              "1  Standard Parcel  FBA         2.8x2.7x4.9  0.37   NaT             \n",
              "2  Large Envelope   FBA         1.8x5.1x2.8  0.55   NaT             \n",
              "3  Standard Parcel  FBA         3.1x3.0x3.6  0.42   NaT             \n",
              "4  Standard Parcel  AMZ         3.1x2.8x5.3  0.66   2019-03-06      \n",
              "\n",
              "   is_missing_date  \n",
              "0  False            \n",
              "1  True             \n",
              "2  True             \n",
              "3  True             \n",
              "4  False            "
            ],
            "text/html": [
              "\n",
              "  <div id=\"df-8630b067-5995-4e98-9d2a-5ac57acaa32d\">\n",
              "    <div class=\"colab-df-container\">\n",
              "      <div>\n",
              "<style scoped>\n",
              "    .dataframe tbody tr th:only-of-type {\n",
              "        vertical-align: middle;\n",
              "    }\n",
              "\n",
              "    .dataframe tbody tr th {\n",
              "        vertical-align: top;\n",
              "    }\n",
              "\n",
              "    .dataframe thead th {\n",
              "        text-align: right;\n",
              "    }\n",
              "</style>\n",
              "<table border=\"1\" class=\"dataframe\">\n",
              "  <thead>\n",
              "    <tr style=\"text-align: right;\">\n",
              "      <th></th>\n",
              "      <th>product_details</th>\n",
              "      <th>asin</th>\n",
              "      <th>url</th>\n",
              "      <th>image_url</th>\n",
              "      <th>brand</th>\n",
              "      <th>price_aed</th>\n",
              "      <th>sales</th>\n",
              "      <th>revenue</th>\n",
              "      <th>bsr</th>\n",
              "      <th>fees_aed</th>\n",
              "      <th>active_sellers_#</th>\n",
              "      <th>ratings</th>\n",
              "      <th>review_count</th>\n",
              "      <th>images</th>\n",
              "      <th>review_velocity</th>\n",
              "      <th>buy_box</th>\n",
              "      <th>category</th>\n",
              "      <th>size_tier</th>\n",
              "      <th>fulfillment</th>\n",
              "      <th>dimensions</th>\n",
              "      <th>weight</th>\n",
              "      <th>creation_date</th>\n",
              "      <th>is_missing_date</th>\n",
              "    </tr>\n",
              "  </thead>\n",
              "  <tbody>\n",
              "    <tr>\n",
              "      <th>0</th>\n",
              "      <td>Nutrili Marine Collagen Shots 20 | Hair, Skin and Nails | 10g Marine Collagen, Hyaluronic Acid, Biotin and Vitamin C</td>\n",
              "      <td>B09YD7RHC2</td>\n",
              "      <td>https://www.amazon.ae/dp/B09YD7RHC2?psc=1</td>\n",
              "      <td>https://m.media-amazon.com/images/I/61asHjsoyPL._AC_SX679_.jpg</td>\n",
              "      <td>Nutrili</td>\n",
              "      <td>295.00</td>\n",
              "      <td>88.0</td>\n",
              "      <td>444.464</td>\n",
              "      <td>811</td>\n",
              "      <td>52.75</td>\n",
              "      <td>1</td>\n",
              "      <td>4.6</td>\n",
              "      <td>26</td>\n",
              "      <td>11</td>\n",
              "      <td>4</td>\n",
              "      <td>nutrili</td>\n",
              "      <td>Health</td>\n",
              "      <td>Standard Parcel</td>\n",
              "      <td>FBA</td>\n",
              "      <td>4.4x3.4x4.6</td>\n",
              "      <td>1.72</td>\n",
              "      <td>2022-04-20</td>\n",
              "      <td>False</td>\n",
              "    </tr>\n",
              "    <tr>\n",
              "      <th>1</th>\n",
              "      <td>Swisse Beauty Collagen Glow Powder with 2500mg Hydrolised Collagen Purest Form and Grape Seed Extract To Boost Skin Elasticity and Firmness For a Younger Looking Skin | 20 Servings | For Men and Women</td>\n",
              "      <td>B08NDYTG3D</td>\n",
              "      <td>https://www.amazon.ae/dp/B08NDYTG3D?psc=1</td>\n",
              "      <td>https://m.media-amazon.com/images/I/71VnTFRUH4L._AC_SX522_.jpg</td>\n",
              "      <td>Swisse</td>\n",
              "      <td>144.00</td>\n",
              "      <td>5.0</td>\n",
              "      <td>720.000</td>\n",
              "      <td>23,351</td>\n",
              "      <td>29.60</td>\n",
              "      <td>1</td>\n",
              "      <td>4.9</td>\n",
              "      <td>9</td>\n",
              "      <td>3</td>\n",
              "      <td>0</td>\n",
              "      <td>Pattern MENA</td>\n",
              "      <td>Health</td>\n",
              "      <td>Standard Parcel</td>\n",
              "      <td>FBA</td>\n",
              "      <td>2.8x2.7x4.9</td>\n",
              "      <td>0.37</td>\n",
              "      <td>NaT</td>\n",
              "      <td>True</td>\n",
              "    </tr>\n",
              "    <tr>\n",
              "      <th>2</th>\n",
              "      <td>Snaktive Collagen Chocolate - 6x40g bars</td>\n",
              "      <td>B0B9SWK8XQ</td>\n",
              "      <td>https://www.amazon.ae/dp/B0B9SWK8XQ?psc=1</td>\n",
              "      <td>https://m.media-amazon.com/images/I/61Id91ioPEL._AC_SX466_.jpg</td>\n",
              "      <td>SNAKTIVE</td>\n",
              "      <td>60.00</td>\n",
              "      <td>4.0</td>\n",
              "      <td>240.000</td>\n",
              "      <td>26,620</td>\n",
              "      <td>16.50</td>\n",
              "      <td>1</td>\n",
              "      <td>5.0</td>\n",
              "      <td>2</td>\n",
              "      <td>4</td>\n",
              "      <td>0</td>\n",
              "      <td>Le Chocolat LLC</td>\n",
              "      <td>Health</td>\n",
              "      <td>Large Envelope</td>\n",
              "      <td>FBA</td>\n",
              "      <td>1.8x5.1x2.8</td>\n",
              "      <td>0.55</td>\n",
              "      <td>NaT</td>\n",
              "      <td>True</td>\n",
              "    </tr>\n",
              "    <tr>\n",
              "      <th>3</th>\n",
              "      <td>Youtheory Collagen Advanced with Vitamin C, 120 Count 1 Bottle</td>\n",
              "      <td>B006VAZYLS</td>\n",
              "      <td>https://www.amazon.ae/dp/B006VAZYLS?psc=1</td>\n",
              "      <td>https://m.media-amazon.com/images/I/71m5dU+vK4L._AC_SY450_.jpg</td>\n",
              "      <td>Youtheory</td>\n",
              "      <td>60.37</td>\n",
              "      <td>89.0</td>\n",
              "      <td>444.464</td>\n",
              "      <td>753</td>\n",
              "      <td>17.00</td>\n",
              "      <td>8</td>\n",
              "      <td>4.5</td>\n",
              "      <td>4,676</td>\n",
              "      <td>9</td>\n",
              "      <td>88</td>\n",
              "      <td>NBL General Trading L.L.C</td>\n",
              "      <td>Health</td>\n",
              "      <td>Standard Parcel</td>\n",
              "      <td>FBA</td>\n",
              "      <td>3.1x3.0x3.6</td>\n",
              "      <td>0.42</td>\n",
              "      <td>NaT</td>\n",
              "      <td>True</td>\n",
              "    </tr>\n",
              "    <tr>\n",
              "      <th>4</th>\n",
              "      <td>Neocell Super Collagen PlUS C - 250 Tablets</td>\n",
              "      <td>B00028NGEC</td>\n",
              "      <td>https://www.amazon.ae/dp/B00028NGEC?psc=1</td>\n",
              "      <td>https://m.media-amazon.com/images/I/71TDUkdGRZL._AC_SY450_.jpg</td>\n",
              "      <td>Neocell</td>\n",
              "      <td>135.00</td>\n",
              "      <td>542.0</td>\n",
              "      <td>444.464</td>\n",
              "      <td>200</td>\n",
              "      <td>28.25</td>\n",
              "      <td>2</td>\n",
              "      <td>4.4</td>\n",
              "      <td>18,342</td>\n",
              "      <td>14</td>\n",
              "      <td>140</td>\n",
              "      <td>Amazon</td>\n",
              "      <td>Health</td>\n",
              "      <td>Standard Parcel</td>\n",
              "      <td>AMZ</td>\n",
              "      <td>3.1x2.8x5.3</td>\n",
              "      <td>0.66</td>\n",
              "      <td>2019-03-06</td>\n",
              "      <td>False</td>\n",
              "    </tr>\n",
              "  </tbody>\n",
              "</table>\n",
              "</div>\n",
              "      <button class=\"colab-df-convert\" onclick=\"convertToInteractive('df-8630b067-5995-4e98-9d2a-5ac57acaa32d')\"\n",
              "              title=\"Convert this dataframe to an interactive table.\"\n",
              "              style=\"display:none;\">\n",
              "        \n",
              "  <svg xmlns=\"http://www.w3.org/2000/svg\" height=\"24px\"viewBox=\"0 0 24 24\"\n",
              "       width=\"24px\">\n",
              "    <path d=\"M0 0h24v24H0V0z\" fill=\"none\"/>\n",
              "    <path d=\"M18.56 5.44l.94 2.06.94-2.06 2.06-.94-2.06-.94-.94-2.06-.94 2.06-2.06.94zm-11 1L8.5 8.5l.94-2.06 2.06-.94-2.06-.94L8.5 2.5l-.94 2.06-2.06.94zm10 10l.94 2.06.94-2.06 2.06-.94-2.06-.94-.94-2.06-.94 2.06-2.06.94z\"/><path d=\"M17.41 7.96l-1.37-1.37c-.4-.4-.92-.59-1.43-.59-.52 0-1.04.2-1.43.59L10.3 9.45l-7.72 7.72c-.78.78-.78 2.05 0 2.83L4 21.41c.39.39.9.59 1.41.59.51 0 1.02-.2 1.41-.59l7.78-7.78 2.81-2.81c.8-.78.8-2.07 0-2.86zM5.41 20L4 18.59l7.72-7.72 1.47 1.35L5.41 20z\"/>\n",
              "  </svg>\n",
              "      </button>\n",
              "      \n",
              "  <style>\n",
              "    .colab-df-container {\n",
              "      display:flex;\n",
              "      flex-wrap:wrap;\n",
              "      gap: 12px;\n",
              "    }\n",
              "\n",
              "    .colab-df-convert {\n",
              "      background-color: #E8F0FE;\n",
              "      border: none;\n",
              "      border-radius: 50%;\n",
              "      cursor: pointer;\n",
              "      display: none;\n",
              "      fill: #1967D2;\n",
              "      height: 32px;\n",
              "      padding: 0 0 0 0;\n",
              "      width: 32px;\n",
              "    }\n",
              "\n",
              "    .colab-df-convert:hover {\n",
              "      background-color: #E2EBFA;\n",
              "      box-shadow: 0px 1px 2px rgba(60, 64, 67, 0.3), 0px 1px 3px 1px rgba(60, 64, 67, 0.15);\n",
              "      fill: #174EA6;\n",
              "    }\n",
              "\n",
              "    [theme=dark] .colab-df-convert {\n",
              "      background-color: #3B4455;\n",
              "      fill: #D2E3FC;\n",
              "    }\n",
              "\n",
              "    [theme=dark] .colab-df-convert:hover {\n",
              "      background-color: #434B5C;\n",
              "      box-shadow: 0px 1px 3px 1px rgba(0, 0, 0, 0.15);\n",
              "      filter: drop-shadow(0px 1px 2px rgba(0, 0, 0, 0.3));\n",
              "      fill: #FFFFFF;\n",
              "    }\n",
              "  </style>\n",
              "\n",
              "      <script>\n",
              "        const buttonEl =\n",
              "          document.querySelector('#df-8630b067-5995-4e98-9d2a-5ac57acaa32d button.colab-df-convert');\n",
              "        buttonEl.style.display =\n",
              "          google.colab.kernel.accessAllowed ? 'block' : 'none';\n",
              "\n",
              "        async function convertToInteractive(key) {\n",
              "          const element = document.querySelector('#df-8630b067-5995-4e98-9d2a-5ac57acaa32d');\n",
              "          const dataTable =\n",
              "            await google.colab.kernel.invokeFunction('convertToInteractive',\n",
              "                                                     [key], {});\n",
              "          if (!dataTable) return;\n",
              "\n",
              "          const docLinkHtml = 'Like what you see? Visit the ' +\n",
              "            '<a target=\"_blank\" href=https://colab.research.google.com/notebooks/data_table.ipynb>data table notebook</a>'\n",
              "            + ' to learn more about interactive tables.';\n",
              "          element.innerHTML = '';\n",
              "          dataTable['output_type'] = 'display_data';\n",
              "          await google.colab.output.renderOutput(dataTable, element);\n",
              "          const docLink = document.createElement('div');\n",
              "          docLink.innerHTML = docLinkHtml;\n",
              "          element.appendChild(docLink);\n",
              "        }\n",
              "      </script>\n",
              "    </div>\n",
              "  </div>\n",
              "  "
            ]
          },
          "metadata": {},
          "execution_count": 246
        }
      ]
    },
    {
      "cell_type": "markdown",
      "source": [
        "#### Statistical info\n"
      ],
      "metadata": {
        "id": "R__UGPHciWsf"
      }
    },
    {
      "cell_type": "code",
      "source": [
        "df1.describe().T "
      ],
      "metadata": {
        "colab": {
          "base_uri": "https://localhost:8080/",
          "height": 331
        },
        "id": "6i7Wi_omftek",
        "outputId": "72a91002-a213-4ab5-a545-0388b50ec63b"
      },
      "execution_count": 247,
      "outputs": [
        {
          "output_type": "execute_result",
          "data": {
            "text/plain": [
              "                  count        mean         std     min       25%      50%  \\\n",
              "price_aed         54.0   157.195000  103.833579  26.99   85.0000   130.500   \n",
              "sales             54.0   100.274510  117.747744  1.00    31.2500   69.500    \n",
              "revenue           54.0   444.464000  79.518445   231.00  444.4640  444.464   \n",
              "fees_aed          54.0   31.722963   16.027337   8.66    20.7500   27.600    \n",
              "active_sellers_#  54.0   4.259259    2.972739    1.00    2.0000    3.000     \n",
              "ratings           54.0   4.474074    0.278260    3.40    4.3250    4.500     \n",
              "images            54.0   6.722222    3.450002    1.00    4.0000    6.500     \n",
              "review_velocity   54.0   37.407407   87.546110  -87.00   1.0000    6.500     \n",
              "weight            54.0   0.986111    0.848836    0.09    0.4425    0.620     \n",
              "\n",
              "                       75%     max  \n",
              "price_aed         204.8925  608.99  \n",
              "sales             117.2500  569.00  \n",
              "revenue           444.4640  800.00  \n",
              "fees_aed          38.8775   101.85  \n",
              "active_sellers_#  7.0000    11.00   \n",
              "ratings           4.6000    5.00    \n",
              "images            9.0000    16.00   \n",
              "review_velocity   24.0000   497.00  \n",
              "weight            1.3725    4.37    "
            ],
            "text/html": [
              "\n",
              "  <div id=\"df-afc50eef-acfd-4bc9-baf9-a53a38b0a295\">\n",
              "    <div class=\"colab-df-container\">\n",
              "      <div>\n",
              "<style scoped>\n",
              "    .dataframe tbody tr th:only-of-type {\n",
              "        vertical-align: middle;\n",
              "    }\n",
              "\n",
              "    .dataframe tbody tr th {\n",
              "        vertical-align: top;\n",
              "    }\n",
              "\n",
              "    .dataframe thead th {\n",
              "        text-align: right;\n",
              "    }\n",
              "</style>\n",
              "<table border=\"1\" class=\"dataframe\">\n",
              "  <thead>\n",
              "    <tr style=\"text-align: right;\">\n",
              "      <th></th>\n",
              "      <th>count</th>\n",
              "      <th>mean</th>\n",
              "      <th>std</th>\n",
              "      <th>min</th>\n",
              "      <th>25%</th>\n",
              "      <th>50%</th>\n",
              "      <th>75%</th>\n",
              "      <th>max</th>\n",
              "    </tr>\n",
              "  </thead>\n",
              "  <tbody>\n",
              "    <tr>\n",
              "      <th>price_aed</th>\n",
              "      <td>54.0</td>\n",
              "      <td>157.195000</td>\n",
              "      <td>103.833579</td>\n",
              "      <td>26.99</td>\n",
              "      <td>85.0000</td>\n",
              "      <td>130.500</td>\n",
              "      <td>204.8925</td>\n",
              "      <td>608.99</td>\n",
              "    </tr>\n",
              "    <tr>\n",
              "      <th>sales</th>\n",
              "      <td>54.0</td>\n",
              "      <td>100.274510</td>\n",
              "      <td>117.747744</td>\n",
              "      <td>1.00</td>\n",
              "      <td>31.2500</td>\n",
              "      <td>69.500</td>\n",
              "      <td>117.2500</td>\n",
              "      <td>569.00</td>\n",
              "    </tr>\n",
              "    <tr>\n",
              "      <th>revenue</th>\n",
              "      <td>54.0</td>\n",
              "      <td>444.464000</td>\n",
              "      <td>79.518445</td>\n",
              "      <td>231.00</td>\n",
              "      <td>444.4640</td>\n",
              "      <td>444.464</td>\n",
              "      <td>444.4640</td>\n",
              "      <td>800.00</td>\n",
              "    </tr>\n",
              "    <tr>\n",
              "      <th>fees_aed</th>\n",
              "      <td>54.0</td>\n",
              "      <td>31.722963</td>\n",
              "      <td>16.027337</td>\n",
              "      <td>8.66</td>\n",
              "      <td>20.7500</td>\n",
              "      <td>27.600</td>\n",
              "      <td>38.8775</td>\n",
              "      <td>101.85</td>\n",
              "    </tr>\n",
              "    <tr>\n",
              "      <th>active_sellers_#</th>\n",
              "      <td>54.0</td>\n",
              "      <td>4.259259</td>\n",
              "      <td>2.972739</td>\n",
              "      <td>1.00</td>\n",
              "      <td>2.0000</td>\n",
              "      <td>3.000</td>\n",
              "      <td>7.0000</td>\n",
              "      <td>11.00</td>\n",
              "    </tr>\n",
              "    <tr>\n",
              "      <th>ratings</th>\n",
              "      <td>54.0</td>\n",
              "      <td>4.474074</td>\n",
              "      <td>0.278260</td>\n",
              "      <td>3.40</td>\n",
              "      <td>4.3250</td>\n",
              "      <td>4.500</td>\n",
              "      <td>4.6000</td>\n",
              "      <td>5.00</td>\n",
              "    </tr>\n",
              "    <tr>\n",
              "      <th>images</th>\n",
              "      <td>54.0</td>\n",
              "      <td>6.722222</td>\n",
              "      <td>3.450002</td>\n",
              "      <td>1.00</td>\n",
              "      <td>4.0000</td>\n",
              "      <td>6.500</td>\n",
              "      <td>9.0000</td>\n",
              "      <td>16.00</td>\n",
              "    </tr>\n",
              "    <tr>\n",
              "      <th>review_velocity</th>\n",
              "      <td>54.0</td>\n",
              "      <td>37.407407</td>\n",
              "      <td>87.546110</td>\n",
              "      <td>-87.00</td>\n",
              "      <td>1.0000</td>\n",
              "      <td>6.500</td>\n",
              "      <td>24.0000</td>\n",
              "      <td>497.00</td>\n",
              "    </tr>\n",
              "    <tr>\n",
              "      <th>weight</th>\n",
              "      <td>54.0</td>\n",
              "      <td>0.986111</td>\n",
              "      <td>0.848836</td>\n",
              "      <td>0.09</td>\n",
              "      <td>0.4425</td>\n",
              "      <td>0.620</td>\n",
              "      <td>1.3725</td>\n",
              "      <td>4.37</td>\n",
              "    </tr>\n",
              "  </tbody>\n",
              "</table>\n",
              "</div>\n",
              "      <button class=\"colab-df-convert\" onclick=\"convertToInteractive('df-afc50eef-acfd-4bc9-baf9-a53a38b0a295')\"\n",
              "              title=\"Convert this dataframe to an interactive table.\"\n",
              "              style=\"display:none;\">\n",
              "        \n",
              "  <svg xmlns=\"http://www.w3.org/2000/svg\" height=\"24px\"viewBox=\"0 0 24 24\"\n",
              "       width=\"24px\">\n",
              "    <path d=\"M0 0h24v24H0V0z\" fill=\"none\"/>\n",
              "    <path d=\"M18.56 5.44l.94 2.06.94-2.06 2.06-.94-2.06-.94-.94-2.06-.94 2.06-2.06.94zm-11 1L8.5 8.5l.94-2.06 2.06-.94-2.06-.94L8.5 2.5l-.94 2.06-2.06.94zm10 10l.94 2.06.94-2.06 2.06-.94-2.06-.94-.94-2.06-.94 2.06-2.06.94z\"/><path d=\"M17.41 7.96l-1.37-1.37c-.4-.4-.92-.59-1.43-.59-.52 0-1.04.2-1.43.59L10.3 9.45l-7.72 7.72c-.78.78-.78 2.05 0 2.83L4 21.41c.39.39.9.59 1.41.59.51 0 1.02-.2 1.41-.59l7.78-7.78 2.81-2.81c.8-.78.8-2.07 0-2.86zM5.41 20L4 18.59l7.72-7.72 1.47 1.35L5.41 20z\"/>\n",
              "  </svg>\n",
              "      </button>\n",
              "      \n",
              "  <style>\n",
              "    .colab-df-container {\n",
              "      display:flex;\n",
              "      flex-wrap:wrap;\n",
              "      gap: 12px;\n",
              "    }\n",
              "\n",
              "    .colab-df-convert {\n",
              "      background-color: #E8F0FE;\n",
              "      border: none;\n",
              "      border-radius: 50%;\n",
              "      cursor: pointer;\n",
              "      display: none;\n",
              "      fill: #1967D2;\n",
              "      height: 32px;\n",
              "      padding: 0 0 0 0;\n",
              "      width: 32px;\n",
              "    }\n",
              "\n",
              "    .colab-df-convert:hover {\n",
              "      background-color: #E2EBFA;\n",
              "      box-shadow: 0px 1px 2px rgba(60, 64, 67, 0.3), 0px 1px 3px 1px rgba(60, 64, 67, 0.15);\n",
              "      fill: #174EA6;\n",
              "    }\n",
              "\n",
              "    [theme=dark] .colab-df-convert {\n",
              "      background-color: #3B4455;\n",
              "      fill: #D2E3FC;\n",
              "    }\n",
              "\n",
              "    [theme=dark] .colab-df-convert:hover {\n",
              "      background-color: #434B5C;\n",
              "      box-shadow: 0px 1px 3px 1px rgba(0, 0, 0, 0.15);\n",
              "      filter: drop-shadow(0px 1px 2px rgba(0, 0, 0, 0.3));\n",
              "      fill: #FFFFFF;\n",
              "    }\n",
              "  </style>\n",
              "\n",
              "      <script>\n",
              "        const buttonEl =\n",
              "          document.querySelector('#df-afc50eef-acfd-4bc9-baf9-a53a38b0a295 button.colab-df-convert');\n",
              "        buttonEl.style.display =\n",
              "          google.colab.kernel.accessAllowed ? 'block' : 'none';\n",
              "\n",
              "        async function convertToInteractive(key) {\n",
              "          const element = document.querySelector('#df-afc50eef-acfd-4bc9-baf9-a53a38b0a295');\n",
              "          const dataTable =\n",
              "            await google.colab.kernel.invokeFunction('convertToInteractive',\n",
              "                                                     [key], {});\n",
              "          if (!dataTable) return;\n",
              "\n",
              "          const docLinkHtml = 'Like what you see? Visit the ' +\n",
              "            '<a target=\"_blank\" href=https://colab.research.google.com/notebooks/data_table.ipynb>data table notebook</a>'\n",
              "            + ' to learn more about interactive tables.';\n",
              "          element.innerHTML = '';\n",
              "          dataTable['output_type'] = 'display_data';\n",
              "          await google.colab.output.renderOutput(dataTable, element);\n",
              "          const docLink = document.createElement('div');\n",
              "          docLink.innerHTML = docLinkHtml;\n",
              "          element.appendChild(docLink);\n",
              "        }\n",
              "      </script>\n",
              "    </div>\n",
              "  </div>\n",
              "  "
            ]
          },
          "metadata": {},
          "execution_count": 247
        }
      ]
    },
    {
      "cell_type": "markdown",
      "source": [
        "#### Проверим asin, url, image_url на уникальность:"
      ],
      "metadata": {
        "id": "fQM0xfYhd90D"
      }
    },
    {
      "cell_type": "code",
      "source": [
        "df1.image_url.nunique()"
      ],
      "metadata": {
        "colab": {
          "base_uri": "https://localhost:8080/"
        },
        "outputId": "bda5d54f-e25c-4e8e-e783-9db92753b3c1",
        "id": "41wA3oT4C3VN"
      },
      "execution_count": 248,
      "outputs": [
        {
          "output_type": "execute_result",
          "data": {
            "text/plain": [
              "52"
            ]
          },
          "metadata": {},
          "execution_count": 248
        }
      ]
    },
    {
      "cell_type": "code",
      "source": [
        "df1.url.nunique()"
      ],
      "metadata": {
        "colab": {
          "base_uri": "https://localhost:8080/"
        },
        "outputId": "492cc7b3-3dff-43e4-e3d0-bde1f1f8d20f",
        "id": "b4x6rcD6C3Vp"
      },
      "execution_count": 249,
      "outputs": [
        {
          "output_type": "execute_result",
          "data": {
            "text/plain": [
              "52"
            ]
          },
          "metadata": {},
          "execution_count": 249
        }
      ]
    },
    {
      "cell_type": "code",
      "source": [
        "df1.asin.nunique()"
      ],
      "metadata": {
        "colab": {
          "base_uri": "https://localhost:8080/"
        },
        "outputId": "0fec822e-b7bd-4322-a7ee-2a286f1bfbb3",
        "id": "koI0MeyfC3Vq"
      },
      "execution_count": 250,
      "outputs": [
        {
          "output_type": "execute_result",
          "data": {
            "text/plain": [
              "52"
            ]
          },
          "metadata": {},
          "execution_count": 250
        }
      ]
    },
    {
      "cell_type": "markdown",
      "source": [
        "* All of the rows in these columns are unique, which is why they hold no value for us. Therefore, we can drop them"
      ],
      "metadata": {
        "id": "B2-_fYoGjTDi"
      }
    },
    {
      "cell_type": "code",
      "source": [
        "df1 = df1.drop([\"image_url\"], axis=1)"
      ],
      "metadata": {
        "id": "1mXPQ0REC3Vq"
      },
      "execution_count": 251,
      "outputs": []
    },
    {
      "cell_type": "code",
      "source": [
        "df1 = df1.drop([\"url\"], axis=1)"
      ],
      "metadata": {
        "id": "fRK8gU8jC3Vr"
      },
      "execution_count": 252,
      "outputs": []
    },
    {
      "cell_type": "code",
      "source": [
        "df1 = df1.drop([\"asin\"], axis=1)"
      ],
      "metadata": {
        "id": "uCnWEjB2C3Vs"
      },
      "execution_count": 253,
      "outputs": []
    },
    {
      "cell_type": "code",
      "source": [
        "df1 = df1.drop([\"category\"], axis=1)"
      ],
      "metadata": {
        "id": "gH8tDIHKC3Vs"
      },
      "execution_count": 254,
      "outputs": []
    },
    {
      "cell_type": "code",
      "source": [
        "# Assuming the dataframe is named df1 and the column is named 'Sales'\n",
        "df1['sales'] = df1['sales'].replace('n/a', np.nan)"
      ],
      "metadata": {
        "id": "n-Dh8QSBnjvo"
      },
      "execution_count": 255,
      "outputs": []
    },
    {
      "cell_type": "markdown",
      "source": [
        "#### We now need to change the data type of the next column to numerical since the following columns are categorical: \n",
        "\n",
        "*   revenue\n",
        "*   review count\n",
        "*   bsr\n"
      ],
      "metadata": {
        "id": "i9P_1EtfkI_2"
      }
    },
    {
      "cell_type": "code",
      "source": [
        "df1['revenue'] = df1['revenue'].replace(',', '', regex=True).astype(float)\n"
      ],
      "metadata": {
        "id": "HpsQMn0VC3Vt"
      },
      "execution_count": 256,
      "outputs": []
    },
    {
      "cell_type": "code",
      "source": [
        "df1['bsr'] = df1['bsr'].str.replace(',', '',regex=True).astype(float)"
      ],
      "metadata": {
        "id": "EC1PPyTsC3Vu"
      },
      "execution_count": 257,
      "outputs": []
    },
    {
      "cell_type": "code",
      "source": [
        "df1['review_count'] = df1['review_count'].str.replace(',', '',regex=True).astype(float)"
      ],
      "metadata": {
        "id": "sITI2EKbC3Vu"
      },
      "execution_count": 258,
      "outputs": []
    },
    {
      "cell_type": "markdown",
      "source": [
        "now lets format data_creation to dd/mm/yyyy format"
      ],
      "metadata": {
        "id": "wIpZQNSIgVuX"
      }
    },
    {
      "cell_type": "code",
      "source": [
        "df1['creation_date'] = pd.to_datetime(df1['creation_date'], format='%m/%d/%Y')\n"
      ],
      "metadata": {
        "id": "G5TNHaB1gUvo"
      },
      "execution_count": 259,
      "outputs": []
    },
    {
      "cell_type": "code",
      "source": [
        "df1['creation_date'] = pd.to_datetime(df1['creation_date'], format='%m/%d/%Y', errors='coerce')\n",
        "\n"
      ],
      "metadata": {
        "id": "YNEAHAmZC3Vv"
      },
      "execution_count": 260,
      "outputs": []
    },
    {
      "cell_type": "markdown",
      "source": [
        "#### Lets check the format again:"
      ],
      "metadata": {
        "id": "_CCefJ0MmtMu"
      }
    },
    {
      "cell_type": "code",
      "source": [
        "df1.info()"
      ],
      "metadata": {
        "colab": {
          "base_uri": "https://localhost:8080/"
        },
        "id": "v2Eax4lFmqM5",
        "outputId": "bea76f5c-ddd9-4802-ec98-71ae72c37dae"
      },
      "execution_count": 261,
      "outputs": [
        {
          "output_type": "stream",
          "name": "stdout",
          "text": [
            "<class 'pandas.core.frame.DataFrame'>\n",
            "Int64Index: 54 entries, 0 to 54\n",
            "Data columns (total 19 columns):\n",
            " #   Column            Non-Null Count  Dtype         \n",
            "---  ------            --------------  -----         \n",
            " 0   product_details   54 non-null     object        \n",
            " 1   brand             54 non-null     object        \n",
            " 2   price_aed         54 non-null     float64       \n",
            " 3   sales             54 non-null     float64       \n",
            " 4   revenue           54 non-null     float64       \n",
            " 5   bsr               54 non-null     float64       \n",
            " 6   fees_aed          54 non-null     float64       \n",
            " 7   active_sellers_#  54 non-null     int64         \n",
            " 8   ratings           54 non-null     float64       \n",
            " 9   review_count      54 non-null     float64       \n",
            " 10  images            54 non-null     int64         \n",
            " 11  review_velocity   54 non-null     int64         \n",
            " 12  buy_box           54 non-null     object        \n",
            " 13  size_tier         54 non-null     object        \n",
            " 14  fulfillment       54 non-null     object        \n",
            " 15  dimensions        54 non-null     object        \n",
            " 16  weight            54 non-null     float64       \n",
            " 17  creation_date     46 non-null     datetime64[ns]\n",
            " 18  is_missing_date   54 non-null     bool          \n",
            "dtypes: bool(1), datetime64[ns](1), float64(8), int64(3), object(6)\n",
            "memory usage: 8.1+ KB\n"
          ]
        }
      ]
    },
    {
      "cell_type": "markdown",
      "source": [
        "* Now we have 11 numeric and 6 object, dimensions we will modify later"
      ],
      "metadata": {
        "id": "QY66k8Rtm732"
      }
    },
    {
      "cell_type": "code",
      "source": [
        "df1.describe().T "
      ],
      "metadata": {
        "colab": {
          "base_uri": "https://localhost:8080/",
          "height": 394
        },
        "id": "F_ZYexAgbB21",
        "outputId": "bba5f72f-d6ee-4e86-a5e6-5bcceeffa3e7"
      },
      "execution_count": 262,
      "outputs": [
        {
          "output_type": "execute_result",
          "data": {
            "text/plain": [
              "                  count         mean           std     min        25%  \\\n",
              "price_aed         54.0   157.195000   103.833579    26.99   85.0000     \n",
              "sales             54.0   100.274510   117.747744    1.00    31.2500     \n",
              "revenue           54.0   444.464000   79.518445     231.00  444.4640    \n",
              "bsr               54.0   6804.222222  10143.492145  200.00  1000.0000   \n",
              "fees_aed          54.0   31.722963    16.027337     8.66    20.7500     \n",
              "active_sellers_#  54.0   4.259259     2.972739      1.00    2.0000      \n",
              "ratings           54.0   4.474074     0.278260      3.40    4.3250      \n",
              "review_count      54.0   6974.037037  21379.497001  1.00    27.2500     \n",
              "images            54.0   6.722222     3.450002      1.00    4.0000      \n",
              "review_velocity   54.0   37.407407    87.546110    -87.00   1.0000      \n",
              "weight            54.0   0.986111     0.848836      0.09    0.4425      \n",
              "\n",
              "                       50%        75%       max  \n",
              "price_aed         130.500   204.8925   608.99    \n",
              "sales             69.500    117.2500   569.00    \n",
              "revenue           444.464   444.4640   800.00    \n",
              "bsr               3169.000  7433.2500  57439.00  \n",
              "fees_aed          27.600    38.8775    101.85    \n",
              "active_sellers_#  3.000     7.0000     11.00     \n",
              "ratings           4.500     4.6000     5.00      \n",
              "review_count      261.000   2573.5000  95283.00  \n",
              "images            6.500     9.0000     16.00     \n",
              "review_velocity   6.500     24.0000    497.00    \n",
              "weight            0.620     1.3725     4.37      "
            ],
            "text/html": [
              "\n",
              "  <div id=\"df-e8ea5891-8679-471d-a4b4-7b1f701b884d\">\n",
              "    <div class=\"colab-df-container\">\n",
              "      <div>\n",
              "<style scoped>\n",
              "    .dataframe tbody tr th:only-of-type {\n",
              "        vertical-align: middle;\n",
              "    }\n",
              "\n",
              "    .dataframe tbody tr th {\n",
              "        vertical-align: top;\n",
              "    }\n",
              "\n",
              "    .dataframe thead th {\n",
              "        text-align: right;\n",
              "    }\n",
              "</style>\n",
              "<table border=\"1\" class=\"dataframe\">\n",
              "  <thead>\n",
              "    <tr style=\"text-align: right;\">\n",
              "      <th></th>\n",
              "      <th>count</th>\n",
              "      <th>mean</th>\n",
              "      <th>std</th>\n",
              "      <th>min</th>\n",
              "      <th>25%</th>\n",
              "      <th>50%</th>\n",
              "      <th>75%</th>\n",
              "      <th>max</th>\n",
              "    </tr>\n",
              "  </thead>\n",
              "  <tbody>\n",
              "    <tr>\n",
              "      <th>price_aed</th>\n",
              "      <td>54.0</td>\n",
              "      <td>157.195000</td>\n",
              "      <td>103.833579</td>\n",
              "      <td>26.99</td>\n",
              "      <td>85.0000</td>\n",
              "      <td>130.500</td>\n",
              "      <td>204.8925</td>\n",
              "      <td>608.99</td>\n",
              "    </tr>\n",
              "    <tr>\n",
              "      <th>sales</th>\n",
              "      <td>54.0</td>\n",
              "      <td>100.274510</td>\n",
              "      <td>117.747744</td>\n",
              "      <td>1.00</td>\n",
              "      <td>31.2500</td>\n",
              "      <td>69.500</td>\n",
              "      <td>117.2500</td>\n",
              "      <td>569.00</td>\n",
              "    </tr>\n",
              "    <tr>\n",
              "      <th>revenue</th>\n",
              "      <td>54.0</td>\n",
              "      <td>444.464000</td>\n",
              "      <td>79.518445</td>\n",
              "      <td>231.00</td>\n",
              "      <td>444.4640</td>\n",
              "      <td>444.464</td>\n",
              "      <td>444.4640</td>\n",
              "      <td>800.00</td>\n",
              "    </tr>\n",
              "    <tr>\n",
              "      <th>bsr</th>\n",
              "      <td>54.0</td>\n",
              "      <td>6804.222222</td>\n",
              "      <td>10143.492145</td>\n",
              "      <td>200.00</td>\n",
              "      <td>1000.0000</td>\n",
              "      <td>3169.000</td>\n",
              "      <td>7433.2500</td>\n",
              "      <td>57439.00</td>\n",
              "    </tr>\n",
              "    <tr>\n",
              "      <th>fees_aed</th>\n",
              "      <td>54.0</td>\n",
              "      <td>31.722963</td>\n",
              "      <td>16.027337</td>\n",
              "      <td>8.66</td>\n",
              "      <td>20.7500</td>\n",
              "      <td>27.600</td>\n",
              "      <td>38.8775</td>\n",
              "      <td>101.85</td>\n",
              "    </tr>\n",
              "    <tr>\n",
              "      <th>active_sellers_#</th>\n",
              "      <td>54.0</td>\n",
              "      <td>4.259259</td>\n",
              "      <td>2.972739</td>\n",
              "      <td>1.00</td>\n",
              "      <td>2.0000</td>\n",
              "      <td>3.000</td>\n",
              "      <td>7.0000</td>\n",
              "      <td>11.00</td>\n",
              "    </tr>\n",
              "    <tr>\n",
              "      <th>ratings</th>\n",
              "      <td>54.0</td>\n",
              "      <td>4.474074</td>\n",
              "      <td>0.278260</td>\n",
              "      <td>3.40</td>\n",
              "      <td>4.3250</td>\n",
              "      <td>4.500</td>\n",
              "      <td>4.6000</td>\n",
              "      <td>5.00</td>\n",
              "    </tr>\n",
              "    <tr>\n",
              "      <th>review_count</th>\n",
              "      <td>54.0</td>\n",
              "      <td>6974.037037</td>\n",
              "      <td>21379.497001</td>\n",
              "      <td>1.00</td>\n",
              "      <td>27.2500</td>\n",
              "      <td>261.000</td>\n",
              "      <td>2573.5000</td>\n",
              "      <td>95283.00</td>\n",
              "    </tr>\n",
              "    <tr>\n",
              "      <th>images</th>\n",
              "      <td>54.0</td>\n",
              "      <td>6.722222</td>\n",
              "      <td>3.450002</td>\n",
              "      <td>1.00</td>\n",
              "      <td>4.0000</td>\n",
              "      <td>6.500</td>\n",
              "      <td>9.0000</td>\n",
              "      <td>16.00</td>\n",
              "    </tr>\n",
              "    <tr>\n",
              "      <th>review_velocity</th>\n",
              "      <td>54.0</td>\n",
              "      <td>37.407407</td>\n",
              "      <td>87.546110</td>\n",
              "      <td>-87.00</td>\n",
              "      <td>1.0000</td>\n",
              "      <td>6.500</td>\n",
              "      <td>24.0000</td>\n",
              "      <td>497.00</td>\n",
              "    </tr>\n",
              "    <tr>\n",
              "      <th>weight</th>\n",
              "      <td>54.0</td>\n",
              "      <td>0.986111</td>\n",
              "      <td>0.848836</td>\n",
              "      <td>0.09</td>\n",
              "      <td>0.4425</td>\n",
              "      <td>0.620</td>\n",
              "      <td>1.3725</td>\n",
              "      <td>4.37</td>\n",
              "    </tr>\n",
              "  </tbody>\n",
              "</table>\n",
              "</div>\n",
              "      <button class=\"colab-df-convert\" onclick=\"convertToInteractive('df-e8ea5891-8679-471d-a4b4-7b1f701b884d')\"\n",
              "              title=\"Convert this dataframe to an interactive table.\"\n",
              "              style=\"display:none;\">\n",
              "        \n",
              "  <svg xmlns=\"http://www.w3.org/2000/svg\" height=\"24px\"viewBox=\"0 0 24 24\"\n",
              "       width=\"24px\">\n",
              "    <path d=\"M0 0h24v24H0V0z\" fill=\"none\"/>\n",
              "    <path d=\"M18.56 5.44l.94 2.06.94-2.06 2.06-.94-2.06-.94-.94-2.06-.94 2.06-2.06.94zm-11 1L8.5 8.5l.94-2.06 2.06-.94-2.06-.94L8.5 2.5l-.94 2.06-2.06.94zm10 10l.94 2.06.94-2.06 2.06-.94-2.06-.94-.94-2.06-.94 2.06-2.06.94z\"/><path d=\"M17.41 7.96l-1.37-1.37c-.4-.4-.92-.59-1.43-.59-.52 0-1.04.2-1.43.59L10.3 9.45l-7.72 7.72c-.78.78-.78 2.05 0 2.83L4 21.41c.39.39.9.59 1.41.59.51 0 1.02-.2 1.41-.59l7.78-7.78 2.81-2.81c.8-.78.8-2.07 0-2.86zM5.41 20L4 18.59l7.72-7.72 1.47 1.35L5.41 20z\"/>\n",
              "  </svg>\n",
              "      </button>\n",
              "      \n",
              "  <style>\n",
              "    .colab-df-container {\n",
              "      display:flex;\n",
              "      flex-wrap:wrap;\n",
              "      gap: 12px;\n",
              "    }\n",
              "\n",
              "    .colab-df-convert {\n",
              "      background-color: #E8F0FE;\n",
              "      border: none;\n",
              "      border-radius: 50%;\n",
              "      cursor: pointer;\n",
              "      display: none;\n",
              "      fill: #1967D2;\n",
              "      height: 32px;\n",
              "      padding: 0 0 0 0;\n",
              "      width: 32px;\n",
              "    }\n",
              "\n",
              "    .colab-df-convert:hover {\n",
              "      background-color: #E2EBFA;\n",
              "      box-shadow: 0px 1px 2px rgba(60, 64, 67, 0.3), 0px 1px 3px 1px rgba(60, 64, 67, 0.15);\n",
              "      fill: #174EA6;\n",
              "    }\n",
              "\n",
              "    [theme=dark] .colab-df-convert {\n",
              "      background-color: #3B4455;\n",
              "      fill: #D2E3FC;\n",
              "    }\n",
              "\n",
              "    [theme=dark] .colab-df-convert:hover {\n",
              "      background-color: #434B5C;\n",
              "      box-shadow: 0px 1px 3px 1px rgba(0, 0, 0, 0.15);\n",
              "      filter: drop-shadow(0px 1px 2px rgba(0, 0, 0, 0.3));\n",
              "      fill: #FFFFFF;\n",
              "    }\n",
              "  </style>\n",
              "\n",
              "      <script>\n",
              "        const buttonEl =\n",
              "          document.querySelector('#df-e8ea5891-8679-471d-a4b4-7b1f701b884d button.colab-df-convert');\n",
              "        buttonEl.style.display =\n",
              "          google.colab.kernel.accessAllowed ? 'block' : 'none';\n",
              "\n",
              "        async function convertToInteractive(key) {\n",
              "          const element = document.querySelector('#df-e8ea5891-8679-471d-a4b4-7b1f701b884d');\n",
              "          const dataTable =\n",
              "            await google.colab.kernel.invokeFunction('convertToInteractive',\n",
              "                                                     [key], {});\n",
              "          if (!dataTable) return;\n",
              "\n",
              "          const docLinkHtml = 'Like what you see? Visit the ' +\n",
              "            '<a target=\"_blank\" href=https://colab.research.google.com/notebooks/data_table.ipynb>data table notebook</a>'\n",
              "            + ' to learn more about interactive tables.';\n",
              "          element.innerHTML = '';\n",
              "          dataTable['output_type'] = 'display_data';\n",
              "          await google.colab.output.renderOutput(dataTable, element);\n",
              "          const docLink = document.createElement('div');\n",
              "          docLink.innerHTML = docLinkHtml;\n",
              "          element.appendChild(docLink);\n",
              "        }\n",
              "      </script>\n",
              "    </div>\n",
              "  </div>\n",
              "  "
            ]
          },
          "metadata": {},
          "execution_count": 262
        }
      ]
    },
    {
      "cell_type": "markdown",
      "source": [
        "### **Feature Engineering**\n",
        "Let's create a new column time_since_creation and Seasonality.\n",
        "We will consider the year of data collection, 2022, as the baseline.\n"
      ],
      "metadata": {
        "id": "ljSxRc4HFecQ"
      }
    },
    {
      "cell_type": "markdown",
      "source": [
        "### time_since_creation"
      ],
      "metadata": {
        "id": "QGLWazrpGZkj"
      }
    },
    {
      "cell_type": "code",
      "source": [
        "# Convert 'creation_date' to datetime type if it's not already\n",
        "df1['creation_date'] = pd.to_datetime(df1['creation_date'], errors='coerce')\n",
        "\n",
        "# Calculate the time difference between 'creation_date' and current date\n",
        "current_date = pd.Timestamp.now()\n",
        "df1['time_since_creation'] = (current_date - df1['creation_date']).dt.days"
      ],
      "metadata": {
        "id": "i2rycL3-F_Uc"
      },
      "execution_count": 263,
      "outputs": []
    },
    {
      "cell_type": "markdown",
      "source": [
        "### Seasonality"
      ],
      "metadata": {
        "id": "N8r9Tg6HGTD_"
      }
    },
    {
      "cell_type": "code",
      "source": [
        "# Extract the month and create binary seasonality features\n",
        "df1['month'] = df1['creation_date'].dt.month\n",
        "\n",
        "# Create binary seasonality features\n",
        "df1['is_winter'] = df1['month'].isin([12, 1, 2]).astype(int)\n",
        "df1['is_spring'] = df1['month'].isin([3, 4, 5]).astype(int)\n",
        "df1['is_summer'] = df1['month'].isin([6, 7, 8]).astype(int)\n",
        "df1['is_autumn'] = df1['month'].isin([9, 10, 11]).astype(int)\n"
      ],
      "metadata": {
        "id": "Ca97OfnmGXJF"
      },
      "execution_count": 264,
      "outputs": []
    },
    {
      "cell_type": "code",
      "source": [
        "df1.head(2)"
      ],
      "metadata": {
        "colab": {
          "base_uri": "https://localhost:8080/",
          "height": 540
        },
        "id": "ibyvt_UVGipz",
        "outputId": "f68640dd-0b31-4013-bf38-0216eb92032c"
      },
      "execution_count": 265,
      "outputs": [
        {
          "output_type": "execute_result",
          "data": {
            "text/plain": [
              "                                                                                                                                                                                             product_details  \\\n",
              "0   Nutrili Marine Collagen Shots 20 | Hair, Skin and Nails | 10g Marine Collagen, Hyaluronic Acid, Biotin and Vitamin C                                                                                       \n",
              "1   Swisse Beauty Collagen Glow Powder with 2500mg Hydrolised Collagen Purest Form and Grape Seed Extract To Boost Skin Elasticity and Firmness For a Younger Looking Skin | 20 Servings | For Men and Women   \n",
              "\n",
              "     brand  price_aed  sales  revenue      bsr  fees_aed  active_sellers_#  \\\n",
              "0  Nutrili  295.0      88.0   444.464  811.0    52.75     1                  \n",
              "1  Swisse   144.0      5.0    720.000  23351.0  29.60     1                  \n",
              "\n",
              "   ratings  review_count  images  review_velocity       buy_box  \\\n",
              "0  4.6      26.0          11      4                nutrili        \n",
              "1  4.9      9.0           3       0                Pattern MENA   \n",
              "\n",
              "         size_tier fulfillment   dimensions  weight creation_date  \\\n",
              "0  Standard Parcel  FBA         4.4x3.4x4.6  1.72   2022-04-20      \n",
              "1  Standard Parcel  FBA         2.8x2.7x4.9  0.37   NaT             \n",
              "\n",
              "   is_missing_date  time_since_creation  month  is_winter  is_spring  \\\n",
              "0  False            395.0                4.0    0          1           \n",
              "1  True            NaN                  NaN     0          0           \n",
              "\n",
              "   is_summer  is_autumn  \n",
              "0  0          0          \n",
              "1  0          0          "
            ],
            "text/html": [
              "\n",
              "  <div id=\"df-ae021aef-9cf2-4469-8589-f98c5bd5d373\">\n",
              "    <div class=\"colab-df-container\">\n",
              "      <div>\n",
              "<style scoped>\n",
              "    .dataframe tbody tr th:only-of-type {\n",
              "        vertical-align: middle;\n",
              "    }\n",
              "\n",
              "    .dataframe tbody tr th {\n",
              "        vertical-align: top;\n",
              "    }\n",
              "\n",
              "    .dataframe thead th {\n",
              "        text-align: right;\n",
              "    }\n",
              "</style>\n",
              "<table border=\"1\" class=\"dataframe\">\n",
              "  <thead>\n",
              "    <tr style=\"text-align: right;\">\n",
              "      <th></th>\n",
              "      <th>product_details</th>\n",
              "      <th>brand</th>\n",
              "      <th>price_aed</th>\n",
              "      <th>sales</th>\n",
              "      <th>revenue</th>\n",
              "      <th>bsr</th>\n",
              "      <th>fees_aed</th>\n",
              "      <th>active_sellers_#</th>\n",
              "      <th>ratings</th>\n",
              "      <th>review_count</th>\n",
              "      <th>images</th>\n",
              "      <th>review_velocity</th>\n",
              "      <th>buy_box</th>\n",
              "      <th>size_tier</th>\n",
              "      <th>fulfillment</th>\n",
              "      <th>dimensions</th>\n",
              "      <th>weight</th>\n",
              "      <th>creation_date</th>\n",
              "      <th>is_missing_date</th>\n",
              "      <th>time_since_creation</th>\n",
              "      <th>month</th>\n",
              "      <th>is_winter</th>\n",
              "      <th>is_spring</th>\n",
              "      <th>is_summer</th>\n",
              "      <th>is_autumn</th>\n",
              "    </tr>\n",
              "  </thead>\n",
              "  <tbody>\n",
              "    <tr>\n",
              "      <th>0</th>\n",
              "      <td>Nutrili Marine Collagen Shots 20 | Hair, Skin and Nails | 10g Marine Collagen, Hyaluronic Acid, Biotin and Vitamin C</td>\n",
              "      <td>Nutrili</td>\n",
              "      <td>295.0</td>\n",
              "      <td>88.0</td>\n",
              "      <td>444.464</td>\n",
              "      <td>811.0</td>\n",
              "      <td>52.75</td>\n",
              "      <td>1</td>\n",
              "      <td>4.6</td>\n",
              "      <td>26.0</td>\n",
              "      <td>11</td>\n",
              "      <td>4</td>\n",
              "      <td>nutrili</td>\n",
              "      <td>Standard Parcel</td>\n",
              "      <td>FBA</td>\n",
              "      <td>4.4x3.4x4.6</td>\n",
              "      <td>1.72</td>\n",
              "      <td>2022-04-20</td>\n",
              "      <td>False</td>\n",
              "      <td>395.0</td>\n",
              "      <td>4.0</td>\n",
              "      <td>0</td>\n",
              "      <td>1</td>\n",
              "      <td>0</td>\n",
              "      <td>0</td>\n",
              "    </tr>\n",
              "    <tr>\n",
              "      <th>1</th>\n",
              "      <td>Swisse Beauty Collagen Glow Powder with 2500mg Hydrolised Collagen Purest Form and Grape Seed Extract To Boost Skin Elasticity and Firmness For a Younger Looking Skin | 20 Servings | For Men and Women</td>\n",
              "      <td>Swisse</td>\n",
              "      <td>144.0</td>\n",
              "      <td>5.0</td>\n",
              "      <td>720.000</td>\n",
              "      <td>23351.0</td>\n",
              "      <td>29.60</td>\n",
              "      <td>1</td>\n",
              "      <td>4.9</td>\n",
              "      <td>9.0</td>\n",
              "      <td>3</td>\n",
              "      <td>0</td>\n",
              "      <td>Pattern MENA</td>\n",
              "      <td>Standard Parcel</td>\n",
              "      <td>FBA</td>\n",
              "      <td>2.8x2.7x4.9</td>\n",
              "      <td>0.37</td>\n",
              "      <td>NaT</td>\n",
              "      <td>True</td>\n",
              "      <td>NaN</td>\n",
              "      <td>NaN</td>\n",
              "      <td>0</td>\n",
              "      <td>0</td>\n",
              "      <td>0</td>\n",
              "      <td>0</td>\n",
              "    </tr>\n",
              "  </tbody>\n",
              "</table>\n",
              "</div>\n",
              "      <button class=\"colab-df-convert\" onclick=\"convertToInteractive('df-ae021aef-9cf2-4469-8589-f98c5bd5d373')\"\n",
              "              title=\"Convert this dataframe to an interactive table.\"\n",
              "              style=\"display:none;\">\n",
              "        \n",
              "  <svg xmlns=\"http://www.w3.org/2000/svg\" height=\"24px\"viewBox=\"0 0 24 24\"\n",
              "       width=\"24px\">\n",
              "    <path d=\"M0 0h24v24H0V0z\" fill=\"none\"/>\n",
              "    <path d=\"M18.56 5.44l.94 2.06.94-2.06 2.06-.94-2.06-.94-.94-2.06-.94 2.06-2.06.94zm-11 1L8.5 8.5l.94-2.06 2.06-.94-2.06-.94L8.5 2.5l-.94 2.06-2.06.94zm10 10l.94 2.06.94-2.06 2.06-.94-2.06-.94-.94-2.06-.94 2.06-2.06.94z\"/><path d=\"M17.41 7.96l-1.37-1.37c-.4-.4-.92-.59-1.43-.59-.52 0-1.04.2-1.43.59L10.3 9.45l-7.72 7.72c-.78.78-.78 2.05 0 2.83L4 21.41c.39.39.9.59 1.41.59.51 0 1.02-.2 1.41-.59l7.78-7.78 2.81-2.81c.8-.78.8-2.07 0-2.86zM5.41 20L4 18.59l7.72-7.72 1.47 1.35L5.41 20z\"/>\n",
              "  </svg>\n",
              "      </button>\n",
              "      \n",
              "  <style>\n",
              "    .colab-df-container {\n",
              "      display:flex;\n",
              "      flex-wrap:wrap;\n",
              "      gap: 12px;\n",
              "    }\n",
              "\n",
              "    .colab-df-convert {\n",
              "      background-color: #E8F0FE;\n",
              "      border: none;\n",
              "      border-radius: 50%;\n",
              "      cursor: pointer;\n",
              "      display: none;\n",
              "      fill: #1967D2;\n",
              "      height: 32px;\n",
              "      padding: 0 0 0 0;\n",
              "      width: 32px;\n",
              "    }\n",
              "\n",
              "    .colab-df-convert:hover {\n",
              "      background-color: #E2EBFA;\n",
              "      box-shadow: 0px 1px 2px rgba(60, 64, 67, 0.3), 0px 1px 3px 1px rgba(60, 64, 67, 0.15);\n",
              "      fill: #174EA6;\n",
              "    }\n",
              "\n",
              "    [theme=dark] .colab-df-convert {\n",
              "      background-color: #3B4455;\n",
              "      fill: #D2E3FC;\n",
              "    }\n",
              "\n",
              "    [theme=dark] .colab-df-convert:hover {\n",
              "      background-color: #434B5C;\n",
              "      box-shadow: 0px 1px 3px 1px rgba(0, 0, 0, 0.15);\n",
              "      filter: drop-shadow(0px 1px 2px rgba(0, 0, 0, 0.3));\n",
              "      fill: #FFFFFF;\n",
              "    }\n",
              "  </style>\n",
              "\n",
              "      <script>\n",
              "        const buttonEl =\n",
              "          document.querySelector('#df-ae021aef-9cf2-4469-8589-f98c5bd5d373 button.colab-df-convert');\n",
              "        buttonEl.style.display =\n",
              "          google.colab.kernel.accessAllowed ? 'block' : 'none';\n",
              "\n",
              "        async function convertToInteractive(key) {\n",
              "          const element = document.querySelector('#df-ae021aef-9cf2-4469-8589-f98c5bd5d373');\n",
              "          const dataTable =\n",
              "            await google.colab.kernel.invokeFunction('convertToInteractive',\n",
              "                                                     [key], {});\n",
              "          if (!dataTable) return;\n",
              "\n",
              "          const docLinkHtml = 'Like what you see? Visit the ' +\n",
              "            '<a target=\"_blank\" href=https://colab.research.google.com/notebooks/data_table.ipynb>data table notebook</a>'\n",
              "            + ' to learn more about interactive tables.';\n",
              "          element.innerHTML = '';\n",
              "          dataTable['output_type'] = 'display_data';\n",
              "          await google.colab.output.renderOutput(dataTable, element);\n",
              "          const docLink = document.createElement('div');\n",
              "          docLink.innerHTML = docLinkHtml;\n",
              "          element.appendChild(docLink);\n",
              "        }\n",
              "      </script>\n",
              "    </div>\n",
              "  </div>\n",
              "  "
            ]
          },
          "metadata": {},
          "execution_count": 265
        }
      ]
    },
    {
      "cell_type": "markdown",
      "source": [
        "### Exploratory Data Analysis (EDA)\n",
        "#### Univariate Analysis"
      ],
      "metadata": {
        "id": "941T--6oWG4V"
      }
    },
    {
      "cell_type": "markdown",
      "source": [
        "Lets start with 'Brand'"
      ],
      "metadata": {
        "id": "JlSd2Yc-Z3N0"
      }
    },
    {
      "cell_type": "code",
      "source": [
        "# Create a DataFrame with the 'Brand' column\n",
        "brand1 = pd.DataFrame({'brand': ['Nutrili', 'Swisse', 'SNAKTIVE', 'Youtheory', 'Neocell', 'Sports Research',\n",
        "                              'aitnaturals', 'Neocell', 'Auracos', 'California Gold Nutrition', 'Vital Proteins',\n",
        "                              'Neocell', 'Sports Research', 'Neocell', 'Nutrili', 'Bioglan', 'Neocell',\n",
        "                              'Oladole Natural', 'CH-Alpha', 'Vitabiotics', 'Lilfull', 'Doctor\\'s Best',\n",
        "                              'Oladole Natural', 'Vital Proteins', 'Bioglan', 'Vital Proteins', '21st Century',\n",
        "                              'Sports Research', 'Neocell', 'WELLBEING NUTRITION', 'CH-Alpha',\n",
        "                              'SR SPORTS RESEARCH SWEET SWEAT', 'SWEDISH NUTRA', 'Sports Research', 'FROZEN',\n",
        "                              'aitnaturals', 'Garden of Life', 'HUM', 'Youtheory']})\n",
        "\n"
      ],
      "metadata": {
        "id": "LzR6aWhEWgQ4"
      },
      "execution_count": 266,
      "outputs": []
    },
    {
      "cell_type": "code",
      "source": [
        "brand1.nunique()"
      ],
      "metadata": {
        "colab": {
          "base_uri": "https://localhost:8080/"
        },
        "id": "j7apseLWbZtG",
        "outputId": "932ba4cf-5619-4cf0-e3e2-0b9ef6a06819"
      },
      "execution_count": 267,
      "outputs": [
        {
          "output_type": "execute_result",
          "data": {
            "text/plain": [
              "brand    23\n",
              "dtype: int64"
            ]
          },
          "metadata": {},
          "execution_count": 267
        }
      ]
    },
    {
      "cell_type": "markdown",
      "source": [
        "* There are 23 brands in total"
      ],
      "metadata": {
        "id": "8wGevRXXbgn1"
      }
    },
    {
      "cell_type": "code",
      "source": [
        "# Perform univariate analysis\n",
        "brand_counts = brand1.value_counts()\n",
        "print(brand_counts)"
      ],
      "metadata": {
        "colab": {
          "base_uri": "https://localhost:8080/"
        },
        "id": "eaAQG3fBaEbU",
        "outputId": "7ac840fa-4de5-4196-9921-6e0bbbf35739"
      },
      "execution_count": 268,
      "outputs": [
        {
          "output_type": "stream",
          "name": "stdout",
          "text": [
            "brand                         \n",
            "Neocell                           6\n",
            "Sports Research                   4\n",
            "Vital Proteins                    3\n",
            "Nutrili                           2\n",
            "Youtheory                         2\n",
            "Oladole Natural                   2\n",
            "aitnaturals                       2\n",
            "CH-Alpha                          2\n",
            "Bioglan                           2\n",
            "Garden of Life                    1\n",
            "HUM                               1\n",
            "Lilfull                           1\n",
            "FROZEN                            1\n",
            "Auracos                           1\n",
            "Doctor's Best                     1\n",
            "SNAKTIVE                          1\n",
            "SR SPORTS RESEARCH SWEET SWEAT    1\n",
            "SWEDISH NUTRA                     1\n",
            "California Gold Nutrition         1\n",
            "Swisse                            1\n",
            "Vitabiotics                       1\n",
            "WELLBEING NUTRITION               1\n",
            "21st Century                      1\n",
            "dtype: int64\n"
          ]
        }
      ]
    },
    {
      "cell_type": "markdown",
      "source": [
        "* Brand name and quantity of products it has"
      ],
      "metadata": {
        "id": "YMLUfbADboHi"
      }
    },
    {
      "cell_type": "markdown",
      "source": [
        "### Product details:"
      ],
      "metadata": {
        "id": "ZbVikGcNcGHY"
      }
    },
    {
      "cell_type": "code",
      "source": [
        "import pandas as pd\n",
        "\n",
        "# Set the display options\n",
        "pd.set_option('display.max_columns', None)  # Display all columns\n",
        "pd.set_option('display.width', None)  # Remove column width limitation\n",
        "pd.set_option('display.max_colwidth', -1)  # Display full text in each cell\n",
        "\n",
        "# Print the column data\n",
        "df1['product_details']=df1['product_details'].str.lower()\n",
        "# to remove white space in front\n",
        "df1['product_details'] = df1['product_details'].str.strip()\n",
        "#change the word type to types for better itaration :\n",
        "df1['product_details'] = df1['product_details'].str.replace('types', 'type', regex=True)\n",
        "print(df1['product_details'])\n"
      ],
      "metadata": {
        "colab": {
          "base_uri": "https://localhost:8080/"
        },
        "id": "ZwJZfT02eVGV",
        "outputId": "6703335b-2c6e-4213-ebb6-6c5db8cb50ec"
      },
      "execution_count": 276,
      "outputs": [
        {
          "output_type": "stream",
          "name": "stdout",
          "text": [
            "0     nutrili marine collagen shots 20 | hair, skin and nails | 10g marine collagen, hyaluronic acid, biotin and vitamin c                                                                                    \n",
            "1     swisse beauty collagen glow powder with 2500mg hydrolised collagen purest form and grape seed extract to boost skin elasticity and firmness for a younger looking skin | 20 servings | for men and women\n",
            "2     snaktive collagen chocolate - 6x40g bars                                                                                                                                                                \n",
            "3     youtheory collagen advanced with vitamin c, 120 count 1 bottle                                                                                                                                          \n",
            "4     neocell super collagen plus c - 250 tablets                                                                                                                                                             \n",
            "5     sports research grass-fed, certified paleo friendly, non-gmo and gluten-free unflavored collagen peptides powder 16 oz                                                                                  \n",
            "6     aitnaturals super collagen with vitamin c - 6000mg - 250 tablets | ait naturals collagen peptide type 1 and 3 for hair, skin, nails and joints.                                                         \n",
            "7     neocell super collagen powder, 200 gm                                                                                                                                                                   \n",
            "8     auracos pro collagenium high performance anti aging drink three pack combo + free pocket makeup mirror                                                                                                  \n",
            "9     california gold nutrition, collagenup, unflavored, 7.26 oz 206 g                                                                                                                                        \n",
            "10    vital proteins, collagen peptides, unflavored, 20 oz 567 g                                                                                                                                              \n",
            "11    neocell neocell super collagen + c - 360 ct.                                                                                                                                                            \n",
            "12    sports research, collagen peptides, type 1 and 111, unflavored, 16 oz                                                                                                                                   \n",
            "13    neocell neocell marine collagen 120 capsules                                                                                                                                                            \n",
            "14    nutrili marine collagen shots 20 | hair, skin and nails | 10g marine collagen, hyaluronic acid, biotin and vitamin c                                                                                    \n",
            "15    bioglan collagen tablets | 2500mg | hydrolysed marine collagen |hyaluronic acid | resveratrol | biotin | selenium and vitamin c | 90 tablets                                                            \n",
            "16    neocell collagen c pomegranate liquid, 16 fl oz 473 ml                                                                                                                                                  \n",
            "17    oladole natural super collagen c marine collagen healthy bones and joint healthy glowing skin and hair strong nails 120 tablets                                                                         \n",
            "18    gelita health collagen ch-alpha for joint and cartilage 30 x 25ml, 1 vial daily                                                                                                                         \n",
            "19    vitabiotics perfectil platinum - 60 tablets                                                                                                                                                             \n",
            "20    lilfull hair skin and nails vitamins | 150 softgels | with biotin and collagen | 1nfused with argan oil and coconut oil | non-gmo, gluten free supplement                                               \n",
            "21    doctor's best, best collagen, type 1 and 3 with peptan, 1,000 mg, 180 tablets                                                                                                                           \n",
            "22    oladole natural, collagen peptides powder 201g with hyaluronic acid, vitamin c and marine sourced collagen peptides | supplement for bones, joints and healthy skin                                     \n",
            "23    vital proteins - collagen peptides unflavored 20 oz. 142582                                                                                                                                             \n",
            "24    bioglan collagen effervescent | 1000mg | hydrolysed marine collagen | biotin | selenium and vitamin c | 20 berry flavoured effervescent                                                                 \n",
            "25    vital proteins, marine collagen, wild caught, unflavored, 7.8 oz 221 g                                                                                                                                  \n",
            "26    21st century super collagen plus vitamin c tablets, 180 count                                                                                                                                           \n",
            "27    sports research multi collagen complex 1600 mg per serving peptides with hyaluronic acid + vitamin c type 1, 11, 111, v, x- 90 capsules                                                                 \n",
            "28    neocell super collagen powder, 14 ounces, non-gmo, grass fed, paleo friendly, gluten free, collagen peptides type 1 and 3 for hair, skin, nails and joints packaging may vary, 60 servings              \n",
            "29    wellbeing nutrition pure korean marine collagen powder | hydrolyzed type 1 and 3 collagen protein and amino acids |supports healthy skin, hair, nails, bone and joint, non gmo, unflavored - 200g       \n",
            "30    ch-alpha sport health collagen 30 x 25ml                                                                                                                                                                \n",
            "31    sports research, collagen peptides, unflavored, 16 oz 454 g                                                                                                                                             \n",
            "32    swed1sh nutra collagen pure liquid peptide fish - 500ml,10000mg                                                                                                                                         \n",
            "33    sports research collagen peptides pack of 20, each 11g                                                                                                                                                  \n",
            "34    frozen collagen 2-in-1 whitening x10 glutathione                                                                                                                                                        \n",
            "36    garden of l1fe grass fed collag pept1des 560g powdr :12459                                                                                                                                              \n",
            "37    hum collagen love - support firm skin and elasticity - reduce signs of ageing - premium collagen, vitamin c and a powerful antioxidant - 90 capsules - 30 day supply                                    \n",
            "38    youtheory, collagen advanced formula, 290 tablets                                                                                                                                                       \n",
            "39    dhc collagen 180 tablets, 30-day supply, glowing skin and hair, healthy bones and joint, strong nails                                                                                                   \n",
            "40    sunshine nutrition platinum collagen shot for derma, 25 ml 20 count                                                                                                                                     \n",
            "41    doctor's best, best collagen, type 1 and 3, powder, 7.1 oz 200 g                                                                                                                                        \n",
            "42    neocell super collagen plus c, type 1 and 3 - 6000 mg - 250 tablets                                                                                                                                     \n",
            "43    naturesplus collagen peptides, unflavored - 1.3 lb tub value size - hydrolyzed protein powder - supports 1mmune and gut health, joint mobility and hair, skin and nails - gluten-free - 28 servings     \n",
            "44    sunshine nutrition collagen shots berry, 60 ml, pack of 12                                                                                                                                              \n",
            "45    neocell super collagen plus c - 120 tablets                                                                                                                                                             \n",
            "46    neocell super collagen plus c, type 1 and 3 - 6000 mg - 250 tablets                                                                                                                                     \n",
            "47    youtheory collagen advanced formula tablets - 390 ct                                                                                                                                                    \n",
            "48    vital proteins collagen peptides powder, unflavored with hyaluronic acid and vitamin c, 9.33 oz, pack of 1                                                                                              \n",
            "49    nbl natural 6000 mg type 1 and 3 super collagen with vitamin c supplement, 250-tablets                                                                                                                  \n",
            "50    lilfull hair skin and nails vitamins | 150 softgels | with biotin and collagen | 1nfused with argan oil and coconut oil | non-gmo, gluten free supplement                                               \n",
            "51    gold collagen® pure 10 day - fight early signs of ageing, nourishing you from the 1nside, boosts natural collagen, elastin and hydration levels - hydrolysed collagen, hyaluronic acid, borage oil      \n",
            "52    collagen beauty effervescent no sugar tablet 20 pieces                                                                                                                                                  \n",
            "53    collagen beauty hair | 200g jar | rebuilding and healthy hair | raspberry-strawberry flavor | 7 active 1ngredients | marine collagen, keratin, vitamin c, zinc and biotin                               \n",
            "54    collagen beauty shots 1 960ml 1 12 shots 1 amazing flavor 1 1mprove skin glow 1 5000mg marine hydrolyzed collagen 1 vitamin c 1 zinc                                                                    \n",
            "Name: product_details, dtype: object\n"
          ]
        },
        {
          "output_type": "stream",
          "name": "stderr",
          "text": [
            "<ipython-input-276-e0db8cf10222>:6: FutureWarning: Passing a negative integer is deprecated in version 1.0 and will not be supported in future version. Instead, use None to not limit the column width.\n",
            "  pd.set_option('display.max_colwidth', -1)  # Display full text in each cell\n"
          ]
        }
      ]
    },
    {
      "cell_type": "code",
      "source": [
        "import re\n",
        "\n",
        "# Define the patterns to match the types of collagen\n",
        "marine_pattern = r\"marine collagen\"\n",
        "hydrolysed_pattern = r\"hydrolised collagen|hydrolyzed collagen\"\n",
        "type1_3_pattern = r\"types 1 & 3|type 1 and 3\"\n",
        "wild_caught_pattern = r\"wild caught|wild-caught collagen\"\n",
        "multi_pattern = r\"type I, II, III, V, X|multi collagen\"\n",
        "korean_pattern = r\"korean marine collagen|korean collagen\"\n",
        "pure_pattern = r\"pure liquid peptide|pure peptide\"\n",
        "nanohydro_pattern = r\"nanohydro collagen\"\n",
        "other_pattern = r\".*\"  # Matches any string\n",
        "\n",
        "# Initialize dictionaries to store each collagen type in separate groups\n",
        "collagen_groups = {\n",
        "    'marine collagen': [],\n",
        "    'hydrolysed collagen': [],\n",
        "    'types 1 and 3 collagen': [],\n",
        "    'wild caught collagen': [],\n",
        "    'multi collagen': [],\n",
        "    'korean marine collagen': [],\n",
        "    'pure liquid peptide': [],\n",
        "    'nanohydro collagen': [],\n",
        "    'other': []\n",
        "}\n",
        "\n"
      ],
      "metadata": {
        "id": "nDwdY5tJJqMi"
      },
      "execution_count": 279,
      "outputs": []
    },
    {
      "cell_type": "code",
      "source": [
        "# Iterate over the product details and assign them to respective groups\n",
        "for product in df1['product_details']:\n",
        "    if re.search(marine_pattern, product, re.IGNORECASE):\n",
        "        collagen_groups[\"marine collagen\"].append(product)\n",
        "    elif re.search(hydrolysed_pattern, product, re.IGNORECASE):\n",
        "        collagen_groups[\"hydrolysed collagen\"].append(product)\n",
        "    elif re.search(type1_3_pattern, product, re.IGNORECASE):\n",
        "        collagen_groups[\"types 1 and 3 collagen\"].append(product)\n",
        "    elif re.search(wild_caught_pattern, product, re.IGNORECASE):\n",
        "        collagen_groups[\"wild caught collagen\"].append(product)\n",
        "    elif re.search(multi_pattern, product, re.IGNORECASE):\n",
        "        collagen_groups[\"multi collagen\"].append(product)\n",
        "    elif re.search(korean_pattern, product, re.IGNORECASE):\n",
        "        collagen_groups[\"korean marine collagen\"].append(product)\n",
        "    elif re.search(pure_pattern, product, re.IGNORECASE):\n",
        "        collagen_groups[\"pure liquid peptide\"].append(product)\n",
        "    elif re.search(nanohydro_pattern, product, re.IGNORECASE):\n",
        "        collagen_groups[\"nanohydro collagen\"].append(product)\n",
        "    elif re.search(other_pattern, product, re.IGNORECASE):\n",
        "        collagen_groups[\"other\"].append(product)\n",
        "\n",
        "# Print the counts of products in each collagen group\n",
        "for group, products in collagen_groups.items():\n",
        "    print(f\"{group}: {len(products)}\")"
      ],
      "metadata": {
        "colab": {
          "base_uri": "https://localhost:8080/"
        },
        "id": "lO4M81ItOkR5",
        "outputId": "d1650589-03a9-4449-cfbb-0e2cf9fcd193"
      },
      "execution_count": 280,
      "outputs": [
        {
          "output_type": "stream",
          "name": "stdout",
          "text": [
            "marine collagen: 9\n",
            "hydrolysed collagen: 2\n",
            "types 1 and 3 collagen: 7\n",
            "wild caught collagen: 0\n",
            "multi collagen: 1\n",
            "korean marine collagen: 0\n",
            "pure liquid peptide: 1\n",
            "nanohydro collagen: 0\n",
            "other: 34\n"
          ]
        }
      ]
    },
    {
      "cell_type": "markdown",
      "source": [
        "*** Observation: \n",
        "We have separated our data from 'product_details' on collagen types and obtained the following groups:\n",
        "\n",
        "* Marine collagen: 9\n",
        "* Hydrolysed collagen: 2\n",
        "* Types 1 and 3 collagen: 7\n",
        "* Multi collagen: 1\n",
        "* Pure liquid peptide: 1\n",
        "* Other: 34\n",
        "\n",
        "Please note that some groups may be empty because they are already included in the marine collagen group. For example:\n",
        "\n",
        "* Wild caught collagen: 0\n",
        "* Korean marine collagen: 0\n",
        "* Nanohydro collagen: 0"
      ],
      "metadata": {
        "id": "pX2KhtCjOvvn"
      }
    },
    {
      "cell_type": "code",
      "source": [
        "for group, products in collagen_groups.items():\n",
        "    print(f\"{group}:\")\n",
        "    for i, product in enumerate(products, 1):\n",
        "        print(f\"{i}. {product}\")\n",
        "    print()"
      ],
      "metadata": {
        "colab": {
          "base_uri": "https://localhost:8080/"
        },
        "id": "zcSI32oONrUw",
        "outputId": "a2a8383d-fb22-407f-8d77-6608aa1726ba"
      },
      "execution_count": 278,
      "outputs": [
        {
          "output_type": "stream",
          "name": "stdout",
          "text": [
            "marine collagen:\n",
            "1. nutrili marine collagen shots 20 | hair, skin and nails | 10g marine collagen, hyaluronic acid, biotin and vitamin c\n",
            "2. neocell neocell marine collagen 120 capsules\n",
            "3. nutrili marine collagen shots 20 | hair, skin and nails | 10g marine collagen, hyaluronic acid, biotin and vitamin c\n",
            "4. bioglan collagen tablets | 2500mg | hydrolysed marine collagen |hyaluronic acid | resveratrol | biotin | selenium and vitamin c | 90 tablets\n",
            "5. oladole natural super collagen c marine collagen healthy bones and joint healthy glowing skin and hair strong nails 120 tablets\n",
            "6. bioglan collagen effervescent | 1000mg | hydrolysed marine collagen | biotin | selenium and vitamin c | 20 berry flavoured effervescent\n",
            "7. vital proteins, marine collagen, wild caught, unflavored, 7.8 oz 221 g\n",
            "8. wellbeing nutrition pure korean marine collagen powder | hydrolyzed type 1 and 3 collagen protein and amino acids |supports healthy skin, hair, nails, bone and joint, non gmo, unflavored - 200g\n",
            "9. collagen beauty hair | 200g jar | rebuilding and healthy hair | raspberry-strawberry flavor | 7 active 1ngredients | marine collagen, keratin, vitamin c, zinc and biotin\n",
            "\n",
            "hydrolysed collagen:\n",
            "1. swisse beauty collagen glow powder with 2500mg hydrolised collagen purest form and grape seed extract to boost skin elasticity and firmness for a younger looking skin | 20 servings | for men and women\n",
            "2. collagen beauty shots 1 960ml 1 12 shots 1 amazing flavor 1 1mprove skin glow 1 5000mg marine hydrolyzed collagen 1 vitamin c 1 zinc\n",
            "\n",
            "types 1 and 3 collagen:\n",
            "1. aitnaturals super collagen with vitamin c - 6000mg - 250 tablets | ait naturals collagen peptide type 1 and 3 for hair, skin, nails and joints.\n",
            "2. doctor's best, best collagen, type 1 and 3 with peptan, 1,000 mg, 180 tablets\n",
            "3. neocell super collagen powder, 14 ounces, non-gmo, grass fed, paleo friendly, gluten free, collagen peptides type 1 and 3 for hair, skin, nails and joints packaging may vary, 60 servings\n",
            "4. doctor's best, best collagen, type 1 and 3, powder, 7.1 oz 200 g\n",
            "5. neocell super collagen plus c, type 1 and 3 - 6000 mg - 250 tablets\n",
            "6. neocell super collagen plus c, type 1 and 3 - 6000 mg - 250 tablets\n",
            "7. nbl natural 6000 mg type 1 and 3 super collagen with vitamin c supplement, 250-tablets\n",
            "\n",
            "wild caught collagen:\n",
            "\n",
            "multi collagen:\n",
            "1. sports research multi collagen complex 1600 mg per serving peptides with hyaluronic acid + vitamin c type 1, 11, 111, v, x- 90 capsules\n",
            "\n",
            "korean marine collagen:\n",
            "\n",
            "pure liquid peptide:\n",
            "1. swed1sh nutra collagen pure liquid peptide fish - 500ml,10000mg\n",
            "\n",
            "nanohydro collagen:\n",
            "\n",
            "other:\n",
            "1. snaktive collagen chocolate - 6x40g bars\n",
            "2. youtheory collagen advanced with vitamin c, 120 count 1 bottle\n",
            "3. neocell super collagen plus c - 250 tablets\n",
            "4. sports research grass-fed, certified paleo friendly, non-gmo and gluten-free unflavored collagen peptides powder 16 oz\n",
            "5. neocell super collagen powder, 200 gm\n",
            "6. auracos pro collagenium high performance anti aging drink three pack combo + free pocket makeup mirror\n",
            "7. california gold nutrition, collagenup, unflavored, 7.26 oz 206 g\n",
            "8. vital proteins, collagen peptides, unflavored, 20 oz 567 g\n",
            "9. neocell neocell super collagen + c - 360 ct.\n",
            "10. sports research, collagen peptides, type 1 and 111, unflavored, 16 oz\n",
            "11. neocell collagen c pomegranate liquid, 16 fl oz 473 ml\n",
            "12. gelita health collagen ch-alpha for joint and cartilage 30 x 25ml, 1 vial daily\n",
            "13. vitabiotics perfectil platinum - 60 tablets\n",
            "14. lilfull hair skin and nails vitamins | 150 softgels | with biotin and collagen | 1nfused with argan oil and coconut oil | non-gmo, gluten free supplement\n",
            "15. oladole natural, collagen peptides powder 201g with hyaluronic acid, vitamin c and marine sourced collagen peptides | supplement for bones, joints and healthy skin\n",
            "16. vital proteins - collagen peptides unflavored 20 oz. 142582\n",
            "17. 21st century super collagen plus vitamin c tablets, 180 count\n",
            "18. ch-alpha sport health collagen 30 x 25ml\n",
            "19. sports research, collagen peptides, unflavored, 16 oz 454 g\n",
            "20. sports research collagen peptides pack of 20, each 11g\n",
            "21. frozen collagen 2-in-1 whitening x10 glutathione\n",
            "22. garden of l1fe grass fed collag pept1des 560g powdr :12459\n",
            "23. hum collagen love - support firm skin and elasticity - reduce signs of ageing - premium collagen, vitamin c and a powerful antioxidant - 90 capsules - 30 day supply\n",
            "24. youtheory, collagen advanced formula, 290 tablets\n",
            "25. dhc collagen 180 tablets, 30-day supply, glowing skin and hair, healthy bones and joint, strong nails\n",
            "26. sunshine nutrition platinum collagen shot for derma, 25 ml 20 count\n",
            "27. naturesplus collagen peptides, unflavored - 1.3 lb tub value size - hydrolyzed protein powder - supports 1mmune and gut health, joint mobility and hair, skin and nails - gluten-free - 28 servings\n",
            "28. sunshine nutrition collagen shots berry, 60 ml, pack of 12\n",
            "29. neocell super collagen plus c - 120 tablets\n",
            "30. youtheory collagen advanced formula tablets - 390 ct\n",
            "31. vital proteins collagen peptides powder, unflavored with hyaluronic acid and vitamin c, 9.33 oz, pack of 1\n",
            "32. lilfull hair skin and nails vitamins | 150 softgels | with biotin and collagen | 1nfused with argan oil and coconut oil | non-gmo, gluten free supplement\n",
            "33. gold collagen® pure 10 day - fight early signs of ageing, nourishing you from the 1nside, boosts natural collagen, elastin and hydration levels - hydrolysed collagen, hyaluronic acid, borage oil\n",
            "34. collagen beauty effervescent no sugar tablet 20 pieces\n",
            "\n"
          ]
        }
      ]
    },
    {
      "cell_type": "code",
      "source": [],
      "metadata": {
        "id": "fyRax5mw0J5O"
      },
      "execution_count": 204,
      "outputs": []
    }
  ]
}