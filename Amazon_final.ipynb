{
  "nbformat": 4,
  "nbformat_minor": 0,
  "metadata": {
    "colab": {
      "provenance": [],
      "authorship_tag": "ABX9TyPydv+fYDuW1Gry4Ef6x3il",
      "include_colab_link": true
    },
    "kernelspec": {
      "name": "python3",
      "display_name": "Python 3"
    },
    "language_info": {
      "name": "python"
    }
  },
  "cells": [
    {
      "cell_type": "markdown",
      "metadata": {
        "id": "view-in-github",
        "colab_type": "text"
      },
      "source": [
        "<a href=\"https://colab.research.google.com/github/ElenaBara21/Portfolio/blob/main/Amazon_final.ipynb\" target=\"_parent\"><img src=\"https://colab.research.google.com/assets/colab-badge.svg\" alt=\"Open In Colab\"/></a>"
      ]
    },
    {
      "cell_type": "markdown",
      "source": [
        "#Amazon project - Collagen\n",
        "\n",
        "The most common types of collagen used in supplements are:\n",
        "* Type I\n",
        "* Type II\n",
        "* Type III\n",
        "* Type V\n",
        "* Type X\n",
        "\n",
        "These collagen types come in three different forms: \n",
        "* Hydrolyzed collagen (collagen peptides, collagen powder, collagen hydrolysate and hydrolyzed gelatin),\n",
        "* gelatin and undenatured type II collagen (UC-II).\n",
        "\n",
        "Collagen supplement ingredients come from a variety of sources: \n",
        "* Bovine collagen made from cows contains types I & III.\n",
        "* Marine collagen made from fish contains type I & II. * Poultry collagen made from chickens contains type II and eggshell membrane collagen contains types I & V.\n",
        "* We are interested in Type II, collagen is found in both marine and chicken products. People with allergies to fish or chicken should consult their doctor before taking supplements containing type II collagen."
      ],
      "metadata": {
        "id": "hZ2XsdTJaEnO"
      }
    },
    {
      "cell_type": "markdown",
      "source": [
        "from pandas.api.types import CategoricalDtype\n",
        "## Data Description\n",
        "* **Product**\n",
        "* **brand**\n",
        "* **Price_AED**\n",
        "* **Sales**- quantity sold\n",
        "* **Revenue** - quantity_sold x price_aed\n",
        "* **Fees_AED**- FBA fee+ referral fee\n",
        "* **Active_Seller** - number of active sellers\n",
        "* **Ratings** - amazon sale rating\n",
        "* **Review_Count**- total number of reviews\n",
        "* **Images**- \n",
        "* **Dimensions**\n",
        "* **Weight**\n",
        "* **Creation_Date**\n",
        "* **Category**\n",
        "* **Review_velocity**-change in review count in the last 30 days\n",
        "* **Buy_Box**- buy box owner,Each product page has a ‘Buy Now’ button on the right side, adjacent to the product image and description, with a hierarchal list of other buyers listed below. Sometimes, this coveted spot is based on past sales history, and sometimes it’s rotated between sellers.Amazon decides who earns the Buy Box position, but using Helium 10 tools to more effectively increase visibility and sales can help a merchant gain the buy box position. If you sell unique products under a private label, you are the most likely to have the buy box because no one else is selling the same product.\n",
        "* **Size_tier**-это категория, в которую попадает товар на Amazon в зависимости от его размера и веса: Large Envelope, Standard Envelope, Standard Parcel\n",
        "* **Fullfilment** - AMZ=FBA FBA stands for Fulfillment by Amazon. It is a program offered by Amazon that allows sellers to store their products in Amazon's fulfillment centers. MFN stands for Merchant Fulfilled Network. It refers to a method of fulfilling orders on Amazon where the seller handles the entire fulfillment process themselves. In this case, the seller stores the products in their own facilities and is responsible for packaging, shipping, and customer service.\n",
        "* **BSR** - BSR – Best Seller Rank.Amazon tracks and publicizes its best-selling products to drive sales. Every product sold on Amazon is ranked by Amazon in at least one category, and often in several sub-categories. Ranking affects where and when products appear in a customer’s organic search. Most sellers try to rank high enough to be on the first results page of a customer search.\n",
        "\n",
        "\n",
        "***Buy Box (англ. Buy Box) - это блок на странице товара на Amazon, в котором покупатель может нажать на кнопку \"Купить сейчас\" и сделать покупку у конкретного продавца. Он находится в правой части страницы товара, рядом с ценой и другими деталями товара. В Buy Box отображается один продавец, но Amazon может показывать разных продавцов на этом месте, основываясь на различных факторах, таких как цена, рейтинг продавца, наличие товара, и другие. Обладание Buy Box очень важно для продавцов, так как это позволяет им получать больше продаж на Amazon.\n",
        "\n"
      ],
      "metadata": {
        "id": "qpIyRNDHYEhC"
      }
    },
    {
      "cell_type": "markdown",
      "source": [
        "### Import libraries"
      ],
      "metadata": {
        "id": "CrFdDTaoa2tZ"
      }
    },
    {
      "cell_type": "code",
      "source": [
        "# import libraries for data manipulation\n",
        "import numpy as np\n",
        "import pandas as pd\n",
        "\n",
        "# import libraries for data visualization\n",
        "import matplotlib.pyplot as plt\n",
        "import seaborn as sns\n",
        "# library\n",
        "import seaborn as sns\n",
        "import pandas as pd\n",
        "import numpy as np\n"
      ],
      "metadata": {
        "id": "VriZIdjbbiDU"
      },
      "execution_count": 170,
      "outputs": []
    },
    {
      "cell_type": "code",
      "source": [
        "def histogram_boxplot(data, feature, figsize=(15, 10), kde=False, bins=None):\n",
        "    \"\"\"\n",
        "    Boxplot and histogram combined\n",
        "\n",
        "    data: dataframe\n",
        "    feature: dataframe column\n",
        "    figsize: size of figure (default (15,10))\n",
        "    kde: whether to show the density curve (default False)\n",
        "    bins: number of bins for histogram (default None)\n",
        "    \"\"\"\n",
        "    f2, (ax_box2, ax_hist2) = plt.subplots(\n",
        "        nrows=2,  # Number of rows of the subplot grid= 2\n",
        "        sharex=True,  # x-axis will be shared among all subplots\n",
        "        gridspec_kw={\"height_ratios\": (0.25, 0.75)},\n",
        "        figsize=figsize,\n",
        "    )  # creating the 2 subplots\n",
        "    sns.boxplot(\n",
        "        data=data, x=feature, ax=ax_box2, showmeans=True, color=\"violet\"\n",
        "    )  # boxplot will be created and a triangle will indicate the mean value of the column\n",
        "    sns.histplot(\n",
        "        data=data, x=feature, kde=kde, ax=ax_hist2, bins=bins\n",
        "    ) if bins else sns.histplot(\n",
        "        data=data, x=feature, kde=kde, ax=ax_hist2\n",
        "    )  # For histogram\n",
        "    ax_hist2.axvline(\n",
        "        data[feature].mean(), color=\"green\", linestyle=\"--\"\n",
        "    )  # Add mean to the histogram\n",
        "    ax_hist2.axvline(\n",
        "        data[feature].median(), color=\"black\", linestyle=\"-\"\n",
        "    )  # Add median to the histogram"
      ],
      "metadata": {
        "id": "C7SNPLJZpJh6"
      },
      "execution_count": 171,
      "outputs": []
    },
    {
      "cell_type": "code",
      "source": [
        "# function to create labeled barplots\n",
        "\n",
        "\n",
        "def labeled_barplot(data, feature, perc=False, n=None):\n",
        "    \"\"\"\n",
        "    Barplot with percentage at the top\n",
        "\n",
        "    data: dataframe\n",
        "    feature: dataframe column\n",
        "    perc: whether to display percentages instead of count (default is False)\n",
        "    n: displays the top n category levels (default is None, i.e., display all levels)\n",
        "    \"\"\"\n",
        "\n",
        "    total = len(data[feature])  # length of the column\n",
        "    count = data[feature].nunique()\n",
        "    if n is None:\n",
        "        plt.figure(figsize=(count + 2, 6))\n",
        "    else:\n",
        "        plt.figure(figsize=(n + 2, 6))\n",
        "\n",
        "    plt.xticks(rotation=90, fontsize=15)\n",
        "    ax = sns.countplot(\n",
        "        data=data,\n",
        "        x=feature,\n",
        "        palette=\"Paired\",\n",
        "        order=data[feature].value_counts().index[:n],\n",
        "    )\n",
        "\n",
        "    for p in ax.patches:\n",
        "        if perc == True:\n",
        "            label = \"{:.1f}%\".format(\n",
        "                100 * p.get_height() / total\n",
        "            )  # percentage of each class of the category\n",
        "        else:\n",
        "            label = p.get_height()  # count of each level of the category\n",
        "\n",
        "        x = p.get_x() + p.get_width() / 2  # width of the plot\n",
        "        y = p.get_height()  # height of the plot\n",
        "\n",
        "        ax.annotate(\n",
        "            label,\n",
        "            (x, y),\n",
        "            ha=\"center\",\n",
        "            va=\"center\",\n",
        "            size=12,\n",
        "            xytext=(0, 5),\n",
        "            textcoords=\"offset points\",\n",
        "        )  # annotate the percentage\n",
        "\n",
        "    plt.show()  # show the plot"
      ],
      "metadata": {
        "id": "dDub4KF6qyAh"
      },
      "execution_count": 172,
      "outputs": []
    },
    {
      "cell_type": "code",
      "source": [
        "def stacked_barplot(data, predictor, target):\n",
        "    \"\"\"\n",
        "    Print the category counts and plot a stacked bar chart\n",
        "\n",
        "    data: dataframe\n",
        "    predictor: independent variable\n",
        "    target: target variable\n",
        "    \"\"\"\n",
        "    count = data[predictor].nunique()\n",
        "    sorter = data[target].value_counts().index[-1]\n",
        "    tab1 = pd.crosstab(data[predictor], data[target], margins=True).sort_values(\n",
        "        by=sorter, ascending=False\n",
        "    )\n",
        "    print(tab1)\n",
        "    print(\"-\" * 120)\n",
        "    tab = pd.crosstab(data[predictor], data[target], normalize=\"index\").sort_values(\n",
        "        by=sorter, ascending=False\n",
        "    )\n",
        "    tab.plot(kind=\"bar\", stacked=True, figsize=(count + 5, 5))\n",
        "    plt.legend(\n",
        "        loc=\"lower left\",\n",
        "        frameon=False,\n",
        "    )\n",
        "    plt.legend(loc=\"upper left\", bbox_to_anchor=(1, 1))\n",
        "    plt.show()"
      ],
      "metadata": {
        "id": "ipbs9l9lqyAj"
      },
      "execution_count": 173,
      "outputs": []
    },
    {
      "cell_type": "code",
      "source": [
        "### function to plot distributions wrt target\n",
        "\n",
        "\n",
        "def distribution_plot_wrt_target(data, predictor, target):\n",
        "\n",
        "    fig, axs = plt.subplots(2, 2, figsize=(12, 10))\n",
        "\n",
        "    target_uniq = data[target].unique()\n",
        "\n",
        "    axs[0, 0].set_title(\"Distribution of target for target=\" + str(target_uniq[0]))\n",
        "    sns.histplot(\n",
        "        data=data[data[target] == target_uniq[0]],\n",
        "        x=predictor,\n",
        "        kde=True,\n",
        "        ax=axs[0, 0],\n",
        "        color=\"teal\",\n",
        "        stat=\"density\",\n",
        "    )\n",
        "\n",
        "    axs[0, 1].set_title(\"Distribution of target for target=\" + str(target_uniq[1]))\n",
        "    sns.histplot(\n",
        "        data=data[data[target] == target_uniq[1]],\n",
        "        x=predictor,\n",
        "        kde=True,\n",
        "        ax=axs[0, 1],\n",
        "        color=\"orange\",\n",
        "        stat=\"density\",\n",
        "    )\n",
        "\n",
        "    axs[1, 0].set_title(\"Boxplot w.r.t target\")\n",
        "    sns.boxplot(data=data, x=target, y=predictor, ax=axs[1, 0], palette=\"gist_rainbow\")\n",
        "\n",
        "    axs[1, 1].set_title(\"Boxplot (without outliers) w.r.t target\")\n",
        "    sns.boxplot(\n",
        "        data=data,\n",
        "        x=target,\n",
        "        y=predictor,\n",
        "        ax=axs[1, 1],\n",
        "        showfliers=False,\n",
        "        palette=\"gist_rainbow\",\n",
        "    )\n",
        "\n",
        "    plt.tight_layout()\n",
        "    plt.show()"
      ],
      "metadata": {
        "id": "EoS3fjEOqyAk"
      },
      "execution_count": 174,
      "outputs": []
    },
    {
      "cell_type": "code",
      "source": [
        "df = pd.read_csv('Helium_10_Xray_2023-05-08.csv')"
      ],
      "metadata": {
        "id": "vmCMBloZdy-2"
      },
      "execution_count": 175,
      "outputs": []
    },
    {
      "cell_type": "markdown",
      "source": [
        "### Создаем копию  документа, чтоб не потерять данных"
      ],
      "metadata": {
        "id": "hsr04sgab9Up"
      }
    },
    {
      "cell_type": "code",
      "source": [
        "df1=df.copy()"
      ],
      "metadata": {
        "id": "58VpgcYglEhH"
      },
      "execution_count": 176,
      "outputs": []
    },
    {
      "cell_type": "markdown",
      "source": [
        "### Смотрим первые 5 строк "
      ],
      "metadata": {
        "id": "1-7WyjUecI3R"
      }
    },
    {
      "cell_type": "code",
      "source": [
        "df1.head()"
      ],
      "metadata": {
        "colab": {
          "base_uri": "https://localhost:8080/",
          "height": 768
        },
        "id": "rTANQuIQcCzw",
        "outputId": "ee702710-46fc-4331-993c-caac750bf27b"
      },
      "execution_count": 177,
      "outputs": [
        {
          "output_type": "execute_result",
          "data": {
            "text/plain": [
              "                                     Product Details        ASIN  \\\n",
              "0  ($) Nutrili Marine Collagen Shots (20) | Hair,...  B09YD7RHC2   \n",
              "1  ($) Swisse Beauty Collagen Glow Powder with 25...  B08NDYTG3D   \n",
              "2       ($) Snaktive Collagen Chocolate - 6x40g bars  B0B9SWK8XQ   \n",
              "3  Youtheory Collagen Advanced with Vitamin C, 12...  B006VAZYLS   \n",
              "4        Neocell Super Collagen PlUS C - 250 Tablets  B00028NGEC   \n",
              "\n",
              "                                         URL  \\\n",
              "0  https://www.amazon.ae/dp/B09YD7RHC2?psc=1   \n",
              "1  https://www.amazon.ae/dp/B08NDYTG3D?psc=1   \n",
              "2  https://www.amazon.ae/dp/B0B9SWK8XQ?psc=1   \n",
              "3  https://www.amazon.ae/dp/B006VAZYLS?psc=1   \n",
              "4  https://www.amazon.ae/dp/B00028NGEC?psc=1   \n",
              "\n",
              "                                           Image URL      Brand  Price AED  \\\n",
              "0  https://m.media-amazon.com/images/I/61asHjsoyP...    Nutrili     295.00   \n",
              "1  https://m.media-amazon.com/images/I/71VnTFRUH4...     Swisse     144.00   \n",
              "2  https://m.media-amazon.com/images/I/61Id91ioPE...   SNAKTIVE      60.00   \n",
              "3  https://m.media-amazon.com/images/I/71m5dU+vK4...  Youtheory      60.37   \n",
              "4  https://m.media-amazon.com/images/I/71TDUkdGRZ...    Neocell     135.00   \n",
              "\n",
              "   Sales    Revenue     BSR  Fees AED  ...  Review Count  Images  \\\n",
              "0   88.0  25,960.00     811     52.75  ...            26      11   \n",
              "1    5.0        720  23,351     29.60  ...             9       3   \n",
              "2    4.0        240  26,620     16.50  ...             2       4   \n",
              "3   89.0   5,372.93     753     17.00  ...         4,676       9   \n",
              "4  542.0  73,170.00     200     28.25  ...        18,342      14   \n",
              "\n",
              "  Review velocity                    Buy Box  Category        Size Tier  \\\n",
              "0               4                    nutrili    Health  Standard Parcel   \n",
              "1               0               Pattern MENA    Health  Standard Parcel   \n",
              "2               0            Le Chocolat LLC    Health   Large Envelope   \n",
              "3              88  NBL General Trading L.L.C    Health  Standard Parcel   \n",
              "4             140                     Amazon    Health  Standard Parcel   \n",
              "\n",
              "  Fulfillment   Dimensions Weight Creation Date  \n",
              "0         FBA  4.4x3.4x4.6   1.72     4/20/2022  \n",
              "1         FBA  2.8x2.7x4.9   0.37           NaN  \n",
              "2         FBA  1.8x5.1x2.8   0.55           NaN  \n",
              "3         FBA  3.1x3.0x3.6   0.42           NaN  \n",
              "4         AMZ  3.1x2.8x5.3   0.66    03/06/2019  \n",
              "\n",
              "[5 rows x 22 columns]"
            ],
            "text/html": [
              "\n",
              "  <div id=\"df-62094cf3-8a6c-4195-b7d2-4f34661a9fa5\">\n",
              "    <div class=\"colab-df-container\">\n",
              "      <div>\n",
              "<style scoped>\n",
              "    .dataframe tbody tr th:only-of-type {\n",
              "        vertical-align: middle;\n",
              "    }\n",
              "\n",
              "    .dataframe tbody tr th {\n",
              "        vertical-align: top;\n",
              "    }\n",
              "\n",
              "    .dataframe thead th {\n",
              "        text-align: right;\n",
              "    }\n",
              "</style>\n",
              "<table border=\"1\" class=\"dataframe\">\n",
              "  <thead>\n",
              "    <tr style=\"text-align: right;\">\n",
              "      <th></th>\n",
              "      <th>Product Details</th>\n",
              "      <th>ASIN</th>\n",
              "      <th>URL</th>\n",
              "      <th>Image URL</th>\n",
              "      <th>Brand</th>\n",
              "      <th>Price AED</th>\n",
              "      <th>Sales</th>\n",
              "      <th>Revenue</th>\n",
              "      <th>BSR</th>\n",
              "      <th>Fees AED</th>\n",
              "      <th>...</th>\n",
              "      <th>Review Count</th>\n",
              "      <th>Images</th>\n",
              "      <th>Review velocity</th>\n",
              "      <th>Buy Box</th>\n",
              "      <th>Category</th>\n",
              "      <th>Size Tier</th>\n",
              "      <th>Fulfillment</th>\n",
              "      <th>Dimensions</th>\n",
              "      <th>Weight</th>\n",
              "      <th>Creation Date</th>\n",
              "    </tr>\n",
              "  </thead>\n",
              "  <tbody>\n",
              "    <tr>\n",
              "      <th>0</th>\n",
              "      <td>($) Nutrili Marine Collagen Shots (20) | Hair,...</td>\n",
              "      <td>B09YD7RHC2</td>\n",
              "      <td>https://www.amazon.ae/dp/B09YD7RHC2?psc=1</td>\n",
              "      <td>https://m.media-amazon.com/images/I/61asHjsoyP...</td>\n",
              "      <td>Nutrili</td>\n",
              "      <td>295.00</td>\n",
              "      <td>88.0</td>\n",
              "      <td>25,960.00</td>\n",
              "      <td>811</td>\n",
              "      <td>52.75</td>\n",
              "      <td>...</td>\n",
              "      <td>26</td>\n",
              "      <td>11</td>\n",
              "      <td>4</td>\n",
              "      <td>nutrili</td>\n",
              "      <td>Health</td>\n",
              "      <td>Standard Parcel</td>\n",
              "      <td>FBA</td>\n",
              "      <td>4.4x3.4x4.6</td>\n",
              "      <td>1.72</td>\n",
              "      <td>4/20/2022</td>\n",
              "    </tr>\n",
              "    <tr>\n",
              "      <th>1</th>\n",
              "      <td>($) Swisse Beauty Collagen Glow Powder with 25...</td>\n",
              "      <td>B08NDYTG3D</td>\n",
              "      <td>https://www.amazon.ae/dp/B08NDYTG3D?psc=1</td>\n",
              "      <td>https://m.media-amazon.com/images/I/71VnTFRUH4...</td>\n",
              "      <td>Swisse</td>\n",
              "      <td>144.00</td>\n",
              "      <td>5.0</td>\n",
              "      <td>720</td>\n",
              "      <td>23,351</td>\n",
              "      <td>29.60</td>\n",
              "      <td>...</td>\n",
              "      <td>9</td>\n",
              "      <td>3</td>\n",
              "      <td>0</td>\n",
              "      <td>Pattern MENA</td>\n",
              "      <td>Health</td>\n",
              "      <td>Standard Parcel</td>\n",
              "      <td>FBA</td>\n",
              "      <td>2.8x2.7x4.9</td>\n",
              "      <td>0.37</td>\n",
              "      <td>NaN</td>\n",
              "    </tr>\n",
              "    <tr>\n",
              "      <th>2</th>\n",
              "      <td>($) Snaktive Collagen Chocolate - 6x40g bars</td>\n",
              "      <td>B0B9SWK8XQ</td>\n",
              "      <td>https://www.amazon.ae/dp/B0B9SWK8XQ?psc=1</td>\n",
              "      <td>https://m.media-amazon.com/images/I/61Id91ioPE...</td>\n",
              "      <td>SNAKTIVE</td>\n",
              "      <td>60.00</td>\n",
              "      <td>4.0</td>\n",
              "      <td>240</td>\n",
              "      <td>26,620</td>\n",
              "      <td>16.50</td>\n",
              "      <td>...</td>\n",
              "      <td>2</td>\n",
              "      <td>4</td>\n",
              "      <td>0</td>\n",
              "      <td>Le Chocolat LLC</td>\n",
              "      <td>Health</td>\n",
              "      <td>Large Envelope</td>\n",
              "      <td>FBA</td>\n",
              "      <td>1.8x5.1x2.8</td>\n",
              "      <td>0.55</td>\n",
              "      <td>NaN</td>\n",
              "    </tr>\n",
              "    <tr>\n",
              "      <th>3</th>\n",
              "      <td>Youtheory Collagen Advanced with Vitamin C, 12...</td>\n",
              "      <td>B006VAZYLS</td>\n",
              "      <td>https://www.amazon.ae/dp/B006VAZYLS?psc=1</td>\n",
              "      <td>https://m.media-amazon.com/images/I/71m5dU+vK4...</td>\n",
              "      <td>Youtheory</td>\n",
              "      <td>60.37</td>\n",
              "      <td>89.0</td>\n",
              "      <td>5,372.93</td>\n",
              "      <td>753</td>\n",
              "      <td>17.00</td>\n",
              "      <td>...</td>\n",
              "      <td>4,676</td>\n",
              "      <td>9</td>\n",
              "      <td>88</td>\n",
              "      <td>NBL General Trading L.L.C</td>\n",
              "      <td>Health</td>\n",
              "      <td>Standard Parcel</td>\n",
              "      <td>FBA</td>\n",
              "      <td>3.1x3.0x3.6</td>\n",
              "      <td>0.42</td>\n",
              "      <td>NaN</td>\n",
              "    </tr>\n",
              "    <tr>\n",
              "      <th>4</th>\n",
              "      <td>Neocell Super Collagen PlUS C - 250 Tablets</td>\n",
              "      <td>B00028NGEC</td>\n",
              "      <td>https://www.amazon.ae/dp/B00028NGEC?psc=1</td>\n",
              "      <td>https://m.media-amazon.com/images/I/71TDUkdGRZ...</td>\n",
              "      <td>Neocell</td>\n",
              "      <td>135.00</td>\n",
              "      <td>542.0</td>\n",
              "      <td>73,170.00</td>\n",
              "      <td>200</td>\n",
              "      <td>28.25</td>\n",
              "      <td>...</td>\n",
              "      <td>18,342</td>\n",
              "      <td>14</td>\n",
              "      <td>140</td>\n",
              "      <td>Amazon</td>\n",
              "      <td>Health</td>\n",
              "      <td>Standard Parcel</td>\n",
              "      <td>AMZ</td>\n",
              "      <td>3.1x2.8x5.3</td>\n",
              "      <td>0.66</td>\n",
              "      <td>03/06/2019</td>\n",
              "    </tr>\n",
              "  </tbody>\n",
              "</table>\n",
              "<p>5 rows × 22 columns</p>\n",
              "</div>\n",
              "      <button class=\"colab-df-convert\" onclick=\"convertToInteractive('df-62094cf3-8a6c-4195-b7d2-4f34661a9fa5')\"\n",
              "              title=\"Convert this dataframe to an interactive table.\"\n",
              "              style=\"display:none;\">\n",
              "        \n",
              "  <svg xmlns=\"http://www.w3.org/2000/svg\" height=\"24px\"viewBox=\"0 0 24 24\"\n",
              "       width=\"24px\">\n",
              "    <path d=\"M0 0h24v24H0V0z\" fill=\"none\"/>\n",
              "    <path d=\"M18.56 5.44l.94 2.06.94-2.06 2.06-.94-2.06-.94-.94-2.06-.94 2.06-2.06.94zm-11 1L8.5 8.5l.94-2.06 2.06-.94-2.06-.94L8.5 2.5l-.94 2.06-2.06.94zm10 10l.94 2.06.94-2.06 2.06-.94-2.06-.94-.94-2.06-.94 2.06-2.06.94z\"/><path d=\"M17.41 7.96l-1.37-1.37c-.4-.4-.92-.59-1.43-.59-.52 0-1.04.2-1.43.59L10.3 9.45l-7.72 7.72c-.78.78-.78 2.05 0 2.83L4 21.41c.39.39.9.59 1.41.59.51 0 1.02-.2 1.41-.59l7.78-7.78 2.81-2.81c.8-.78.8-2.07 0-2.86zM5.41 20L4 18.59l7.72-7.72 1.47 1.35L5.41 20z\"/>\n",
              "  </svg>\n",
              "      </button>\n",
              "      \n",
              "  <style>\n",
              "    .colab-df-container {\n",
              "      display:flex;\n",
              "      flex-wrap:wrap;\n",
              "      gap: 12px;\n",
              "    }\n",
              "\n",
              "    .colab-df-convert {\n",
              "      background-color: #E8F0FE;\n",
              "      border: none;\n",
              "      border-radius: 50%;\n",
              "      cursor: pointer;\n",
              "      display: none;\n",
              "      fill: #1967D2;\n",
              "      height: 32px;\n",
              "      padding: 0 0 0 0;\n",
              "      width: 32px;\n",
              "    }\n",
              "\n",
              "    .colab-df-convert:hover {\n",
              "      background-color: #E2EBFA;\n",
              "      box-shadow: 0px 1px 2px rgba(60, 64, 67, 0.3), 0px 1px 3px 1px rgba(60, 64, 67, 0.15);\n",
              "      fill: #174EA6;\n",
              "    }\n",
              "\n",
              "    [theme=dark] .colab-df-convert {\n",
              "      background-color: #3B4455;\n",
              "      fill: #D2E3FC;\n",
              "    }\n",
              "\n",
              "    [theme=dark] .colab-df-convert:hover {\n",
              "      background-color: #434B5C;\n",
              "      box-shadow: 0px 1px 3px 1px rgba(0, 0, 0, 0.15);\n",
              "      filter: drop-shadow(0px 1px 2px rgba(0, 0, 0, 0.3));\n",
              "      fill: #FFFFFF;\n",
              "    }\n",
              "  </style>\n",
              "\n",
              "      <script>\n",
              "        const buttonEl =\n",
              "          document.querySelector('#df-62094cf3-8a6c-4195-b7d2-4f34661a9fa5 button.colab-df-convert');\n",
              "        buttonEl.style.display =\n",
              "          google.colab.kernel.accessAllowed ? 'block' : 'none';\n",
              "\n",
              "        async function convertToInteractive(key) {\n",
              "          const element = document.querySelector('#df-62094cf3-8a6c-4195-b7d2-4f34661a9fa5');\n",
              "          const dataTable =\n",
              "            await google.colab.kernel.invokeFunction('convertToInteractive',\n",
              "                                                     [key], {});\n",
              "          if (!dataTable) return;\n",
              "\n",
              "          const docLinkHtml = 'Like what you see? Visit the ' +\n",
              "            '<a target=\"_blank\" href=https://colab.research.google.com/notebooks/data_table.ipynb>data table notebook</a>'\n",
              "            + ' to learn more about interactive tables.';\n",
              "          element.innerHTML = '';\n",
              "          dataTable['output_type'] = 'display_data';\n",
              "          await google.colab.output.renderOutput(dataTable, element);\n",
              "          const docLink = document.createElement('div');\n",
              "          docLink.innerHTML = docLinkHtml;\n",
              "          element.appendChild(docLink);\n",
              "        }\n",
              "      </script>\n",
              "    </div>\n",
              "  </div>\n",
              "  "
            ]
          },
          "metadata": {},
          "execution_count": 177
        }
      ]
    },
    {
      "cell_type": "markdown",
      "source": [
        "#### Убираем пробелы и приводим все названия к одному формату"
      ],
      "metadata": {
        "id": "tKd6oY4Zca2t"
      }
    },
    {
      "cell_type": "code",
      "source": [
        "# Rename columns to lowercase with underscores instead of whitespace\n",
        "new_columns = {col: col.lower().replace(' ', '_') for col in df1.columns}\n",
        "df1 = df1.rename(columns=new_columns)"
      ],
      "metadata": {
        "id": "JurF-8IEbA1H"
      },
      "execution_count": 178,
      "outputs": []
    },
    {
      "cell_type": "markdown",
      "source": [
        "#### Lets check the data again"
      ],
      "metadata": {
        "id": "0jDnKC3lbOMK"
      }
    },
    {
      "cell_type": "code",
      "source": [
        "df1.head(2)"
      ],
      "metadata": {
        "colab": {
          "base_uri": "https://localhost:8080/",
          "height": 275
        },
        "id": "d6mMZbO4bTe4",
        "outputId": "cf554eff-964e-4e63-a7c6-c133a5fad3f5"
      },
      "execution_count": 179,
      "outputs": [
        {
          "output_type": "execute_result",
          "data": {
            "text/plain": [
              "                                     product_details        asin  \\\n",
              "0  ($) Nutrili Marine Collagen Shots (20) | Hair,...  B09YD7RHC2   \n",
              "1  ($) Swisse Beauty Collagen Glow Powder with 25...  B08NDYTG3D   \n",
              "\n",
              "                                         url  \\\n",
              "0  https://www.amazon.ae/dp/B09YD7RHC2?psc=1   \n",
              "1  https://www.amazon.ae/dp/B08NDYTG3D?psc=1   \n",
              "\n",
              "                                           image_url    brand  price_aed  \\\n",
              "0  https://m.media-amazon.com/images/I/61asHjsoyP...  Nutrili      295.0   \n",
              "1  https://m.media-amazon.com/images/I/71VnTFRUH4...   Swisse      144.0   \n",
              "\n",
              "   sales    revenue     bsr  fees_aed  ...  review_count  images  \\\n",
              "0   88.0  25,960.00     811     52.75  ...            26      11   \n",
              "1    5.0        720  23,351     29.60  ...             9       3   \n",
              "\n",
              "  review_velocity       buy_box  category        size_tier fulfillment  \\\n",
              "0               4       nutrili    Health  Standard Parcel         FBA   \n",
              "1               0  Pattern MENA    Health  Standard Parcel         FBA   \n",
              "\n",
              "    dimensions weight creation_date  \n",
              "0  4.4x3.4x4.6   1.72     4/20/2022  \n",
              "1  2.8x2.7x4.9   0.37           NaN  \n",
              "\n",
              "[2 rows x 22 columns]"
            ],
            "text/html": [
              "\n",
              "  <div id=\"df-4e038d52-eba4-4d34-8dfd-64612abcfb44\">\n",
              "    <div class=\"colab-df-container\">\n",
              "      <div>\n",
              "<style scoped>\n",
              "    .dataframe tbody tr th:only-of-type {\n",
              "        vertical-align: middle;\n",
              "    }\n",
              "\n",
              "    .dataframe tbody tr th {\n",
              "        vertical-align: top;\n",
              "    }\n",
              "\n",
              "    .dataframe thead th {\n",
              "        text-align: right;\n",
              "    }\n",
              "</style>\n",
              "<table border=\"1\" class=\"dataframe\">\n",
              "  <thead>\n",
              "    <tr style=\"text-align: right;\">\n",
              "      <th></th>\n",
              "      <th>product_details</th>\n",
              "      <th>asin</th>\n",
              "      <th>url</th>\n",
              "      <th>image_url</th>\n",
              "      <th>brand</th>\n",
              "      <th>price_aed</th>\n",
              "      <th>sales</th>\n",
              "      <th>revenue</th>\n",
              "      <th>bsr</th>\n",
              "      <th>fees_aed</th>\n",
              "      <th>...</th>\n",
              "      <th>review_count</th>\n",
              "      <th>images</th>\n",
              "      <th>review_velocity</th>\n",
              "      <th>buy_box</th>\n",
              "      <th>category</th>\n",
              "      <th>size_tier</th>\n",
              "      <th>fulfillment</th>\n",
              "      <th>dimensions</th>\n",
              "      <th>weight</th>\n",
              "      <th>creation_date</th>\n",
              "    </tr>\n",
              "  </thead>\n",
              "  <tbody>\n",
              "    <tr>\n",
              "      <th>0</th>\n",
              "      <td>($) Nutrili Marine Collagen Shots (20) | Hair,...</td>\n",
              "      <td>B09YD7RHC2</td>\n",
              "      <td>https://www.amazon.ae/dp/B09YD7RHC2?psc=1</td>\n",
              "      <td>https://m.media-amazon.com/images/I/61asHjsoyP...</td>\n",
              "      <td>Nutrili</td>\n",
              "      <td>295.0</td>\n",
              "      <td>88.0</td>\n",
              "      <td>25,960.00</td>\n",
              "      <td>811</td>\n",
              "      <td>52.75</td>\n",
              "      <td>...</td>\n",
              "      <td>26</td>\n",
              "      <td>11</td>\n",
              "      <td>4</td>\n",
              "      <td>nutrili</td>\n",
              "      <td>Health</td>\n",
              "      <td>Standard Parcel</td>\n",
              "      <td>FBA</td>\n",
              "      <td>4.4x3.4x4.6</td>\n",
              "      <td>1.72</td>\n",
              "      <td>4/20/2022</td>\n",
              "    </tr>\n",
              "    <tr>\n",
              "      <th>1</th>\n",
              "      <td>($) Swisse Beauty Collagen Glow Powder with 25...</td>\n",
              "      <td>B08NDYTG3D</td>\n",
              "      <td>https://www.amazon.ae/dp/B08NDYTG3D?psc=1</td>\n",
              "      <td>https://m.media-amazon.com/images/I/71VnTFRUH4...</td>\n",
              "      <td>Swisse</td>\n",
              "      <td>144.0</td>\n",
              "      <td>5.0</td>\n",
              "      <td>720</td>\n",
              "      <td>23,351</td>\n",
              "      <td>29.60</td>\n",
              "      <td>...</td>\n",
              "      <td>9</td>\n",
              "      <td>3</td>\n",
              "      <td>0</td>\n",
              "      <td>Pattern MENA</td>\n",
              "      <td>Health</td>\n",
              "      <td>Standard Parcel</td>\n",
              "      <td>FBA</td>\n",
              "      <td>2.8x2.7x4.9</td>\n",
              "      <td>0.37</td>\n",
              "      <td>NaN</td>\n",
              "    </tr>\n",
              "  </tbody>\n",
              "</table>\n",
              "<p>2 rows × 22 columns</p>\n",
              "</div>\n",
              "      <button class=\"colab-df-convert\" onclick=\"convertToInteractive('df-4e038d52-eba4-4d34-8dfd-64612abcfb44')\"\n",
              "              title=\"Convert this dataframe to an interactive table.\"\n",
              "              style=\"display:none;\">\n",
              "        \n",
              "  <svg xmlns=\"http://www.w3.org/2000/svg\" height=\"24px\"viewBox=\"0 0 24 24\"\n",
              "       width=\"24px\">\n",
              "    <path d=\"M0 0h24v24H0V0z\" fill=\"none\"/>\n",
              "    <path d=\"M18.56 5.44l.94 2.06.94-2.06 2.06-.94-2.06-.94-.94-2.06-.94 2.06-2.06.94zm-11 1L8.5 8.5l.94-2.06 2.06-.94-2.06-.94L8.5 2.5l-.94 2.06-2.06.94zm10 10l.94 2.06.94-2.06 2.06-.94-2.06-.94-.94-2.06-.94 2.06-2.06.94z\"/><path d=\"M17.41 7.96l-1.37-1.37c-.4-.4-.92-.59-1.43-.59-.52 0-1.04.2-1.43.59L10.3 9.45l-7.72 7.72c-.78.78-.78 2.05 0 2.83L4 21.41c.39.39.9.59 1.41.59.51 0 1.02-.2 1.41-.59l7.78-7.78 2.81-2.81c.8-.78.8-2.07 0-2.86zM5.41 20L4 18.59l7.72-7.72 1.47 1.35L5.41 20z\"/>\n",
              "  </svg>\n",
              "      </button>\n",
              "      \n",
              "  <style>\n",
              "    .colab-df-container {\n",
              "      display:flex;\n",
              "      flex-wrap:wrap;\n",
              "      gap: 12px;\n",
              "    }\n",
              "\n",
              "    .colab-df-convert {\n",
              "      background-color: #E8F0FE;\n",
              "      border: none;\n",
              "      border-radius: 50%;\n",
              "      cursor: pointer;\n",
              "      display: none;\n",
              "      fill: #1967D2;\n",
              "      height: 32px;\n",
              "      padding: 0 0 0 0;\n",
              "      width: 32px;\n",
              "    }\n",
              "\n",
              "    .colab-df-convert:hover {\n",
              "      background-color: #E2EBFA;\n",
              "      box-shadow: 0px 1px 2px rgba(60, 64, 67, 0.3), 0px 1px 3px 1px rgba(60, 64, 67, 0.15);\n",
              "      fill: #174EA6;\n",
              "    }\n",
              "\n",
              "    [theme=dark] .colab-df-convert {\n",
              "      background-color: #3B4455;\n",
              "      fill: #D2E3FC;\n",
              "    }\n",
              "\n",
              "    [theme=dark] .colab-df-convert:hover {\n",
              "      background-color: #434B5C;\n",
              "      box-shadow: 0px 1px 3px 1px rgba(0, 0, 0, 0.15);\n",
              "      filter: drop-shadow(0px 1px 2px rgba(0, 0, 0, 0.3));\n",
              "      fill: #FFFFFF;\n",
              "    }\n",
              "  </style>\n",
              "\n",
              "      <script>\n",
              "        const buttonEl =\n",
              "          document.querySelector('#df-4e038d52-eba4-4d34-8dfd-64612abcfb44 button.colab-df-convert');\n",
              "        buttonEl.style.display =\n",
              "          google.colab.kernel.accessAllowed ? 'block' : 'none';\n",
              "\n",
              "        async function convertToInteractive(key) {\n",
              "          const element = document.querySelector('#df-4e038d52-eba4-4d34-8dfd-64612abcfb44');\n",
              "          const dataTable =\n",
              "            await google.colab.kernel.invokeFunction('convertToInteractive',\n",
              "                                                     [key], {});\n",
              "          if (!dataTable) return;\n",
              "\n",
              "          const docLinkHtml = 'Like what you see? Visit the ' +\n",
              "            '<a target=\"_blank\" href=https://colab.research.google.com/notebooks/data_table.ipynb>data table notebook</a>'\n",
              "            + ' to learn more about interactive tables.';\n",
              "          element.innerHTML = '';\n",
              "          dataTable['output_type'] = 'display_data';\n",
              "          await google.colab.output.renderOutput(dataTable, element);\n",
              "          const docLink = document.createElement('div');\n",
              "          docLink.innerHTML = docLinkHtml;\n",
              "          element.appendChild(docLink);\n",
              "        }\n",
              "      </script>\n",
              "    </div>\n",
              "  </div>\n",
              "  "
            ]
          },
          "metadata": {},
          "execution_count": 179
        }
      ]
    },
    {
      "cell_type": "markdown",
      "source": [
        "### Understand the shape of the dataset"
      ],
      "metadata": {
        "id": "Kslp-Qk6bGJY"
      }
    },
    {
      "cell_type": "code",
      "source": [
        "df1.shape"
      ],
      "metadata": {
        "colab": {
          "base_uri": "https://localhost:8080/"
        },
        "id": "uoHcUbQybCLv",
        "outputId": "5f373bae-b05b-4f24-890b-361bef75f755"
      },
      "execution_count": 180,
      "outputs": [
        {
          "output_type": "execute_result",
          "data": {
            "text/plain": [
              "(55, 22)"
            ]
          },
          "metadata": {},
          "execution_count": 180
        }
      ]
    },
    {
      "cell_type": "markdown",
      "source": [
        "* 22 columns and 55 rows"
      ],
      "metadata": {
        "id": "Y6PP8cjYe5R5"
      }
    },
    {
      "cell_type": "markdown",
      "source": [
        "#### Проверим есть ли пропущенные данные "
      ],
      "metadata": {
        "id": "PZEUYANffGPg"
      }
    },
    {
      "cell_type": "code",
      "source": [
        "print(df1.isnull().sum())"
      ],
      "metadata": {
        "colab": {
          "base_uri": "https://localhost:8080/"
        },
        "id": "f6ThfLg_fEQy",
        "outputId": "73400796-ce06-4f1d-840d-d6f28f080427"
      },
      "execution_count": 181,
      "outputs": [
        {
          "output_type": "stream",
          "name": "stdout",
          "text": [
            "product_details     0\n",
            "asin                0\n",
            "url                 0\n",
            "image_url           0\n",
            "brand               0\n",
            "price_aed           0\n",
            "sales               4\n",
            "revenue             4\n",
            "bsr                 0\n",
            "fees_aed            0\n",
            "active_sellers_#    0\n",
            "ratings             0\n",
            "review_count        0\n",
            "images              0\n",
            "review_velocity     0\n",
            "buy_box             0\n",
            "category            0\n",
            "size_tier           0\n",
            "fulfillment         1\n",
            "dimensions          0\n",
            "weight              0\n",
            "creation_date       8\n",
            "dtype: int64\n"
          ]
        }
      ]
    },
    {
      "cell_type": "markdown",
      "source": [
        "* Пропушенные данные в следующих колонках:\n",
        " creation_date=8,\n",
        " fullfilment=1\n",
        " sales=4\n",
        " revenue=4\n",
        "\n",
        " "
      ],
      "metadata": {
        "id": "Sb3nQzmAf4Ye"
      }
    },
    {
      "cell_type": "code",
      "source": [
        "missing_values = df1.isna().any()\n",
        "\n",
        "# Printing the columns with missing values\n",
        "print(missing_values)"
      ],
      "metadata": {
        "colab": {
          "base_uri": "https://localhost:8080/"
        },
        "id": "_CqYId6Woxe8",
        "outputId": "74da0d04-755f-4ddf-a3f1-7e7ccb30e8fc"
      },
      "execution_count": 182,
      "outputs": [
        {
          "output_type": "stream",
          "name": "stdout",
          "text": [
            "product_details     False\n",
            "asin                False\n",
            "url                 False\n",
            "image_url           False\n",
            "brand               False\n",
            "price_aed           False\n",
            "sales                True\n",
            "revenue              True\n",
            "bsr                 False\n",
            "fees_aed            False\n",
            "active_sellers_#    False\n",
            "ratings             False\n",
            "review_count        False\n",
            "images              False\n",
            "review_velocity     False\n",
            "buy_box             False\n",
            "category            False\n",
            "size_tier           False\n",
            "fulfillment          True\n",
            "dimensions          False\n",
            "weight              False\n",
            "creation_date        True\n",
            "dtype: bool\n"
          ]
        }
      ]
    },
    {
      "cell_type": "markdown",
      "source": [
        "* Sales, revenue, fulfillment, and creation date have 'n/a' values in their datasets. It is crucial to address this issue as it could potentially lead to misleading interpretations."
      ],
      "metadata": {
        "id": "GAihjwD0o2k2"
      }
    },
    {
      "cell_type": "markdown",
      "source": [
        "#### Lets treat missing data"
      ],
      "metadata": {
        "id": "6a_4N69XpvSF"
      }
    },
    {
      "cell_type": "markdown",
      "source": [
        "replace n/a to NaN to avoid further mistakes in 'sales' column:"
      ],
      "metadata": {
        "id": "3cWUvXM5oJIF"
      }
    },
    {
      "cell_type": "code",
      "source": [
        "df1['sales'] = df1['sales'].replace('n/a', np.nan)  # Replace 'n/a' with NaN\n",
        "df1['sales'] = pd.to_numeric(df1['sales'], errors='coerce')  # Convert to numeric data type\n"
      ],
      "metadata": {
        "id": "qR_YLxR3nvM_"
      },
      "execution_count": 183,
      "outputs": []
    },
    {
      "cell_type": "markdown",
      "source": [
        "in revenue column:"
      ],
      "metadata": {
        "id": "0v9eDEW_qrc5"
      }
    },
    {
      "cell_type": "code",
      "source": [
        "df1['revenue'] = df1['revenue'].replace('n/a', np.nan)  # Replace 'n/a' with NaN\n",
        "df1['revenue'] = pd.to_numeric(df1['revenue'], errors='coerce')  # Convert to numeric data type"
      ],
      "metadata": {
        "id": "Lp7_PZ21quXm"
      },
      "execution_count": 184,
      "outputs": []
    },
    {
      "cell_type": "markdown",
      "source": [
        "in fulfillment column:"
      ],
      "metadata": {
        "id": "SI5OO71KrDRd"
      }
    },
    {
      "cell_type": "code",
      "source": [
        "df1['fulfillment'] = df1['fulfillment'].replace('n/a', np.nan)  # Replace 'n/a' with NaN\n"
      ],
      "metadata": {
        "id": "2e7ILjh9rCOE"
      },
      "execution_count": 185,
      "outputs": []
    },
    {
      "cell_type": "markdown",
      "source": [
        "in creation_date:"
      ],
      "metadata": {
        "id": "hp-za_TkracQ"
      }
    },
    {
      "cell_type": "code",
      "source": [
        "# df1['creation_date'] = df1['creation_date'].replace('n/a', np.nan)  # Replace 'n/a' with NaN\n",
        "# df1['creation_date'] = pd.to_numeric(df1['creation_date'], errors='coerce')  # Convert to numeric data type"
      ],
      "metadata": {
        "id": "lZX7Hk1GrZwJ"
      },
      "execution_count": 186,
      "outputs": []
    },
    {
      "cell_type": "markdown",
      "source": [
        "Lets treat missing data in sales column:"
      ],
      "metadata": {
        "id": "Jlm8dfQQs54a"
      }
    },
    {
      "cell_type": "code",
      "source": [
        "mean_sales = df1['sales'].mean()\n",
        "df1['sales'] = df1['sales'].fillna(mean_sales)"
      ],
      "metadata": {
        "id": "UCN5eEwxvy8X"
      },
      "execution_count": 187,
      "outputs": []
    },
    {
      "cell_type": "code",
      "source": [
        "mean_revenue = df1['revenue'].mean()\n",
        "df1['revenue'] = df1['revenue'].fillna(mean_revenue)"
      ],
      "metadata": {
        "id": "HVMVmw6jynr6"
      },
      "execution_count": 188,
      "outputs": []
    },
    {
      "cell_type": "markdown",
      "source": [
        "we will drop 1 missing valuein fulfillment column"
      ],
      "metadata": {
        "id": "7RnCvm9A02dv"
      }
    },
    {
      "cell_type": "code",
      "source": [
        "df1.dropna(subset=['fulfillment'], inplace=True)"
      ],
      "metadata": {
        "id": "IOT5G-p_ywLv"
      },
      "execution_count": 189,
      "outputs": []
    },
    {
      "cell_type": "markdown",
      "source": [
        "#### creation_date"
      ],
      "metadata": {
        "id": "SKYshKiM11tV"
      }
    },
    {
      "cell_type": "code",
      "source": [
        "df1['creation_date'] = pd.to_datetime(df1['creation_date'], errors='coerce')\n"
      ],
      "metadata": {
        "id": "mV5Q293-16J9"
      },
      "execution_count": 190,
      "outputs": []
    },
    {
      "cell_type": "code",
      "source": [
        "df1['creation_date'] = df1['creation_date'].replace('n/a', np.nan)\n"
      ],
      "metadata": {
        "id": "B4yfnKrt11P1"
      },
      "execution_count": 191,
      "outputs": []
    },
    {
      "cell_type": "markdown",
      "source": [
        "### we will treat missing data in the column creation_date\n"
      ],
      "metadata": {
        "id": "deBLzXTD5eBd"
      }
    },
    {
      "cell_type": "code",
      "source": [
        "# Replace 'n/a' values with a marker, such as 'Missing'\n",
        "df1['creation_date'] = df1['creation_date'].replace('n/a', 'Missing')\n",
        "\n",
        "# Convert the 'creation_date' column to datetime type, including the 'Missing' marker\n",
        "df1['creation_date'] = pd.to_datetime(df1['creation_date'], errors='coerce')\n",
        "\n",
        "# Create a separate column to indicate missing dates\n",
        "df1['is_missing_date'] = df1['creation_date'].isna()\n",
        "\n",
        "# Extract the year from the 'creation_date' column\n",
        "# year = df1['year'] = df1['creation_date'].dt.year"
      ],
      "metadata": {
        "id": "2a3cW6aT5cZM"
      },
      "execution_count": 192,
      "outputs": []
    },
    {
      "cell_type": "code",
      "source": [
        "# df1.dropna(subset=['creation_date'], inplace=True)\n"
      ],
      "metadata": {
        "id": "nv4qdwCx2UMf"
      },
      "execution_count": 193,
      "outputs": []
    },
    {
      "cell_type": "code",
      "source": [
        "print(df1.isnull().sum())"
      ],
      "metadata": {
        "colab": {
          "base_uri": "https://localhost:8080/"
        },
        "id": "q0JoQV0EtNcs",
        "outputId": "44a44547-45b6-485a-9820-fab47d2987aa"
      },
      "execution_count": 194,
      "outputs": [
        {
          "output_type": "stream",
          "name": "stdout",
          "text": [
            "product_details     0\n",
            "asin                0\n",
            "url                 0\n",
            "image_url           0\n",
            "brand               0\n",
            "price_aed           0\n",
            "sales               0\n",
            "revenue             0\n",
            "bsr                 0\n",
            "fees_aed            0\n",
            "active_sellers_#    0\n",
            "ratings             0\n",
            "review_count        0\n",
            "images              0\n",
            "review_velocity     0\n",
            "buy_box             0\n",
            "category            0\n",
            "size_tier           0\n",
            "fulfillment         0\n",
            "dimensions          0\n",
            "weight              0\n",
            "creation_date       8\n",
            "is_missing_date     0\n",
            "year                8\n",
            "dtype: int64\n"
          ]
        }
      ]
    },
    {
      "cell_type": "code",
      "source": [
        "#### For Better interpretation of this column data"
      ],
      "metadata": {
        "id": "2qPrTfuU4NGc"
      },
      "execution_count": 195,
      "outputs": []
    },
    {
      "cell_type": "code",
      "source": [
        "df1.head()"
      ],
      "metadata": {
        "colab": {
          "base_uri": "https://localhost:8080/",
          "height": 507
        },
        "id": "OvL6-XxW8gxG",
        "outputId": "31e49e1c-df60-4837-a91a-d818ebee0bcf"
      },
      "execution_count": 196,
      "outputs": [
        {
          "output_type": "execute_result",
          "data": {
            "text/plain": [
              "                                     product_details        asin  \\\n",
              "0  ($) Nutrili Marine Collagen Shots (20) | Hair,...  B09YD7RHC2   \n",
              "1  ($) Swisse Beauty Collagen Glow Powder with 25...  B08NDYTG3D   \n",
              "2       ($) Snaktive Collagen Chocolate - 6x40g bars  B0B9SWK8XQ   \n",
              "3  Youtheory Collagen Advanced with Vitamin C, 12...  B006VAZYLS   \n",
              "4        Neocell Super Collagen PlUS C - 250 Tablets  B00028NGEC   \n",
              "\n",
              "                                         url  \\\n",
              "0  https://www.amazon.ae/dp/B09YD7RHC2?psc=1   \n",
              "1  https://www.amazon.ae/dp/B08NDYTG3D?psc=1   \n",
              "2  https://www.amazon.ae/dp/B0B9SWK8XQ?psc=1   \n",
              "3  https://www.amazon.ae/dp/B006VAZYLS?psc=1   \n",
              "4  https://www.amazon.ae/dp/B00028NGEC?psc=1   \n",
              "\n",
              "                                           image_url      brand  price_aed  \\\n",
              "0  https://m.media-amazon.com/images/I/61asHjsoyP...    Nutrili     295.00   \n",
              "1  https://m.media-amazon.com/images/I/71VnTFRUH4...     Swisse     144.00   \n",
              "2  https://m.media-amazon.com/images/I/61Id91ioPE...   SNAKTIVE      60.00   \n",
              "3  https://m.media-amazon.com/images/I/71m5dU+vK4...  Youtheory      60.37   \n",
              "4  https://m.media-amazon.com/images/I/71TDUkdGRZ...    Neocell     135.00   \n",
              "\n",
              "   sales  revenue     bsr  fees_aed  ...  review_velocity  \\\n",
              "0   88.0  444.464     811     52.75  ...                4   \n",
              "1    5.0  720.000  23,351     29.60  ...                0   \n",
              "2    4.0  240.000  26,620     16.50  ...                0   \n",
              "3   89.0  444.464     753     17.00  ...               88   \n",
              "4  542.0  444.464     200     28.25  ...              140   \n",
              "\n",
              "                     buy_box category        size_tier  fulfillment  \\\n",
              "0                    nutrili   Health  Standard Parcel          FBA   \n",
              "1               Pattern MENA   Health  Standard Parcel          FBA   \n",
              "2            Le Chocolat LLC   Health   Large Envelope          FBA   \n",
              "3  NBL General Trading L.L.C   Health  Standard Parcel          FBA   \n",
              "4                     Amazon   Health  Standard Parcel          AMZ   \n",
              "\n",
              "    dimensions weight creation_date is_missing_date    year  \n",
              "0  4.4x3.4x4.6   1.72    2022-04-20           False  2022.0  \n",
              "1  2.8x2.7x4.9   0.37           NaT            True     NaN  \n",
              "2  1.8x5.1x2.8   0.55           NaT            True     NaN  \n",
              "3  3.1x3.0x3.6   0.42           NaT            True     NaN  \n",
              "4  3.1x2.8x5.3   0.66    2019-03-06           False  2019.0  \n",
              "\n",
              "[5 rows x 24 columns]"
            ],
            "text/html": [
              "\n",
              "  <div id=\"df-68fe6af4-af3e-4eec-8fbd-3c7b5ec6acf0\">\n",
              "    <div class=\"colab-df-container\">\n",
              "      <div>\n",
              "<style scoped>\n",
              "    .dataframe tbody tr th:only-of-type {\n",
              "        vertical-align: middle;\n",
              "    }\n",
              "\n",
              "    .dataframe tbody tr th {\n",
              "        vertical-align: top;\n",
              "    }\n",
              "\n",
              "    .dataframe thead th {\n",
              "        text-align: right;\n",
              "    }\n",
              "</style>\n",
              "<table border=\"1\" class=\"dataframe\">\n",
              "  <thead>\n",
              "    <tr style=\"text-align: right;\">\n",
              "      <th></th>\n",
              "      <th>product_details</th>\n",
              "      <th>asin</th>\n",
              "      <th>url</th>\n",
              "      <th>image_url</th>\n",
              "      <th>brand</th>\n",
              "      <th>price_aed</th>\n",
              "      <th>sales</th>\n",
              "      <th>revenue</th>\n",
              "      <th>bsr</th>\n",
              "      <th>fees_aed</th>\n",
              "      <th>...</th>\n",
              "      <th>review_velocity</th>\n",
              "      <th>buy_box</th>\n",
              "      <th>category</th>\n",
              "      <th>size_tier</th>\n",
              "      <th>fulfillment</th>\n",
              "      <th>dimensions</th>\n",
              "      <th>weight</th>\n",
              "      <th>creation_date</th>\n",
              "      <th>is_missing_date</th>\n",
              "      <th>year</th>\n",
              "    </tr>\n",
              "  </thead>\n",
              "  <tbody>\n",
              "    <tr>\n",
              "      <th>0</th>\n",
              "      <td>($) Nutrili Marine Collagen Shots (20) | Hair,...</td>\n",
              "      <td>B09YD7RHC2</td>\n",
              "      <td>https://www.amazon.ae/dp/B09YD7RHC2?psc=1</td>\n",
              "      <td>https://m.media-amazon.com/images/I/61asHjsoyP...</td>\n",
              "      <td>Nutrili</td>\n",
              "      <td>295.00</td>\n",
              "      <td>88.0</td>\n",
              "      <td>444.464</td>\n",
              "      <td>811</td>\n",
              "      <td>52.75</td>\n",
              "      <td>...</td>\n",
              "      <td>4</td>\n",
              "      <td>nutrili</td>\n",
              "      <td>Health</td>\n",
              "      <td>Standard Parcel</td>\n",
              "      <td>FBA</td>\n",
              "      <td>4.4x3.4x4.6</td>\n",
              "      <td>1.72</td>\n",
              "      <td>2022-04-20</td>\n",
              "      <td>False</td>\n",
              "      <td>2022.0</td>\n",
              "    </tr>\n",
              "    <tr>\n",
              "      <th>1</th>\n",
              "      <td>($) Swisse Beauty Collagen Glow Powder with 25...</td>\n",
              "      <td>B08NDYTG3D</td>\n",
              "      <td>https://www.amazon.ae/dp/B08NDYTG3D?psc=1</td>\n",
              "      <td>https://m.media-amazon.com/images/I/71VnTFRUH4...</td>\n",
              "      <td>Swisse</td>\n",
              "      <td>144.00</td>\n",
              "      <td>5.0</td>\n",
              "      <td>720.000</td>\n",
              "      <td>23,351</td>\n",
              "      <td>29.60</td>\n",
              "      <td>...</td>\n",
              "      <td>0</td>\n",
              "      <td>Pattern MENA</td>\n",
              "      <td>Health</td>\n",
              "      <td>Standard Parcel</td>\n",
              "      <td>FBA</td>\n",
              "      <td>2.8x2.7x4.9</td>\n",
              "      <td>0.37</td>\n",
              "      <td>NaT</td>\n",
              "      <td>True</td>\n",
              "      <td>NaN</td>\n",
              "    </tr>\n",
              "    <tr>\n",
              "      <th>2</th>\n",
              "      <td>($) Snaktive Collagen Chocolate - 6x40g bars</td>\n",
              "      <td>B0B9SWK8XQ</td>\n",
              "      <td>https://www.amazon.ae/dp/B0B9SWK8XQ?psc=1</td>\n",
              "      <td>https://m.media-amazon.com/images/I/61Id91ioPE...</td>\n",
              "      <td>SNAKTIVE</td>\n",
              "      <td>60.00</td>\n",
              "      <td>4.0</td>\n",
              "      <td>240.000</td>\n",
              "      <td>26,620</td>\n",
              "      <td>16.50</td>\n",
              "      <td>...</td>\n",
              "      <td>0</td>\n",
              "      <td>Le Chocolat LLC</td>\n",
              "      <td>Health</td>\n",
              "      <td>Large Envelope</td>\n",
              "      <td>FBA</td>\n",
              "      <td>1.8x5.1x2.8</td>\n",
              "      <td>0.55</td>\n",
              "      <td>NaT</td>\n",
              "      <td>True</td>\n",
              "      <td>NaN</td>\n",
              "    </tr>\n",
              "    <tr>\n",
              "      <th>3</th>\n",
              "      <td>Youtheory Collagen Advanced with Vitamin C, 12...</td>\n",
              "      <td>B006VAZYLS</td>\n",
              "      <td>https://www.amazon.ae/dp/B006VAZYLS?psc=1</td>\n",
              "      <td>https://m.media-amazon.com/images/I/71m5dU+vK4...</td>\n",
              "      <td>Youtheory</td>\n",
              "      <td>60.37</td>\n",
              "      <td>89.0</td>\n",
              "      <td>444.464</td>\n",
              "      <td>753</td>\n",
              "      <td>17.00</td>\n",
              "      <td>...</td>\n",
              "      <td>88</td>\n",
              "      <td>NBL General Trading L.L.C</td>\n",
              "      <td>Health</td>\n",
              "      <td>Standard Parcel</td>\n",
              "      <td>FBA</td>\n",
              "      <td>3.1x3.0x3.6</td>\n",
              "      <td>0.42</td>\n",
              "      <td>NaT</td>\n",
              "      <td>True</td>\n",
              "      <td>NaN</td>\n",
              "    </tr>\n",
              "    <tr>\n",
              "      <th>4</th>\n",
              "      <td>Neocell Super Collagen PlUS C - 250 Tablets</td>\n",
              "      <td>B00028NGEC</td>\n",
              "      <td>https://www.amazon.ae/dp/B00028NGEC?psc=1</td>\n",
              "      <td>https://m.media-amazon.com/images/I/71TDUkdGRZ...</td>\n",
              "      <td>Neocell</td>\n",
              "      <td>135.00</td>\n",
              "      <td>542.0</td>\n",
              "      <td>444.464</td>\n",
              "      <td>200</td>\n",
              "      <td>28.25</td>\n",
              "      <td>...</td>\n",
              "      <td>140</td>\n",
              "      <td>Amazon</td>\n",
              "      <td>Health</td>\n",
              "      <td>Standard Parcel</td>\n",
              "      <td>AMZ</td>\n",
              "      <td>3.1x2.8x5.3</td>\n",
              "      <td>0.66</td>\n",
              "      <td>2019-03-06</td>\n",
              "      <td>False</td>\n",
              "      <td>2019.0</td>\n",
              "    </tr>\n",
              "  </tbody>\n",
              "</table>\n",
              "<p>5 rows × 24 columns</p>\n",
              "</div>\n",
              "      <button class=\"colab-df-convert\" onclick=\"convertToInteractive('df-68fe6af4-af3e-4eec-8fbd-3c7b5ec6acf0')\"\n",
              "              title=\"Convert this dataframe to an interactive table.\"\n",
              "              style=\"display:none;\">\n",
              "        \n",
              "  <svg xmlns=\"http://www.w3.org/2000/svg\" height=\"24px\"viewBox=\"0 0 24 24\"\n",
              "       width=\"24px\">\n",
              "    <path d=\"M0 0h24v24H0V0z\" fill=\"none\"/>\n",
              "    <path d=\"M18.56 5.44l.94 2.06.94-2.06 2.06-.94-2.06-.94-.94-2.06-.94 2.06-2.06.94zm-11 1L8.5 8.5l.94-2.06 2.06-.94-2.06-.94L8.5 2.5l-.94 2.06-2.06.94zm10 10l.94 2.06.94-2.06 2.06-.94-2.06-.94-.94-2.06-.94 2.06-2.06.94z\"/><path d=\"M17.41 7.96l-1.37-1.37c-.4-.4-.92-.59-1.43-.59-.52 0-1.04.2-1.43.59L10.3 9.45l-7.72 7.72c-.78.78-.78 2.05 0 2.83L4 21.41c.39.39.9.59 1.41.59.51 0 1.02-.2 1.41-.59l7.78-7.78 2.81-2.81c.8-.78.8-2.07 0-2.86zM5.41 20L4 18.59l7.72-7.72 1.47 1.35L5.41 20z\"/>\n",
              "  </svg>\n",
              "      </button>\n",
              "      \n",
              "  <style>\n",
              "    .colab-df-container {\n",
              "      display:flex;\n",
              "      flex-wrap:wrap;\n",
              "      gap: 12px;\n",
              "    }\n",
              "\n",
              "    .colab-df-convert {\n",
              "      background-color: #E8F0FE;\n",
              "      border: none;\n",
              "      border-radius: 50%;\n",
              "      cursor: pointer;\n",
              "      display: none;\n",
              "      fill: #1967D2;\n",
              "      height: 32px;\n",
              "      padding: 0 0 0 0;\n",
              "      width: 32px;\n",
              "    }\n",
              "\n",
              "    .colab-df-convert:hover {\n",
              "      background-color: #E2EBFA;\n",
              "      box-shadow: 0px 1px 2px rgba(60, 64, 67, 0.3), 0px 1px 3px 1px rgba(60, 64, 67, 0.15);\n",
              "      fill: #174EA6;\n",
              "    }\n",
              "\n",
              "    [theme=dark] .colab-df-convert {\n",
              "      background-color: #3B4455;\n",
              "      fill: #D2E3FC;\n",
              "    }\n",
              "\n",
              "    [theme=dark] .colab-df-convert:hover {\n",
              "      background-color: #434B5C;\n",
              "      box-shadow: 0px 1px 3px 1px rgba(0, 0, 0, 0.15);\n",
              "      filter: drop-shadow(0px 1px 2px rgba(0, 0, 0, 0.3));\n",
              "      fill: #FFFFFF;\n",
              "    }\n",
              "  </style>\n",
              "\n",
              "      <script>\n",
              "        const buttonEl =\n",
              "          document.querySelector('#df-68fe6af4-af3e-4eec-8fbd-3c7b5ec6acf0 button.colab-df-convert');\n",
              "        buttonEl.style.display =\n",
              "          google.colab.kernel.accessAllowed ? 'block' : 'none';\n",
              "\n",
              "        async function convertToInteractive(key) {\n",
              "          const element = document.querySelector('#df-68fe6af4-af3e-4eec-8fbd-3c7b5ec6acf0');\n",
              "          const dataTable =\n",
              "            await google.colab.kernel.invokeFunction('convertToInteractive',\n",
              "                                                     [key], {});\n",
              "          if (!dataTable) return;\n",
              "\n",
              "          const docLinkHtml = 'Like what you see? Visit the ' +\n",
              "            '<a target=\"_blank\" href=https://colab.research.google.com/notebooks/data_table.ipynb>data table notebook</a>'\n",
              "            + ' to learn more about interactive tables.';\n",
              "          element.innerHTML = '';\n",
              "          dataTable['output_type'] = 'display_data';\n",
              "          await google.colab.output.renderOutput(dataTable, element);\n",
              "          const docLink = document.createElement('div');\n",
              "          docLink.innerHTML = docLinkHtml;\n",
              "          element.appendChild(docLink);\n",
              "        }\n",
              "      </script>\n",
              "    </div>\n",
              "  </div>\n",
              "  "
            ]
          },
          "metadata": {},
          "execution_count": 196
        }
      ]
    },
    {
      "cell_type": "markdown",
      "source": [
        "#### Numerical and categorical data"
      ],
      "metadata": {
        "id": "F45tX7bCga7p"
      }
    },
    {
      "cell_type": "code",
      "source": [
        "df1.info()"
      ],
      "metadata": {
        "colab": {
          "base_uri": "https://localhost:8080/"
        },
        "id": "Gg-Qan5WgSmc",
        "outputId": "93b528cf-eb2c-4394-aa8f-f8e60b3da7b7"
      },
      "execution_count": 20,
      "outputs": [
        {
          "output_type": "stream",
          "name": "stdout",
          "text": [
            "<class 'pandas.core.frame.DataFrame'>\n",
            "RangeIndex: 55 entries, 0 to 54\n",
            "Data columns (total 22 columns):\n",
            " #   Column            Non-Null Count  Dtype  \n",
            "---  ------            --------------  -----  \n",
            " 0   product_details   55 non-null     object \n",
            " 1   asin              55 non-null     object \n",
            " 2   url               55 non-null     object \n",
            " 3   image_url         55 non-null     object \n",
            " 4   brand             55 non-null     object \n",
            " 5   price_aed         55 non-null     float64\n",
            " 6   sales             51 non-null     float64\n",
            " 7   revenue           51 non-null     object \n",
            " 8   bsr               55 non-null     object \n",
            " 9   fees_aed          55 non-null     float64\n",
            " 10  active_sellers_#  55 non-null     int64  \n",
            " 11  ratings           55 non-null     float64\n",
            " 12  review_count      55 non-null     object \n",
            " 13  images            55 non-null     int64  \n",
            " 14  review_velocity   55 non-null     int64  \n",
            " 15  buy_box           55 non-null     object \n",
            " 16  category          55 non-null     object \n",
            " 17  size_tier         55 non-null     object \n",
            " 18  fulfillment       54 non-null     object \n",
            " 19  dimensions        55 non-null     object \n",
            " 20  weight            55 non-null     float64\n",
            " 21  creation_date     47 non-null     object \n",
            "dtypes: float64(5), int64(3), object(14)\n",
            "memory usage: 9.6+ KB\n"
          ]
        }
      ]
    },
    {
      "cell_type": "markdown",
      "source": [
        "* we have 8 numerical and 14 categorical, but some values are wrong like: creation_date, dimensions, review count,revenue,asin as they are numerical\n"
      ],
      "metadata": {
        "id": "H7iAFk_thFRG"
      }
    },
    {
      "cell_type": "markdown",
      "source": [
        "#### Statistical info\n"
      ],
      "metadata": {
        "id": "R__UGPHciWsf"
      }
    },
    {
      "cell_type": "code",
      "source": [
        "df1.describe().T "
      ],
      "metadata": {
        "colab": {
          "base_uri": "https://localhost:8080/",
          "height": 300
        },
        "id": "6i7Wi_omftek",
        "outputId": "5dba174d-bbfc-4c1c-a56d-937d13a845c8"
      },
      "execution_count": 21,
      "outputs": [
        {
          "output_type": "execute_result",
          "data": {
            "text/plain": [
              "                  count        mean         std    min     25%     50%  \\\n",
              "price_aed          55.0  155.209636  103.916063  26.99  84.910  126.00   \n",
              "sales              51.0  100.274510  121.228722   1.00  29.500   60.00   \n",
              "fees_aed           55.0   31.455273   16.001868   8.66  20.735   26.95   \n",
              "active_sellers_#   55.0    4.218182    2.960799   1.00   2.000    3.00   \n",
              "ratings            55.0    4.483636    0.284646   3.40   4.350    4.50   \n",
              "images             55.0    6.727273    3.418114   1.00   4.000    7.00   \n",
              "review_velocity    55.0   36.800000   86.848612 -87.00   1.000    6.00   \n",
              "weight             55.0    0.979455    0.842387   0.09   0.465    0.62   \n",
              "\n",
              "                      75%     max  \n",
              "price_aed         200.785  608.99  \n",
              "sales             123.000  569.00  \n",
              "fees_aed           38.215  101.85  \n",
              "active_sellers_#    7.000   11.00  \n",
              "ratings             4.600    5.00  \n",
              "images              9.000   16.00  \n",
              "review_velocity    24.000  497.00  \n",
              "weight              1.335    4.37  "
            ],
            "text/html": [
              "\n",
              "  <div id=\"df-586c828e-9727-4622-9f2c-0102277fe3b4\">\n",
              "    <div class=\"colab-df-container\">\n",
              "      <div>\n",
              "<style scoped>\n",
              "    .dataframe tbody tr th:only-of-type {\n",
              "        vertical-align: middle;\n",
              "    }\n",
              "\n",
              "    .dataframe tbody tr th {\n",
              "        vertical-align: top;\n",
              "    }\n",
              "\n",
              "    .dataframe thead th {\n",
              "        text-align: right;\n",
              "    }\n",
              "</style>\n",
              "<table border=\"1\" class=\"dataframe\">\n",
              "  <thead>\n",
              "    <tr style=\"text-align: right;\">\n",
              "      <th></th>\n",
              "      <th>count</th>\n",
              "      <th>mean</th>\n",
              "      <th>std</th>\n",
              "      <th>min</th>\n",
              "      <th>25%</th>\n",
              "      <th>50%</th>\n",
              "      <th>75%</th>\n",
              "      <th>max</th>\n",
              "    </tr>\n",
              "  </thead>\n",
              "  <tbody>\n",
              "    <tr>\n",
              "      <th>price_aed</th>\n",
              "      <td>55.0</td>\n",
              "      <td>155.209636</td>\n",
              "      <td>103.916063</td>\n",
              "      <td>26.99</td>\n",
              "      <td>84.910</td>\n",
              "      <td>126.00</td>\n",
              "      <td>200.785</td>\n",
              "      <td>608.99</td>\n",
              "    </tr>\n",
              "    <tr>\n",
              "      <th>sales</th>\n",
              "      <td>51.0</td>\n",
              "      <td>100.274510</td>\n",
              "      <td>121.228722</td>\n",
              "      <td>1.00</td>\n",
              "      <td>29.500</td>\n",
              "      <td>60.00</td>\n",
              "      <td>123.000</td>\n",
              "      <td>569.00</td>\n",
              "    </tr>\n",
              "    <tr>\n",
              "      <th>fees_aed</th>\n",
              "      <td>55.0</td>\n",
              "      <td>31.455273</td>\n",
              "      <td>16.001868</td>\n",
              "      <td>8.66</td>\n",
              "      <td>20.735</td>\n",
              "      <td>26.95</td>\n",
              "      <td>38.215</td>\n",
              "      <td>101.85</td>\n",
              "    </tr>\n",
              "    <tr>\n",
              "      <th>active_sellers_#</th>\n",
              "      <td>55.0</td>\n",
              "      <td>4.218182</td>\n",
              "      <td>2.960799</td>\n",
              "      <td>1.00</td>\n",
              "      <td>2.000</td>\n",
              "      <td>3.00</td>\n",
              "      <td>7.000</td>\n",
              "      <td>11.00</td>\n",
              "    </tr>\n",
              "    <tr>\n",
              "      <th>ratings</th>\n",
              "      <td>55.0</td>\n",
              "      <td>4.483636</td>\n",
              "      <td>0.284646</td>\n",
              "      <td>3.40</td>\n",
              "      <td>4.350</td>\n",
              "      <td>4.50</td>\n",
              "      <td>4.600</td>\n",
              "      <td>5.00</td>\n",
              "    </tr>\n",
              "    <tr>\n",
              "      <th>images</th>\n",
              "      <td>55.0</td>\n",
              "      <td>6.727273</td>\n",
              "      <td>3.418114</td>\n",
              "      <td>1.00</td>\n",
              "      <td>4.000</td>\n",
              "      <td>7.00</td>\n",
              "      <td>9.000</td>\n",
              "      <td>16.00</td>\n",
              "    </tr>\n",
              "    <tr>\n",
              "      <th>review_velocity</th>\n",
              "      <td>55.0</td>\n",
              "      <td>36.800000</td>\n",
              "      <td>86.848612</td>\n",
              "      <td>-87.00</td>\n",
              "      <td>1.000</td>\n",
              "      <td>6.00</td>\n",
              "      <td>24.000</td>\n",
              "      <td>497.00</td>\n",
              "    </tr>\n",
              "    <tr>\n",
              "      <th>weight</th>\n",
              "      <td>55.0</td>\n",
              "      <td>0.979455</td>\n",
              "      <td>0.842387</td>\n",
              "      <td>0.09</td>\n",
              "      <td>0.465</td>\n",
              "      <td>0.62</td>\n",
              "      <td>1.335</td>\n",
              "      <td>4.37</td>\n",
              "    </tr>\n",
              "  </tbody>\n",
              "</table>\n",
              "</div>\n",
              "      <button class=\"colab-df-convert\" onclick=\"convertToInteractive('df-586c828e-9727-4622-9f2c-0102277fe3b4')\"\n",
              "              title=\"Convert this dataframe to an interactive table.\"\n",
              "              style=\"display:none;\">\n",
              "        \n",
              "  <svg xmlns=\"http://www.w3.org/2000/svg\" height=\"24px\"viewBox=\"0 0 24 24\"\n",
              "       width=\"24px\">\n",
              "    <path d=\"M0 0h24v24H0V0z\" fill=\"none\"/>\n",
              "    <path d=\"M18.56 5.44l.94 2.06.94-2.06 2.06-.94-2.06-.94-.94-2.06-.94 2.06-2.06.94zm-11 1L8.5 8.5l.94-2.06 2.06-.94-2.06-.94L8.5 2.5l-.94 2.06-2.06.94zm10 10l.94 2.06.94-2.06 2.06-.94-2.06-.94-.94-2.06-.94 2.06-2.06.94z\"/><path d=\"M17.41 7.96l-1.37-1.37c-.4-.4-.92-.59-1.43-.59-.52 0-1.04.2-1.43.59L10.3 9.45l-7.72 7.72c-.78.78-.78 2.05 0 2.83L4 21.41c.39.39.9.59 1.41.59.51 0 1.02-.2 1.41-.59l7.78-7.78 2.81-2.81c.8-.78.8-2.07 0-2.86zM5.41 20L4 18.59l7.72-7.72 1.47 1.35L5.41 20z\"/>\n",
              "  </svg>\n",
              "      </button>\n",
              "      \n",
              "  <style>\n",
              "    .colab-df-container {\n",
              "      display:flex;\n",
              "      flex-wrap:wrap;\n",
              "      gap: 12px;\n",
              "    }\n",
              "\n",
              "    .colab-df-convert {\n",
              "      background-color: #E8F0FE;\n",
              "      border: none;\n",
              "      border-radius: 50%;\n",
              "      cursor: pointer;\n",
              "      display: none;\n",
              "      fill: #1967D2;\n",
              "      height: 32px;\n",
              "      padding: 0 0 0 0;\n",
              "      width: 32px;\n",
              "    }\n",
              "\n",
              "    .colab-df-convert:hover {\n",
              "      background-color: #E2EBFA;\n",
              "      box-shadow: 0px 1px 2px rgba(60, 64, 67, 0.3), 0px 1px 3px 1px rgba(60, 64, 67, 0.15);\n",
              "      fill: #174EA6;\n",
              "    }\n",
              "\n",
              "    [theme=dark] .colab-df-convert {\n",
              "      background-color: #3B4455;\n",
              "      fill: #D2E3FC;\n",
              "    }\n",
              "\n",
              "    [theme=dark] .colab-df-convert:hover {\n",
              "      background-color: #434B5C;\n",
              "      box-shadow: 0px 1px 3px 1px rgba(0, 0, 0, 0.15);\n",
              "      filter: drop-shadow(0px 1px 2px rgba(0, 0, 0, 0.3));\n",
              "      fill: #FFFFFF;\n",
              "    }\n",
              "  </style>\n",
              "\n",
              "      <script>\n",
              "        const buttonEl =\n",
              "          document.querySelector('#df-586c828e-9727-4622-9f2c-0102277fe3b4 button.colab-df-convert');\n",
              "        buttonEl.style.display =\n",
              "          google.colab.kernel.accessAllowed ? 'block' : 'none';\n",
              "\n",
              "        async function convertToInteractive(key) {\n",
              "          const element = document.querySelector('#df-586c828e-9727-4622-9f2c-0102277fe3b4');\n",
              "          const dataTable =\n",
              "            await google.colab.kernel.invokeFunction('convertToInteractive',\n",
              "                                                     [key], {});\n",
              "          if (!dataTable) return;\n",
              "\n",
              "          const docLinkHtml = 'Like what you see? Visit the ' +\n",
              "            '<a target=\"_blank\" href=https://colab.research.google.com/notebooks/data_table.ipynb>data table notebook</a>'\n",
              "            + ' to learn more about interactive tables.';\n",
              "          element.innerHTML = '';\n",
              "          dataTable['output_type'] = 'display_data';\n",
              "          await google.colab.output.renderOutput(dataTable, element);\n",
              "          const docLink = document.createElement('div');\n",
              "          docLink.innerHTML = docLinkHtml;\n",
              "          element.appendChild(docLink);\n",
              "        }\n",
              "      </script>\n",
              "    </div>\n",
              "  </div>\n",
              "  "
            ]
          },
          "metadata": {},
          "execution_count": 21
        }
      ]
    },
    {
      "cell_type": "markdown",
      "source": [
        "#### Проверим asin, url, image_url на уникальность:"
      ],
      "metadata": {
        "id": "fQM0xfYhd90D"
      }
    },
    {
      "cell_type": "code",
      "source": [
        "df1.image_url.nunique()"
      ],
      "metadata": {
        "colab": {
          "base_uri": "https://localhost:8080/"
        },
        "outputId": "5da310fe-4ede-41ed-a147-1976beefbe74",
        "id": "41wA3oT4C3VN"
      },
      "execution_count": 14,
      "outputs": [
        {
          "output_type": "execute_result",
          "data": {
            "text/plain": [
              "53"
            ]
          },
          "metadata": {},
          "execution_count": 14
        }
      ]
    },
    {
      "cell_type": "code",
      "source": [
        "df1.url.nunique()"
      ],
      "metadata": {
        "colab": {
          "base_uri": "https://localhost:8080/"
        },
        "outputId": "8a4a02fb-0018-4ed3-a781-4493826d56a9",
        "id": "b4x6rcD6C3Vp"
      },
      "execution_count": 18,
      "outputs": [
        {
          "output_type": "execute_result",
          "data": {
            "text/plain": [
              "53"
            ]
          },
          "metadata": {},
          "execution_count": 18
        }
      ]
    },
    {
      "cell_type": "code",
      "source": [
        "df1.asin.nunique()"
      ],
      "metadata": {
        "colab": {
          "base_uri": "https://localhost:8080/"
        },
        "outputId": "b9bac7ae-2046-4b36-8709-9feb5384683f",
        "id": "koI0MeyfC3Vq"
      },
      "execution_count": null,
      "outputs": [
        {
          "output_type": "execute_result",
          "data": {
            "text/plain": [
              "53"
            ]
          },
          "metadata": {},
          "execution_count": 164
        }
      ]
    },
    {
      "cell_type": "markdown",
      "source": [
        "* All of the rows in these columns are unique, which is why they hold no value for us. Therefore, we can drop them"
      ],
      "metadata": {
        "id": "B2-_fYoGjTDi"
      }
    },
    {
      "cell_type": "code",
      "source": [
        "df1 = df1.drop([\"image_url\"], axis=1)"
      ],
      "metadata": {
        "id": "1mXPQ0REC3Vq"
      },
      "execution_count": 22,
      "outputs": []
    },
    {
      "cell_type": "code",
      "source": [
        "df1 = df1.drop([\"url\"], axis=1)"
      ],
      "metadata": {
        "id": "fRK8gU8jC3Vr"
      },
      "execution_count": 23,
      "outputs": []
    },
    {
      "cell_type": "code",
      "source": [
        "df1 = df1.drop([\"asin\"], axis=1)"
      ],
      "metadata": {
        "id": "uCnWEjB2C3Vs"
      },
      "execution_count": 24,
      "outputs": []
    },
    {
      "cell_type": "code",
      "source": [
        "df1 = df1.drop([\"category\"], axis=1)"
      ],
      "metadata": {
        "id": "gH8tDIHKC3Vs"
      },
      "execution_count": 25,
      "outputs": []
    },
    {
      "cell_type": "code",
      "source": [
        "# Assuming the dataframe is named df1 and the column is named 'Sales'\n",
        "df1['sales'] = df1['sales'].replace('n/a', np.nan)"
      ],
      "metadata": {
        "id": "n-Dh8QSBnjvo"
      },
      "execution_count": null,
      "outputs": []
    },
    {
      "cell_type": "markdown",
      "source": [
        "#### We now need to change the data type of the next column to numerical since the following columns are categorical: \n",
        "\n",
        "*   revenue\n",
        "*   review count\n",
        "*   bsr\n"
      ],
      "metadata": {
        "id": "i9P_1EtfkI_2"
      }
    },
    {
      "cell_type": "code",
      "source": [
        "df1['revenue'] = df1['revenue'].str.replace(',', '').astype(float)"
      ],
      "metadata": {
        "id": "HpsQMn0VC3Vt"
      },
      "execution_count": 26,
      "outputs": []
    },
    {
      "cell_type": "code",
      "source": [
        "df1['bsr'] = df1['bsr'].str.replace(',', '').astype(float)"
      ],
      "metadata": {
        "id": "EC1PPyTsC3Vu"
      },
      "execution_count": 27,
      "outputs": []
    },
    {
      "cell_type": "code",
      "source": [
        "df1['review_count'] = df1['review_count'].str.replace(',', '').astype(float)"
      ],
      "metadata": {
        "id": "sITI2EKbC3Vu"
      },
      "execution_count": 28,
      "outputs": []
    },
    {
      "cell_type": "markdown",
      "source": [
        "now lets format data_creation to dd/mm/yyyy format"
      ],
      "metadata": {
        "id": "wIpZQNSIgVuX"
      }
    },
    {
      "cell_type": "code",
      "source": [
        "df1['creation_date'] = pd.to_datetime(df1['creation_date'], format='%m/%d/%Y')\n"
      ],
      "metadata": {
        "id": "G5TNHaB1gUvo"
      },
      "execution_count": 29,
      "outputs": []
    },
    {
      "cell_type": "code",
      "source": [
        "df1['creation_date'] = pd.to_datetime(df1['creation_date'], format='%m/%d/%Y', errors='coerce')\n",
        "\n"
      ],
      "metadata": {
        "id": "YNEAHAmZC3Vv"
      },
      "execution_count": 30,
      "outputs": []
    },
    {
      "cell_type": "markdown",
      "source": [
        "#### Lets check the format again:"
      ],
      "metadata": {
        "id": "_CCefJ0MmtMu"
      }
    },
    {
      "cell_type": "code",
      "source": [
        "df1.info()"
      ],
      "metadata": {
        "colab": {
          "base_uri": "https://localhost:8080/"
        },
        "id": "v2Eax4lFmqM5",
        "outputId": "9e35499f-b2fd-4151-e296-f1007d4a2ad8"
      },
      "execution_count": 197,
      "outputs": [
        {
          "output_type": "stream",
          "name": "stdout",
          "text": [
            "<class 'pandas.core.frame.DataFrame'>\n",
            "Int64Index: 54 entries, 0 to 54\n",
            "Data columns (total 24 columns):\n",
            " #   Column            Non-Null Count  Dtype         \n",
            "---  ------            --------------  -----         \n",
            " 0   product_details   54 non-null     object        \n",
            " 1   asin              54 non-null     object        \n",
            " 2   url               54 non-null     object        \n",
            " 3   image_url         54 non-null     object        \n",
            " 4   brand             54 non-null     object        \n",
            " 5   price_aed         54 non-null     float64       \n",
            " 6   sales             54 non-null     float64       \n",
            " 7   revenue           54 non-null     float64       \n",
            " 8   bsr               54 non-null     object        \n",
            " 9   fees_aed          54 non-null     float64       \n",
            " 10  active_sellers_#  54 non-null     int64         \n",
            " 11  ratings           54 non-null     float64       \n",
            " 12  review_count      54 non-null     object        \n",
            " 13  images            54 non-null     int64         \n",
            " 14  review_velocity   54 non-null     int64         \n",
            " 15  buy_box           54 non-null     object        \n",
            " 16  category          54 non-null     object        \n",
            " 17  size_tier         54 non-null     object        \n",
            " 18  fulfillment       54 non-null     object        \n",
            " 19  dimensions        54 non-null     object        \n",
            " 20  weight            54 non-null     float64       \n",
            " 21  creation_date     46 non-null     datetime64[ns]\n",
            " 22  is_missing_date   54 non-null     bool          \n",
            " 23  year              46 non-null     float64       \n",
            "dtypes: bool(1), datetime64[ns](1), float64(7), int64(3), object(12)\n",
            "memory usage: 10.2+ KB\n"
          ]
        }
      ]
    },
    {
      "cell_type": "markdown",
      "source": [
        "* Now we have 11 numeric and 6 object, dimensions we will modify later"
      ],
      "metadata": {
        "id": "QY66k8Rtm732"
      }
    },
    {
      "cell_type": "code",
      "source": [
        "df1.head()"
      ],
      "metadata": {
        "colab": {
          "base_uri": "https://localhost:8080/",
          "height": 478
        },
        "outputId": "1b17ef9f-8055-4ad7-ba13-9dc7b93c9b4a",
        "id": "_UqIPFXDC3Vw"
      },
      "execution_count": null,
      "outputs": [
        {
          "output_type": "execute_result",
          "data": {
            "text/plain": [
              "                                     product_details      brand  price_aed  \\\n",
              "0  ($) Nutrili Marine Collagen Shots (20) | Hair,...    Nutrili     295.00   \n",
              "1  ($) Swisse Beauty Collagen Glow Powder with 25...     Swisse     144.00   \n",
              "2       ($) Snaktive Collagen Chocolate - 6x40g bars   SNAKTIVE      60.00   \n",
              "3  Youtheory Collagen Advanced with Vitamin C, 12...  Youtheory      60.37   \n",
              "4        Neocell Super Collagen PlUS C - 250 Tablets    Neocell     135.00   \n",
              "\n",
              "   sales   revenue      bsr  fees_aed  active_sellers_#  ratings  \\\n",
              "0   88.0  25960.00    811.0     52.75                 1      4.6   \n",
              "1    5.0    720.00  23351.0     29.60                 1      4.9   \n",
              "2    4.0    240.00  26620.0     16.50                 1      5.0   \n",
              "3   89.0   5372.93    753.0     17.00                 8      4.5   \n",
              "4  542.0  73170.00    200.0     28.25                 2      4.4   \n",
              "\n",
              "   review_count  images  review_velocity                    buy_box  \\\n",
              "0          26.0      11                4                    nutrili   \n",
              "1           9.0       3                0               Pattern MENA   \n",
              "2           2.0       4                0            Le Chocolat LLC   \n",
              "3        4676.0       9               88  NBL General Trading L.L.C   \n",
              "4       18342.0      14              140                     Amazon   \n",
              "\n",
              "         size_tier fulfillment   dimensions  weight creation_date  \n",
              "0  Standard Parcel         FBA  4.4x3.4x4.6    1.72    2022-04-20  \n",
              "1  Standard Parcel         FBA  2.8x2.7x4.9    0.37           NaT  \n",
              "2   Large Envelope         FBA  1.8x5.1x2.8    0.55           NaT  \n",
              "3  Standard Parcel         FBA  3.1x3.0x3.6    0.42           NaT  \n",
              "4  Standard Parcel         AMZ  3.1x2.8x5.3    0.66    2019-03-06  "
            ],
            "text/html": [
              "\n",
              "  <div id=\"df-cf9d58d0-506d-4bc1-b094-309925d8f358\">\n",
              "    <div class=\"colab-df-container\">\n",
              "      <div>\n",
              "<style scoped>\n",
              "    .dataframe tbody tr th:only-of-type {\n",
              "        vertical-align: middle;\n",
              "    }\n",
              "\n",
              "    .dataframe tbody tr th {\n",
              "        vertical-align: top;\n",
              "    }\n",
              "\n",
              "    .dataframe thead th {\n",
              "        text-align: right;\n",
              "    }\n",
              "</style>\n",
              "<table border=\"1\" class=\"dataframe\">\n",
              "  <thead>\n",
              "    <tr style=\"text-align: right;\">\n",
              "      <th></th>\n",
              "      <th>product_details</th>\n",
              "      <th>brand</th>\n",
              "      <th>price_aed</th>\n",
              "      <th>sales</th>\n",
              "      <th>revenue</th>\n",
              "      <th>bsr</th>\n",
              "      <th>fees_aed</th>\n",
              "      <th>active_sellers_#</th>\n",
              "      <th>ratings</th>\n",
              "      <th>review_count</th>\n",
              "      <th>images</th>\n",
              "      <th>review_velocity</th>\n",
              "      <th>buy_box</th>\n",
              "      <th>size_tier</th>\n",
              "      <th>fulfillment</th>\n",
              "      <th>dimensions</th>\n",
              "      <th>weight</th>\n",
              "      <th>creation_date</th>\n",
              "    </tr>\n",
              "  </thead>\n",
              "  <tbody>\n",
              "    <tr>\n",
              "      <th>0</th>\n",
              "      <td>($) Nutrili Marine Collagen Shots (20) | Hair,...</td>\n",
              "      <td>Nutrili</td>\n",
              "      <td>295.00</td>\n",
              "      <td>88.0</td>\n",
              "      <td>25960.00</td>\n",
              "      <td>811.0</td>\n",
              "      <td>52.75</td>\n",
              "      <td>1</td>\n",
              "      <td>4.6</td>\n",
              "      <td>26.0</td>\n",
              "      <td>11</td>\n",
              "      <td>4</td>\n",
              "      <td>nutrili</td>\n",
              "      <td>Standard Parcel</td>\n",
              "      <td>FBA</td>\n",
              "      <td>4.4x3.4x4.6</td>\n",
              "      <td>1.72</td>\n",
              "      <td>2022-04-20</td>\n",
              "    </tr>\n",
              "    <tr>\n",
              "      <th>1</th>\n",
              "      <td>($) Swisse Beauty Collagen Glow Powder with 25...</td>\n",
              "      <td>Swisse</td>\n",
              "      <td>144.00</td>\n",
              "      <td>5.0</td>\n",
              "      <td>720.00</td>\n",
              "      <td>23351.0</td>\n",
              "      <td>29.60</td>\n",
              "      <td>1</td>\n",
              "      <td>4.9</td>\n",
              "      <td>9.0</td>\n",
              "      <td>3</td>\n",
              "      <td>0</td>\n",
              "      <td>Pattern MENA</td>\n",
              "      <td>Standard Parcel</td>\n",
              "      <td>FBA</td>\n",
              "      <td>2.8x2.7x4.9</td>\n",
              "      <td>0.37</td>\n",
              "      <td>NaT</td>\n",
              "    </tr>\n",
              "    <tr>\n",
              "      <th>2</th>\n",
              "      <td>($) Snaktive Collagen Chocolate - 6x40g bars</td>\n",
              "      <td>SNAKTIVE</td>\n",
              "      <td>60.00</td>\n",
              "      <td>4.0</td>\n",
              "      <td>240.00</td>\n",
              "      <td>26620.0</td>\n",
              "      <td>16.50</td>\n",
              "      <td>1</td>\n",
              "      <td>5.0</td>\n",
              "      <td>2.0</td>\n",
              "      <td>4</td>\n",
              "      <td>0</td>\n",
              "      <td>Le Chocolat LLC</td>\n",
              "      <td>Large Envelope</td>\n",
              "      <td>FBA</td>\n",
              "      <td>1.8x5.1x2.8</td>\n",
              "      <td>0.55</td>\n",
              "      <td>NaT</td>\n",
              "    </tr>\n",
              "    <tr>\n",
              "      <th>3</th>\n",
              "      <td>Youtheory Collagen Advanced with Vitamin C, 12...</td>\n",
              "      <td>Youtheory</td>\n",
              "      <td>60.37</td>\n",
              "      <td>89.0</td>\n",
              "      <td>5372.93</td>\n",
              "      <td>753.0</td>\n",
              "      <td>17.00</td>\n",
              "      <td>8</td>\n",
              "      <td>4.5</td>\n",
              "      <td>4676.0</td>\n",
              "      <td>9</td>\n",
              "      <td>88</td>\n",
              "      <td>NBL General Trading L.L.C</td>\n",
              "      <td>Standard Parcel</td>\n",
              "      <td>FBA</td>\n",
              "      <td>3.1x3.0x3.6</td>\n",
              "      <td>0.42</td>\n",
              "      <td>NaT</td>\n",
              "    </tr>\n",
              "    <tr>\n",
              "      <th>4</th>\n",
              "      <td>Neocell Super Collagen PlUS C - 250 Tablets</td>\n",
              "      <td>Neocell</td>\n",
              "      <td>135.00</td>\n",
              "      <td>542.0</td>\n",
              "      <td>73170.00</td>\n",
              "      <td>200.0</td>\n",
              "      <td>28.25</td>\n",
              "      <td>2</td>\n",
              "      <td>4.4</td>\n",
              "      <td>18342.0</td>\n",
              "      <td>14</td>\n",
              "      <td>140</td>\n",
              "      <td>Amazon</td>\n",
              "      <td>Standard Parcel</td>\n",
              "      <td>AMZ</td>\n",
              "      <td>3.1x2.8x5.3</td>\n",
              "      <td>0.66</td>\n",
              "      <td>2019-03-06</td>\n",
              "    </tr>\n",
              "  </tbody>\n",
              "</table>\n",
              "</div>\n",
              "      <button class=\"colab-df-convert\" onclick=\"convertToInteractive('df-cf9d58d0-506d-4bc1-b094-309925d8f358')\"\n",
              "              title=\"Convert this dataframe to an interactive table.\"\n",
              "              style=\"display:none;\">\n",
              "        \n",
              "  <svg xmlns=\"http://www.w3.org/2000/svg\" height=\"24px\"viewBox=\"0 0 24 24\"\n",
              "       width=\"24px\">\n",
              "    <path d=\"M0 0h24v24H0V0z\" fill=\"none\"/>\n",
              "    <path d=\"M18.56 5.44l.94 2.06.94-2.06 2.06-.94-2.06-.94-.94-2.06-.94 2.06-2.06.94zm-11 1L8.5 8.5l.94-2.06 2.06-.94-2.06-.94L8.5 2.5l-.94 2.06-2.06.94zm10 10l.94 2.06.94-2.06 2.06-.94-2.06-.94-.94-2.06-.94 2.06-2.06.94z\"/><path d=\"M17.41 7.96l-1.37-1.37c-.4-.4-.92-.59-1.43-.59-.52 0-1.04.2-1.43.59L10.3 9.45l-7.72 7.72c-.78.78-.78 2.05 0 2.83L4 21.41c.39.39.9.59 1.41.59.51 0 1.02-.2 1.41-.59l7.78-7.78 2.81-2.81c.8-.78.8-2.07 0-2.86zM5.41 20L4 18.59l7.72-7.72 1.47 1.35L5.41 20z\"/>\n",
              "  </svg>\n",
              "      </button>\n",
              "      \n",
              "  <style>\n",
              "    .colab-df-container {\n",
              "      display:flex;\n",
              "      flex-wrap:wrap;\n",
              "      gap: 12px;\n",
              "    }\n",
              "\n",
              "    .colab-df-convert {\n",
              "      background-color: #E8F0FE;\n",
              "      border: none;\n",
              "      border-radius: 50%;\n",
              "      cursor: pointer;\n",
              "      display: none;\n",
              "      fill: #1967D2;\n",
              "      height: 32px;\n",
              "      padding: 0 0 0 0;\n",
              "      width: 32px;\n",
              "    }\n",
              "\n",
              "    .colab-df-convert:hover {\n",
              "      background-color: #E2EBFA;\n",
              "      box-shadow: 0px 1px 2px rgba(60, 64, 67, 0.3), 0px 1px 3px 1px rgba(60, 64, 67, 0.15);\n",
              "      fill: #174EA6;\n",
              "    }\n",
              "\n",
              "    [theme=dark] .colab-df-convert {\n",
              "      background-color: #3B4455;\n",
              "      fill: #D2E3FC;\n",
              "    }\n",
              "\n",
              "    [theme=dark] .colab-df-convert:hover {\n",
              "      background-color: #434B5C;\n",
              "      box-shadow: 0px 1px 3px 1px rgba(0, 0, 0, 0.15);\n",
              "      filter: drop-shadow(0px 1px 2px rgba(0, 0, 0, 0.3));\n",
              "      fill: #FFFFFF;\n",
              "    }\n",
              "  </style>\n",
              "\n",
              "      <script>\n",
              "        const buttonEl =\n",
              "          document.querySelector('#df-cf9d58d0-506d-4bc1-b094-309925d8f358 button.colab-df-convert');\n",
              "        buttonEl.style.display =\n",
              "          google.colab.kernel.accessAllowed ? 'block' : 'none';\n",
              "\n",
              "        async function convertToInteractive(key) {\n",
              "          const element = document.querySelector('#df-cf9d58d0-506d-4bc1-b094-309925d8f358');\n",
              "          const dataTable =\n",
              "            await google.colab.kernel.invokeFunction('convertToInteractive',\n",
              "                                                     [key], {});\n",
              "          if (!dataTable) return;\n",
              "\n",
              "          const docLinkHtml = 'Like what you see? Visit the ' +\n",
              "            '<a target=\"_blank\" href=https://colab.research.google.com/notebooks/data_table.ipynb>data table notebook</a>'\n",
              "            + ' to learn more about interactive tables.';\n",
              "          element.innerHTML = '';\n",
              "          dataTable['output_type'] = 'display_data';\n",
              "          await google.colab.output.renderOutput(dataTable, element);\n",
              "          const docLink = document.createElement('div');\n",
              "          docLink.innerHTML = docLinkHtml;\n",
              "          element.appendChild(docLink);\n",
              "        }\n",
              "      </script>\n",
              "    </div>\n",
              "  </div>\n",
              "  "
            ]
          },
          "metadata": {},
          "execution_count": 175
        }
      ]
    },
    {
      "cell_type": "code",
      "source": [
        "df1.describe().T "
      ],
      "metadata": {
        "colab": {
          "base_uri": "https://localhost:8080/",
          "height": 363
        },
        "id": "F_ZYexAgbB21",
        "outputId": "ed3853da-27e5-469b-b3ff-b67780a125a1"
      },
      "execution_count": 198,
      "outputs": [
        {
          "output_type": "execute_result",
          "data": {
            "text/plain": [
              "                  count         mean         std      min        25%  \\\n",
              "price_aed          54.0   157.195000  103.833579    26.99    85.0000   \n",
              "sales              54.0   100.274510  117.747744     1.00    31.2500   \n",
              "revenue            54.0   444.464000   79.518445   231.00   444.4640   \n",
              "fees_aed           54.0    31.722963   16.027337     8.66    20.7500   \n",
              "active_sellers_#   54.0     4.259259    2.972739     1.00     2.0000   \n",
              "ratings            54.0     4.474074    0.278260     3.40     4.3250   \n",
              "images             54.0     6.722222    3.450002     1.00     4.0000   \n",
              "review_velocity    54.0    37.407407   87.546110   -87.00     1.0000   \n",
              "weight             54.0     0.986111    0.848836     0.09     0.4425   \n",
              "year               46.0  2019.956522    1.332608  2017.00  2019.0000   \n",
              "\n",
              "                       50%        75%      max  \n",
              "price_aed          130.500   204.8925   608.99  \n",
              "sales               69.500   117.2500   569.00  \n",
              "revenue            444.464   444.4640   800.00  \n",
              "fees_aed            27.600    38.8775   101.85  \n",
              "active_sellers_#     3.000     7.0000    11.00  \n",
              "ratings              4.500     4.6000     5.00  \n",
              "images               6.500     9.0000    16.00  \n",
              "review_velocity      6.500    24.0000   497.00  \n",
              "weight               0.620     1.3725     4.37  \n",
              "year              2019.000  2021.0000  2022.00  "
            ],
            "text/html": [
              "\n",
              "  <div id=\"df-46bea332-ba86-411a-9b26-7d925738688d\">\n",
              "    <div class=\"colab-df-container\">\n",
              "      <div>\n",
              "<style scoped>\n",
              "    .dataframe tbody tr th:only-of-type {\n",
              "        vertical-align: middle;\n",
              "    }\n",
              "\n",
              "    .dataframe tbody tr th {\n",
              "        vertical-align: top;\n",
              "    }\n",
              "\n",
              "    .dataframe thead th {\n",
              "        text-align: right;\n",
              "    }\n",
              "</style>\n",
              "<table border=\"1\" class=\"dataframe\">\n",
              "  <thead>\n",
              "    <tr style=\"text-align: right;\">\n",
              "      <th></th>\n",
              "      <th>count</th>\n",
              "      <th>mean</th>\n",
              "      <th>std</th>\n",
              "      <th>min</th>\n",
              "      <th>25%</th>\n",
              "      <th>50%</th>\n",
              "      <th>75%</th>\n",
              "      <th>max</th>\n",
              "    </tr>\n",
              "  </thead>\n",
              "  <tbody>\n",
              "    <tr>\n",
              "      <th>price_aed</th>\n",
              "      <td>54.0</td>\n",
              "      <td>157.195000</td>\n",
              "      <td>103.833579</td>\n",
              "      <td>26.99</td>\n",
              "      <td>85.0000</td>\n",
              "      <td>130.500</td>\n",
              "      <td>204.8925</td>\n",
              "      <td>608.99</td>\n",
              "    </tr>\n",
              "    <tr>\n",
              "      <th>sales</th>\n",
              "      <td>54.0</td>\n",
              "      <td>100.274510</td>\n",
              "      <td>117.747744</td>\n",
              "      <td>1.00</td>\n",
              "      <td>31.2500</td>\n",
              "      <td>69.500</td>\n",
              "      <td>117.2500</td>\n",
              "      <td>569.00</td>\n",
              "    </tr>\n",
              "    <tr>\n",
              "      <th>revenue</th>\n",
              "      <td>54.0</td>\n",
              "      <td>444.464000</td>\n",
              "      <td>79.518445</td>\n",
              "      <td>231.00</td>\n",
              "      <td>444.4640</td>\n",
              "      <td>444.464</td>\n",
              "      <td>444.4640</td>\n",
              "      <td>800.00</td>\n",
              "    </tr>\n",
              "    <tr>\n",
              "      <th>fees_aed</th>\n",
              "      <td>54.0</td>\n",
              "      <td>31.722963</td>\n",
              "      <td>16.027337</td>\n",
              "      <td>8.66</td>\n",
              "      <td>20.7500</td>\n",
              "      <td>27.600</td>\n",
              "      <td>38.8775</td>\n",
              "      <td>101.85</td>\n",
              "    </tr>\n",
              "    <tr>\n",
              "      <th>active_sellers_#</th>\n",
              "      <td>54.0</td>\n",
              "      <td>4.259259</td>\n",
              "      <td>2.972739</td>\n",
              "      <td>1.00</td>\n",
              "      <td>2.0000</td>\n",
              "      <td>3.000</td>\n",
              "      <td>7.0000</td>\n",
              "      <td>11.00</td>\n",
              "    </tr>\n",
              "    <tr>\n",
              "      <th>ratings</th>\n",
              "      <td>54.0</td>\n",
              "      <td>4.474074</td>\n",
              "      <td>0.278260</td>\n",
              "      <td>3.40</td>\n",
              "      <td>4.3250</td>\n",
              "      <td>4.500</td>\n",
              "      <td>4.6000</td>\n",
              "      <td>5.00</td>\n",
              "    </tr>\n",
              "    <tr>\n",
              "      <th>images</th>\n",
              "      <td>54.0</td>\n",
              "      <td>6.722222</td>\n",
              "      <td>3.450002</td>\n",
              "      <td>1.00</td>\n",
              "      <td>4.0000</td>\n",
              "      <td>6.500</td>\n",
              "      <td>9.0000</td>\n",
              "      <td>16.00</td>\n",
              "    </tr>\n",
              "    <tr>\n",
              "      <th>review_velocity</th>\n",
              "      <td>54.0</td>\n",
              "      <td>37.407407</td>\n",
              "      <td>87.546110</td>\n",
              "      <td>-87.00</td>\n",
              "      <td>1.0000</td>\n",
              "      <td>6.500</td>\n",
              "      <td>24.0000</td>\n",
              "      <td>497.00</td>\n",
              "    </tr>\n",
              "    <tr>\n",
              "      <th>weight</th>\n",
              "      <td>54.0</td>\n",
              "      <td>0.986111</td>\n",
              "      <td>0.848836</td>\n",
              "      <td>0.09</td>\n",
              "      <td>0.4425</td>\n",
              "      <td>0.620</td>\n",
              "      <td>1.3725</td>\n",
              "      <td>4.37</td>\n",
              "    </tr>\n",
              "    <tr>\n",
              "      <th>year</th>\n",
              "      <td>46.0</td>\n",
              "      <td>2019.956522</td>\n",
              "      <td>1.332608</td>\n",
              "      <td>2017.00</td>\n",
              "      <td>2019.0000</td>\n",
              "      <td>2019.000</td>\n",
              "      <td>2021.0000</td>\n",
              "      <td>2022.00</td>\n",
              "    </tr>\n",
              "  </tbody>\n",
              "</table>\n",
              "</div>\n",
              "      <button class=\"colab-df-convert\" onclick=\"convertToInteractive('df-46bea332-ba86-411a-9b26-7d925738688d')\"\n",
              "              title=\"Convert this dataframe to an interactive table.\"\n",
              "              style=\"display:none;\">\n",
              "        \n",
              "  <svg xmlns=\"http://www.w3.org/2000/svg\" height=\"24px\"viewBox=\"0 0 24 24\"\n",
              "       width=\"24px\">\n",
              "    <path d=\"M0 0h24v24H0V0z\" fill=\"none\"/>\n",
              "    <path d=\"M18.56 5.44l.94 2.06.94-2.06 2.06-.94-2.06-.94-.94-2.06-.94 2.06-2.06.94zm-11 1L8.5 8.5l.94-2.06 2.06-.94-2.06-.94L8.5 2.5l-.94 2.06-2.06.94zm10 10l.94 2.06.94-2.06 2.06-.94-2.06-.94-.94-2.06-.94 2.06-2.06.94z\"/><path d=\"M17.41 7.96l-1.37-1.37c-.4-.4-.92-.59-1.43-.59-.52 0-1.04.2-1.43.59L10.3 9.45l-7.72 7.72c-.78.78-.78 2.05 0 2.83L4 21.41c.39.39.9.59 1.41.59.51 0 1.02-.2 1.41-.59l7.78-7.78 2.81-2.81c.8-.78.8-2.07 0-2.86zM5.41 20L4 18.59l7.72-7.72 1.47 1.35L5.41 20z\"/>\n",
              "  </svg>\n",
              "      </button>\n",
              "      \n",
              "  <style>\n",
              "    .colab-df-container {\n",
              "      display:flex;\n",
              "      flex-wrap:wrap;\n",
              "      gap: 12px;\n",
              "    }\n",
              "\n",
              "    .colab-df-convert {\n",
              "      background-color: #E8F0FE;\n",
              "      border: none;\n",
              "      border-radius: 50%;\n",
              "      cursor: pointer;\n",
              "      display: none;\n",
              "      fill: #1967D2;\n",
              "      height: 32px;\n",
              "      padding: 0 0 0 0;\n",
              "      width: 32px;\n",
              "    }\n",
              "\n",
              "    .colab-df-convert:hover {\n",
              "      background-color: #E2EBFA;\n",
              "      box-shadow: 0px 1px 2px rgba(60, 64, 67, 0.3), 0px 1px 3px 1px rgba(60, 64, 67, 0.15);\n",
              "      fill: #174EA6;\n",
              "    }\n",
              "\n",
              "    [theme=dark] .colab-df-convert {\n",
              "      background-color: #3B4455;\n",
              "      fill: #D2E3FC;\n",
              "    }\n",
              "\n",
              "    [theme=dark] .colab-df-convert:hover {\n",
              "      background-color: #434B5C;\n",
              "      box-shadow: 0px 1px 3px 1px rgba(0, 0, 0, 0.15);\n",
              "      filter: drop-shadow(0px 1px 2px rgba(0, 0, 0, 0.3));\n",
              "      fill: #FFFFFF;\n",
              "    }\n",
              "  </style>\n",
              "\n",
              "      <script>\n",
              "        const buttonEl =\n",
              "          document.querySelector('#df-46bea332-ba86-411a-9b26-7d925738688d button.colab-df-convert');\n",
              "        buttonEl.style.display =\n",
              "          google.colab.kernel.accessAllowed ? 'block' : 'none';\n",
              "\n",
              "        async function convertToInteractive(key) {\n",
              "          const element = document.querySelector('#df-46bea332-ba86-411a-9b26-7d925738688d');\n",
              "          const dataTable =\n",
              "            await google.colab.kernel.invokeFunction('convertToInteractive',\n",
              "                                                     [key], {});\n",
              "          if (!dataTable) return;\n",
              "\n",
              "          const docLinkHtml = 'Like what you see? Visit the ' +\n",
              "            '<a target=\"_blank\" href=https://colab.research.google.com/notebooks/data_table.ipynb>data table notebook</a>'\n",
              "            + ' to learn more about interactive tables.';\n",
              "          element.innerHTML = '';\n",
              "          dataTable['output_type'] = 'display_data';\n",
              "          await google.colab.output.renderOutput(dataTable, element);\n",
              "          const docLink = document.createElement('div');\n",
              "          docLink.innerHTML = docLinkHtml;\n",
              "          element.appendChild(docLink);\n",
              "        }\n",
              "      </script>\n",
              "    </div>\n",
              "  </div>\n",
              "  "
            ]
          },
          "metadata": {},
          "execution_count": 198
        }
      ]
    },
    {
      "cell_type": "markdown",
      "source": [],
      "metadata": {
        "id": "MIhkufDrIdlF"
      }
    },
    {
      "cell_type": "code",
      "source": [],
      "metadata": {
        "id": "fl-sDq60IcVO"
      },
      "execution_count": null,
      "outputs": []
    },
    {
      "cell_type": "markdown",
      "source": [
        "### **Feature Engineering**\n",
        "Let's create a new column time_since_creation and Seasonality.\n",
        "We will consider the year of data collection, 2022, as the baseline.\n"
      ],
      "metadata": {
        "id": "ljSxRc4HFecQ"
      }
    },
    {
      "cell_type": "markdown",
      "source": [
        "### time_since_creation"
      ],
      "metadata": {
        "id": "QGLWazrpGZkj"
      }
    },
    {
      "cell_type": "code",
      "source": [
        "# Convert 'creation_date' to datetime type if it's not already\n",
        "df1['creation_date'] = pd.to_datetime(df1['creation_date'], errors='coerce')\n",
        "\n",
        "# Calculate the time difference between 'creation_date' and current date\n",
        "current_date = pd.Timestamp.now()\n",
        "df1['time_since_creation'] = (current_date - df1['creation_date']).dt.days"
      ],
      "metadata": {
        "id": "i2rycL3-F_Uc"
      },
      "execution_count": 199,
      "outputs": []
    },
    {
      "cell_type": "markdown",
      "source": [
        "### Seasonality"
      ],
      "metadata": {
        "id": "N8r9Tg6HGTD_"
      }
    },
    {
      "cell_type": "code",
      "source": [
        "# Extract the month and create binary seasonality features\n",
        "df1['month'] = df1['creation_date'].dt.month\n",
        "\n",
        "# Create binary seasonality features\n",
        "df1['is_winter'] = df1['month'].isin([12, 1, 2]).astype(int)\n",
        "df1['is_spring'] = df1['month'].isin([3, 4, 5]).astype(int)\n",
        "df1['is_summer'] = df1['month'].isin([6, 7, 8]).astype(int)\n",
        "df1['is_autumn'] = df1['month'].isin([9, 10, 11]).astype(int)\n"
      ],
      "metadata": {
        "id": "Ca97OfnmGXJF"
      },
      "execution_count": 200,
      "outputs": []
    },
    {
      "cell_type": "code",
      "source": [
        "df1.head()"
      ],
      "metadata": {
        "colab": {
          "base_uri": "https://localhost:8080/",
          "height": 507
        },
        "id": "ibyvt_UVGipz",
        "outputId": "8a2133b4-6805-4f73-ff22-fca4028ea399"
      },
      "execution_count": 201,
      "outputs": [
        {
          "output_type": "execute_result",
          "data": {
            "text/plain": [
              "                                     product_details        asin  \\\n",
              "0  ($) Nutrili Marine Collagen Shots (20) | Hair,...  B09YD7RHC2   \n",
              "1  ($) Swisse Beauty Collagen Glow Powder with 25...  B08NDYTG3D   \n",
              "2       ($) Snaktive Collagen Chocolate - 6x40g bars  B0B9SWK8XQ   \n",
              "3  Youtheory Collagen Advanced with Vitamin C, 12...  B006VAZYLS   \n",
              "4        Neocell Super Collagen PlUS C - 250 Tablets  B00028NGEC   \n",
              "\n",
              "                                         url  \\\n",
              "0  https://www.amazon.ae/dp/B09YD7RHC2?psc=1   \n",
              "1  https://www.amazon.ae/dp/B08NDYTG3D?psc=1   \n",
              "2  https://www.amazon.ae/dp/B0B9SWK8XQ?psc=1   \n",
              "3  https://www.amazon.ae/dp/B006VAZYLS?psc=1   \n",
              "4  https://www.amazon.ae/dp/B00028NGEC?psc=1   \n",
              "\n",
              "                                           image_url      brand  price_aed  \\\n",
              "0  https://m.media-amazon.com/images/I/61asHjsoyP...    Nutrili     295.00   \n",
              "1  https://m.media-amazon.com/images/I/71VnTFRUH4...     Swisse     144.00   \n",
              "2  https://m.media-amazon.com/images/I/61Id91ioPE...   SNAKTIVE      60.00   \n",
              "3  https://m.media-amazon.com/images/I/71m5dU+vK4...  Youtheory      60.37   \n",
              "4  https://m.media-amazon.com/images/I/71TDUkdGRZ...    Neocell     135.00   \n",
              "\n",
              "   sales  revenue     bsr  fees_aed  ...  weight  creation_date  \\\n",
              "0   88.0  444.464     811     52.75  ...    1.72     2022-04-20   \n",
              "1    5.0  720.000  23,351     29.60  ...    0.37            NaT   \n",
              "2    4.0  240.000  26,620     16.50  ...    0.55            NaT   \n",
              "3   89.0  444.464     753     17.00  ...    0.42            NaT   \n",
              "4  542.0  444.464     200     28.25  ...    0.66     2019-03-06   \n",
              "\n",
              "  is_missing_date    year  time_since_creation month is_winter is_spring  \\\n",
              "0           False  2022.0                393.0   4.0         0         1   \n",
              "1            True     NaN                  NaN   NaN         0         0   \n",
              "2            True     NaN                  NaN   NaN         0         0   \n",
              "3            True     NaN                  NaN   NaN         0         0   \n",
              "4           False  2019.0               1534.0   3.0         0         1   \n",
              "\n",
              "  is_summer is_autumn  \n",
              "0         0         0  \n",
              "1         0         0  \n",
              "2         0         0  \n",
              "3         0         0  \n",
              "4         0         0  \n",
              "\n",
              "[5 rows x 30 columns]"
            ],
            "text/html": [
              "\n",
              "  <div id=\"df-0a58fc2d-bb83-4296-93e4-5afbe11625cf\">\n",
              "    <div class=\"colab-df-container\">\n",
              "      <div>\n",
              "<style scoped>\n",
              "    .dataframe tbody tr th:only-of-type {\n",
              "        vertical-align: middle;\n",
              "    }\n",
              "\n",
              "    .dataframe tbody tr th {\n",
              "        vertical-align: top;\n",
              "    }\n",
              "\n",
              "    .dataframe thead th {\n",
              "        text-align: right;\n",
              "    }\n",
              "</style>\n",
              "<table border=\"1\" class=\"dataframe\">\n",
              "  <thead>\n",
              "    <tr style=\"text-align: right;\">\n",
              "      <th></th>\n",
              "      <th>product_details</th>\n",
              "      <th>asin</th>\n",
              "      <th>url</th>\n",
              "      <th>image_url</th>\n",
              "      <th>brand</th>\n",
              "      <th>price_aed</th>\n",
              "      <th>sales</th>\n",
              "      <th>revenue</th>\n",
              "      <th>bsr</th>\n",
              "      <th>fees_aed</th>\n",
              "      <th>...</th>\n",
              "      <th>weight</th>\n",
              "      <th>creation_date</th>\n",
              "      <th>is_missing_date</th>\n",
              "      <th>year</th>\n",
              "      <th>time_since_creation</th>\n",
              "      <th>month</th>\n",
              "      <th>is_winter</th>\n",
              "      <th>is_spring</th>\n",
              "      <th>is_summer</th>\n",
              "      <th>is_autumn</th>\n",
              "    </tr>\n",
              "  </thead>\n",
              "  <tbody>\n",
              "    <tr>\n",
              "      <th>0</th>\n",
              "      <td>($) Nutrili Marine Collagen Shots (20) | Hair,...</td>\n",
              "      <td>B09YD7RHC2</td>\n",
              "      <td>https://www.amazon.ae/dp/B09YD7RHC2?psc=1</td>\n",
              "      <td>https://m.media-amazon.com/images/I/61asHjsoyP...</td>\n",
              "      <td>Nutrili</td>\n",
              "      <td>295.00</td>\n",
              "      <td>88.0</td>\n",
              "      <td>444.464</td>\n",
              "      <td>811</td>\n",
              "      <td>52.75</td>\n",
              "      <td>...</td>\n",
              "      <td>1.72</td>\n",
              "      <td>2022-04-20</td>\n",
              "      <td>False</td>\n",
              "      <td>2022.0</td>\n",
              "      <td>393.0</td>\n",
              "      <td>4.0</td>\n",
              "      <td>0</td>\n",
              "      <td>1</td>\n",
              "      <td>0</td>\n",
              "      <td>0</td>\n",
              "    </tr>\n",
              "    <tr>\n",
              "      <th>1</th>\n",
              "      <td>($) Swisse Beauty Collagen Glow Powder with 25...</td>\n",
              "      <td>B08NDYTG3D</td>\n",
              "      <td>https://www.amazon.ae/dp/B08NDYTG3D?psc=1</td>\n",
              "      <td>https://m.media-amazon.com/images/I/71VnTFRUH4...</td>\n",
              "      <td>Swisse</td>\n",
              "      <td>144.00</td>\n",
              "      <td>5.0</td>\n",
              "      <td>720.000</td>\n",
              "      <td>23,351</td>\n",
              "      <td>29.60</td>\n",
              "      <td>...</td>\n",
              "      <td>0.37</td>\n",
              "      <td>NaT</td>\n",
              "      <td>True</td>\n",
              "      <td>NaN</td>\n",
              "      <td>NaN</td>\n",
              "      <td>NaN</td>\n",
              "      <td>0</td>\n",
              "      <td>0</td>\n",
              "      <td>0</td>\n",
              "      <td>0</td>\n",
              "    </tr>\n",
              "    <tr>\n",
              "      <th>2</th>\n",
              "      <td>($) Snaktive Collagen Chocolate - 6x40g bars</td>\n",
              "      <td>B0B9SWK8XQ</td>\n",
              "      <td>https://www.amazon.ae/dp/B0B9SWK8XQ?psc=1</td>\n",
              "      <td>https://m.media-amazon.com/images/I/61Id91ioPE...</td>\n",
              "      <td>SNAKTIVE</td>\n",
              "      <td>60.00</td>\n",
              "      <td>4.0</td>\n",
              "      <td>240.000</td>\n",
              "      <td>26,620</td>\n",
              "      <td>16.50</td>\n",
              "      <td>...</td>\n",
              "      <td>0.55</td>\n",
              "      <td>NaT</td>\n",
              "      <td>True</td>\n",
              "      <td>NaN</td>\n",
              "      <td>NaN</td>\n",
              "      <td>NaN</td>\n",
              "      <td>0</td>\n",
              "      <td>0</td>\n",
              "      <td>0</td>\n",
              "      <td>0</td>\n",
              "    </tr>\n",
              "    <tr>\n",
              "      <th>3</th>\n",
              "      <td>Youtheory Collagen Advanced with Vitamin C, 12...</td>\n",
              "      <td>B006VAZYLS</td>\n",
              "      <td>https://www.amazon.ae/dp/B006VAZYLS?psc=1</td>\n",
              "      <td>https://m.media-amazon.com/images/I/71m5dU+vK4...</td>\n",
              "      <td>Youtheory</td>\n",
              "      <td>60.37</td>\n",
              "      <td>89.0</td>\n",
              "      <td>444.464</td>\n",
              "      <td>753</td>\n",
              "      <td>17.00</td>\n",
              "      <td>...</td>\n",
              "      <td>0.42</td>\n",
              "      <td>NaT</td>\n",
              "      <td>True</td>\n",
              "      <td>NaN</td>\n",
              "      <td>NaN</td>\n",
              "      <td>NaN</td>\n",
              "      <td>0</td>\n",
              "      <td>0</td>\n",
              "      <td>0</td>\n",
              "      <td>0</td>\n",
              "    </tr>\n",
              "    <tr>\n",
              "      <th>4</th>\n",
              "      <td>Neocell Super Collagen PlUS C - 250 Tablets</td>\n",
              "      <td>B00028NGEC</td>\n",
              "      <td>https://www.amazon.ae/dp/B00028NGEC?psc=1</td>\n",
              "      <td>https://m.media-amazon.com/images/I/71TDUkdGRZ...</td>\n",
              "      <td>Neocell</td>\n",
              "      <td>135.00</td>\n",
              "      <td>542.0</td>\n",
              "      <td>444.464</td>\n",
              "      <td>200</td>\n",
              "      <td>28.25</td>\n",
              "      <td>...</td>\n",
              "      <td>0.66</td>\n",
              "      <td>2019-03-06</td>\n",
              "      <td>False</td>\n",
              "      <td>2019.0</td>\n",
              "      <td>1534.0</td>\n",
              "      <td>3.0</td>\n",
              "      <td>0</td>\n",
              "      <td>1</td>\n",
              "      <td>0</td>\n",
              "      <td>0</td>\n",
              "    </tr>\n",
              "  </tbody>\n",
              "</table>\n",
              "<p>5 rows × 30 columns</p>\n",
              "</div>\n",
              "      <button class=\"colab-df-convert\" onclick=\"convertToInteractive('df-0a58fc2d-bb83-4296-93e4-5afbe11625cf')\"\n",
              "              title=\"Convert this dataframe to an interactive table.\"\n",
              "              style=\"display:none;\">\n",
              "        \n",
              "  <svg xmlns=\"http://www.w3.org/2000/svg\" height=\"24px\"viewBox=\"0 0 24 24\"\n",
              "       width=\"24px\">\n",
              "    <path d=\"M0 0h24v24H0V0z\" fill=\"none\"/>\n",
              "    <path d=\"M18.56 5.44l.94 2.06.94-2.06 2.06-.94-2.06-.94-.94-2.06-.94 2.06-2.06.94zm-11 1L8.5 8.5l.94-2.06 2.06-.94-2.06-.94L8.5 2.5l-.94 2.06-2.06.94zm10 10l.94 2.06.94-2.06 2.06-.94-2.06-.94-.94-2.06-.94 2.06-2.06.94z\"/><path d=\"M17.41 7.96l-1.37-1.37c-.4-.4-.92-.59-1.43-.59-.52 0-1.04.2-1.43.59L10.3 9.45l-7.72 7.72c-.78.78-.78 2.05 0 2.83L4 21.41c.39.39.9.59 1.41.59.51 0 1.02-.2 1.41-.59l7.78-7.78 2.81-2.81c.8-.78.8-2.07 0-2.86zM5.41 20L4 18.59l7.72-7.72 1.47 1.35L5.41 20z\"/>\n",
              "  </svg>\n",
              "      </button>\n",
              "      \n",
              "  <style>\n",
              "    .colab-df-container {\n",
              "      display:flex;\n",
              "      flex-wrap:wrap;\n",
              "      gap: 12px;\n",
              "    }\n",
              "\n",
              "    .colab-df-convert {\n",
              "      background-color: #E8F0FE;\n",
              "      border: none;\n",
              "      border-radius: 50%;\n",
              "      cursor: pointer;\n",
              "      display: none;\n",
              "      fill: #1967D2;\n",
              "      height: 32px;\n",
              "      padding: 0 0 0 0;\n",
              "      width: 32px;\n",
              "    }\n",
              "\n",
              "    .colab-df-convert:hover {\n",
              "      background-color: #E2EBFA;\n",
              "      box-shadow: 0px 1px 2px rgba(60, 64, 67, 0.3), 0px 1px 3px 1px rgba(60, 64, 67, 0.15);\n",
              "      fill: #174EA6;\n",
              "    }\n",
              "\n",
              "    [theme=dark] .colab-df-convert {\n",
              "      background-color: #3B4455;\n",
              "      fill: #D2E3FC;\n",
              "    }\n",
              "\n",
              "    [theme=dark] .colab-df-convert:hover {\n",
              "      background-color: #434B5C;\n",
              "      box-shadow: 0px 1px 3px 1px rgba(0, 0, 0, 0.15);\n",
              "      filter: drop-shadow(0px 1px 2px rgba(0, 0, 0, 0.3));\n",
              "      fill: #FFFFFF;\n",
              "    }\n",
              "  </style>\n",
              "\n",
              "      <script>\n",
              "        const buttonEl =\n",
              "          document.querySelector('#df-0a58fc2d-bb83-4296-93e4-5afbe11625cf button.colab-df-convert');\n",
              "        buttonEl.style.display =\n",
              "          google.colab.kernel.accessAllowed ? 'block' : 'none';\n",
              "\n",
              "        async function convertToInteractive(key) {\n",
              "          const element = document.querySelector('#df-0a58fc2d-bb83-4296-93e4-5afbe11625cf');\n",
              "          const dataTable =\n",
              "            await google.colab.kernel.invokeFunction('convertToInteractive',\n",
              "                                                     [key], {});\n",
              "          if (!dataTable) return;\n",
              "\n",
              "          const docLinkHtml = 'Like what you see? Visit the ' +\n",
              "            '<a target=\"_blank\" href=https://colab.research.google.com/notebooks/data_table.ipynb>data table notebook</a>'\n",
              "            + ' to learn more about interactive tables.';\n",
              "          element.innerHTML = '';\n",
              "          dataTable['output_type'] = 'display_data';\n",
              "          await google.colab.output.renderOutput(dataTable, element);\n",
              "          const docLink = document.createElement('div');\n",
              "          docLink.innerHTML = docLinkHtml;\n",
              "          element.appendChild(docLink);\n",
              "        }\n",
              "      </script>\n",
              "    </div>\n",
              "  </div>\n",
              "  "
            ]
          },
          "metadata": {},
          "execution_count": 201
        }
      ]
    }
  ]
}